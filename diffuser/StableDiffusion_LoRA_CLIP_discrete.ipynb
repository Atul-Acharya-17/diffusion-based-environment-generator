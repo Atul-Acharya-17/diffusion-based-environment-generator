{
  "cells": [
    {
      "cell_type": "code",
      "execution_count": 2,
      "id": "af842a4b-30e4-469d-b315-e5405730df14",
      "metadata": {
        "colab": {
          "base_uri": "https://localhost:8080/"
        },
        "id": "af842a4b-30e4-469d-b315-e5405730df14",
        "outputId": "27b5603e-40f4-41f7-ef12-76808f966178"
      },
      "outputs": [],
      "source": [
        "# !pip install einops torch maze-dataset --q"
      ]
    },
    {
      "cell_type": "code",
      "execution_count": 2,
      "id": "cfa8f76c-2435-45e0-92af-e1c548bf0390",
      "metadata": {
        "id": "cfa8f76c-2435-45e0-92af-e1c548bf0390"
      },
      "outputs": [],
      "source": [
        "import os\n",
        "import re\n",
        "import numpy as np\n",
        "import torch\n",
        "import random\n",
        "import numpy as np\n",
        "import matplotlib.pyplot as plt\n",
        "\n",
        "from datetime import datetime\n",
        "from tqdm import tqdm\n",
        "from torch.nn import functional as F\n",
        "\n",
        "now = datetime.now()\n",
        "formatted_time = now.strftime(\"%Y%m%d_%H%M%S\")\n",
        "loss_curves_folder = f\"../data/loss_curves_{formatted_time}/stable_diffusion_diffusion_models\"\n",
        "# loss_curves_folder = f\"../data/lora_tests\"\n",
        "if not os.path.exists(loss_curves_folder):\n",
        "    os.makedirs(loss_curves_folder)"
      ]
    },
    {
      "cell_type": "code",
      "execution_count": 3,
      "id": "bf0f5bb1-2c86-4f19-bafe-7b7bec3a57ff",
      "metadata": {
        "colab": {
          "base_uri": "https://localhost:8080/"
        },
        "id": "bf0f5bb1-2c86-4f19-bafe-7b7bec3a57ff",
        "outputId": "5d16aa39-38b8-429f-f379-7d699ed534cb"
      },
      "outputs": [
        {
          "name": "stdout",
          "output_type": "stream",
          "text": [
            "Current working directory: /Users/I749793/Desktop/NUS/CS5340 - Uncertainty Modeling in AI/project/diffusion-based-environment-generator\n"
          ]
        }
      ],
      "source": [
        "os.chdir(\"..\")\n",
        "print(f\"Current working directory: {os.getcwd()}\")"
      ]
    },
    {
      "cell_type": "markdown",
      "id": "543d1c3c-8f5e-403d-b9a1-ce031a9587c7",
      "metadata": {
        "id": "543d1c3c-8f5e-403d-b9a1-ce031a9587c7"
      },
      "source": [
        "## Loading the Dataset"
      ]
    },
    {
      "cell_type": "code",
      "execution_count": 4,
      "id": "e7448583-863f-4043-9e54-c36788bf8b30",
      "metadata": {
        "colab": {
          "base_uri": "https://localhost:8080/"
        },
        "id": "e7448583-863f-4043-9e54-c36788bf8b30",
        "outputId": "3833d816-19ce-4bde-fce1-8c6d53584d7a",
        "scrolled": true
      },
      "outputs": [],
      "source": [
        "from generator.maze.grid_world_generator import generate_multiple_grid_worlds\n",
        "from generator.maze.solvers.a_star_l1 import main as a_star_l1_paths\n",
        "from generator.maze.solvers.bfs import main as bfs_paths\n",
        "\n",
        "# parent_directory = \"./data\"\n",
        "# if not os.path.exists(parent_directory):\n",
        "#     os.makedirs(parent_directory)\n",
        "# # generates the mazes\n",
        "# mazes = generate_multiple_grid_worlds(num_worlds=25000, parent_directory=parent_directory)\n",
        "# # generate path travrsals\n",
        "# a_star_l1_paths(parent_directory)\n",
        "# bfs_paths(parent_directory)"
      ]
    },
    {
      "cell_type": "code",
      "execution_count": 5,
      "id": "6407b36e-2b1a-49da-8fda-dc83f7bb3481",
      "metadata": {
        "colab": {
          "base_uri": "https://localhost:8080/",
          "height": 423
        },
        "id": "6407b36e-2b1a-49da-8fda-dc83f7bb3481",
        "outputId": "e65862df-98a3-4d88-9261-c7466ce34052"
      },
      "outputs": [],
      "source": [
        "# import os\n",
        "# import numpy as np\n",
        "# import torch\n",
        "# from torch.utils.data import Dataset\n",
        "# import matplotlib.pyplot as plt\n",
        "\n",
        "# def preprocess_image(image, target_size=32):\n",
        "#     image = np.array(image)\n",
        "\n",
        "#     scale_factor = target_size // image.shape[0]\n",
        "#     image = np.kron(image, np.ones((scale_factor, scale_factor, 1)))\n",
        "\n",
        "#     image = image.astype(np.float32) / 127.5 - 1\n",
        "#     image = torch.tensor(image).permute(2, 0, 1)\n",
        "#     return image\n",
        "\n",
        "# def load_dataset_from_npy(directory=\"./data\", target_size=32):\n",
        "#     images = []\n",
        "#     path_lengths = []\n",
        "\n",
        "#     files = sorted([f for f in os.listdir(directory) if f.endswith(\".npy\")])\n",
        "\n",
        "#     for file in files:\n",
        "#         img = np.load(os.path.join(directory, file))\n",
        "\n",
        "#         mask = np.all(img == [0, 0, 255], axis=-1)\n",
        "#         img[mask] = [255, 255, 255]\n",
        "#         img = img[:-1, :-1]\n",
        "\n",
        "#         image = preprocess_image(img, target_size)\n",
        "\n",
        "#         base_name = os.path.splitext(file)[0]\n",
        "#         len_filename = base_name + \"_len.txt\"\n",
        "#         len_path = os.path.join(directory, len_filename)\n",
        "\n",
        "#         with open(len_path, \"r\") as f:\n",
        "#             maze_length = int(f.read().strip())\n",
        "\n",
        "#         images.append(image)\n",
        "#         path_lengths.append(maze_length)\n",
        "\n",
        "#     return images, path_lengths\n",
        "\n",
        "# images, path_lengths = load_dataset_from_npy(\"./data\", target_size=32)\n",
        "\n",
        "# plt.imshow(images[0].permute(1, 2, 0).cpu().numpy(), cmap='gray')\n",
        "# plt.axis('off')\n",
        "# plt.show()"
      ]
    },
    {
      "cell_type": "code",
      "execution_count": 6,
      "id": "83a74713",
      "metadata": {},
      "outputs": [],
      "source": [
        "def preprocess_image(image, target_size=32):\n",
        "    image = np.array(image)\n",
        "    scale_factor = target_size // image.shape[0] \n",
        "    # image = np.kron(image, np.ones((scale_factor, scale_factor, 1))) \n",
        "    \n",
        "    # image = image.astype(np.float32) / 127.5 - 1\n",
        "    image = image.astype(np.float32)\n",
        "    image = torch.tensor(image).permute(2, 0, 1)\n",
        "    image = F.interpolate(image.unsqueeze(0), size=(target_size, target_size), mode='nearest').squeeze(0)  # (3, 32, 32)\n",
        "\n",
        "    return image\n",
        "\n",
        "def plot_grid_world(grid):\n",
        "    \"\"\"\n",
        "    Plots the given grid world.\n",
        "    \"\"\"\n",
        "    wall = grid[:,:,0] == 0\n",
        "    source = grid[:,:,1] == 1\n",
        "    destination = grid[:,:,2] == 1\n",
        "\n",
        "    img = np.ones((*wall.shape, 3), dtype=np.float32)  # White background\n",
        "    img[wall] = np.array([0, 0, 0])  # Walls → Black\n",
        "    img[source] = np.array([1, 0, 0])  # Source → Red\n",
        "    img[destination] = np.array([0, 1, 0])  # Destination → Green\n",
        "\n",
        "    return img\n",
        "\n",
        "def load_dataset_from_npy(parent_directory=\"./data\", target_size=32):\n",
        "    images = []\n",
        "    path_lengths = []\n",
        "    num_nodes_traversed_astar = []\n",
        "    num_nodes_traversed_bfs = []\n",
        "    \n",
        "    mazes_directory = os.path.join(parent_directory, \"mazes\")\n",
        "    files = sorted([f for f in os.listdir(mazes_directory) if f.endswith(\".npy\")])\n",
        "    \n",
        "    for file in files:\n",
        "        img = np.load(os.path.join(mazes_directory, file))\n",
        "        if(img.shape != (10,10,3)):\n",
        "            continue\n",
        "        # mask = np.all(img == [0, 0, 255], axis=-1)\n",
        "        # img[mask] = [255, 255, 255]\n",
        "        # img = img[:-1, :-1]\n",
        "        # image = preprocess_image(img, target_size)\n",
        "\n",
        "        image = plot_grid_world(img)\n",
        "        mask = np.all(image == [0, 0, 255], axis=-1)\n",
        "        image[mask] = [255, 255, 255]\n",
        "        image = preprocess_image(image, target_size)\n",
        "\n",
        "        pattern = r'maze_(\\d+)'\n",
        "        match = re.search(pattern, file)\n",
        "        num = 0\n",
        "        if match:\n",
        "            num = int(match.group(1))\n",
        "        else:\n",
        "            continue\n",
        "        \n",
        "        # base_name = os.path.splitext(file)[0]\n",
        "        # len_filename = base_name + \"_len.txt\"\n",
        "        len_filename = f\"path_length_{num}\" + \".npy\"\n",
        "        len_path = os.path.join(mazes_directory, len_filename)\n",
        "        astar_traversal_filename = f\"a_star_{num}\" + \".npy\"\n",
        "        astar_traversal_path = os.path.join(parent_directory, \"a_star_l1_results\" ,astar_traversal_filename)\n",
        "        bfs_traversal_filename = f\"bfs_{num}\" + \".npy\"\n",
        "        bfs_traversal_path = os.path.join(parent_directory, \"bfs_results\" ,bfs_traversal_filename)\n",
        "        \n",
        "        # with open(len_path, \"r\") as f:\n",
        "        #     maze_length = int(f.read().strip())\n",
        "        maze_length = np.load(len_path)\n",
        "        astar_traversal = np.load(astar_traversal_path)\n",
        "        bfs_traversal = np.load(bfs_traversal_path)\n",
        "        \n",
        "        images.append(image)\n",
        "        path_lengths.append(int(maze_length))\n",
        "        num_nodes_traversed_astar.append(int(astar_traversal))\n",
        "        num_nodes_traversed_bfs.append(int(bfs_traversal))\n",
        "    \n",
        "    return images, path_lengths, num_nodes_traversed_astar, num_nodes_traversed_bfs"
      ]
    },
    {
      "cell_type": "code",
      "execution_count": 7,
      "id": "73f89a5f",
      "metadata": {},
      "outputs": [],
      "source": [
        "# mazes_data_path = \"./data/\"\n",
        "# images, org_path_lengths, num_nodes_astar, num_nodes_bfs = load_dataset_from_npy(mazes_data_path, target_size=32)"
      ]
    },
    {
      "cell_type": "code",
      "execution_count": 7,
      "id": "9364d0ee",
      "metadata": {},
      "outputs": [],
      "source": [
        "# plt.imshow(images[0].permute(1, 2, 0).cpu().numpy(), cmap='gray')\n",
        "# plt.axis('off')\n",
        "# plt.show()"
      ]
    },
    {
      "cell_type": "code",
      "execution_count": 8,
      "id": "e2a04378-6293-4c79-95d0-fa6e305cba28",
      "metadata": {
        "colab": {
          "base_uri": "https://localhost:8080/"
        },
        "id": "e2a04378-6293-4c79-95d0-fa6e305cba28",
        "outputId": "1e1d158e-a42a-453d-ea90-ff6a716979fe"
      },
      "outputs": [
        {
          "name": "stdout",
          "output_type": "stream",
          "text": [
            "Current working directory: /Users/I749793/Desktop/NUS/CS5340 - Uncertainty Modeling in AI/project/diffusion-based-environment-generator/diffuser\n"
          ]
        }
      ],
      "source": [
        "# print(f\"Current working directory: {os.getcwd()}\")\n",
        "os.chdir(\"./diffuser\")\n",
        "print(f\"Current working directory: {os.getcwd()}\")"
      ]
    },
    {
      "cell_type": "markdown",
      "id": "742a775a-18e1-4d73-a304-0d951dfc05c2",
      "metadata": {
        "id": "742a775a-18e1-4d73-a304-0d951dfc05c2",
        "jp-MarkdownHeadingCollapsed": true
      },
      "source": [
        "### VAE Training"
      ]
    },
    {
      "cell_type": "code",
      "execution_count": 9,
      "id": "0b8328c6-fdf1-4599-9140-b1ee9c6cc029",
      "metadata": {
        "id": "0b8328c6-fdf1-4599-9140-b1ee9c6cc029"
      },
      "outputs": [],
      "source": [
        "from torch.utils.data import DataLoader, Dataset\n",
        "import matplotlib.pyplot as plt"
      ]
    },
    {
      "cell_type": "code",
      "execution_count": null,
      "id": "335fe85b-942c-4707-89fe-fd5e10b8214d",
      "metadata": {
        "id": "335fe85b-942c-4707-89fe-fd5e10b8214d"
      },
      "outputs": [],
      "source": [
        "# Hyperparameters\n",
        "BATCH_SIZE = 128\n",
        "LEARNING_RATE = 1e-4\n",
        "EPOCHS = 100\n",
        "LATENT_CHANNELS = 4"
      ]
    },
    {
      "cell_type": "code",
      "execution_count": 11,
      "id": "f1bd601d",
      "metadata": {},
      "outputs": [],
      "source": [
        "# class MazeTensorDataset(Dataset):\n",
        "#     def __init__(self, images, path_lengths, num_nodes_astar, num_nodes_bfs):\n",
        "#         self.images = images\n",
        "#         self.path_lengths = path_lengths\n",
        "#         self.num_nodes_astar = num_nodes_astar\n",
        "#         self.num_nodes_bfs = num_nodes_bfs\n",
        "        \n",
        "#     def __len__(self):\n",
        "#         return len(self.images)\n",
        "    \n",
        "#     def __getitem__(self, idx):\n",
        "#         return self.images[idx], self.path_lengths[idx], self.num_nodes_astar[idx], self.num_nodes_bfs[idx]\n",
        "    \n",
        "class MazeTensorDataset(Dataset):\n",
        "    def __init__(self, images, path_lengths, num_nodes_astar, num_nodes_bfs):\n",
        "        self.images = images\n",
        "        self.path_lengths = path_lengths\n",
        "        self.num_nodes_astar = num_nodes_astar\n",
        "        self.num_nodes_bfs = num_nodes_bfs\n",
        "        \n",
        "    def __len__(self):\n",
        "        return len(self.images)\n",
        "    \n",
        "    def __getitem__(self, idx):\n",
        "        prompt = \"a maze with path length \" + str(self.path_lengths[idx]) + \", and number of nodes traversed using astar algorithm \" + str(self.num_nodes_astar[idx])\n",
        "        return self.images[idx], prompt"
      ]
    },
    {
      "cell_type": "code",
      "execution_count": 12,
      "id": "5984963c-d4d5-402c-bae4-4b79276425f3",
      "metadata": {
        "colab": {
          "base_uri": "https://localhost:8080/"
        },
        "id": "5984963c-d4d5-402c-bae4-4b79276425f3",
        "outputId": "0c7d727d-5507-4e0b-c336-168d6ced665b"
      },
      "outputs": [],
      "source": [
        "# print(\"Total images:\", len(images))\n",
        "# print(\"Total path_lengths:\", len(path_lengths))\n",
        "\n",
        "# total = len(images)\n",
        "# test_size = int(0.2 * total)\n",
        "# all_indices = list(range(total))\n",
        "# random.shuffle(all_indices)\n",
        "\n",
        "# test_indices = all_indices[:test_size]\n",
        "# train_indices = all_indices[test_size:]\n",
        "\n",
        "# train_images = [images[i] for i in train_indices]\n",
        "# train_path_lengths = [path_lengths[i] for i in train_indices]\n",
        "\n",
        "# test_images = [images[i] for i in test_indices]\n",
        "# test_path_lengths = [path_lengths[i] for i in test_indices]\n",
        "\n",
        "# dataset = MazeTensorDataset(train_images, train_path_lengths)\n",
        "# test_dataset = MazeTensorDataset(test_images, test_path_lengths)\n",
        "\n",
        "# print(\"Train dataset length:\", len(dataset))\n",
        "# print(\"Test dataset length:\", len(test_dataset))\n",
        "\n",
        "# dataloader = DataLoader(dataset, batch_size=BATCH_SIZE, shuffle=True)\n",
        "\n",
        "# unique_train_paths = set(train_path_lengths)\n",
        "# print(\"Unique training path lengths:\", unique_train_paths)\n",
        "# print(\"Number of unique training paths:\", len(unique_train_paths))\n",
        "\n",
        "# unique_test_paths = set(test_path_lengths)\n",
        "# print(\"Unique test path lengths:\", unique_test_paths)\n",
        "# print(\"Number of unique test paths:\", len(unique_test_paths))"
      ]
    },
    {
      "cell_type": "code",
      "execution_count": 13,
      "id": "960b6cda",
      "metadata": {},
      "outputs": [],
      "source": [
        "# path_lengths = org_path_lengths\n",
        "\n",
        "# ## use the scaled path lengths based on the number of nodes traversed\n",
        "# # path_lengths = [a / b if b!=0 else a for a, b in zip(path_lengths, num_nodes_astar)]\n",
        "# # path_lengths = [a / b if b!=0 else a for a, b in zip(path_lengths, num_nodes_bfs)]\n",
        "\n",
        "# print(\"Total images:\", len(images))\n",
        "# print(\"Total path_lengths:\", len(path_lengths))\n",
        "\n",
        "# total = len(images)\n",
        "# test_size = int(0.2 * total)\n",
        "# all_indices = list(range(total))\n",
        "# random.shuffle(all_indices)\n",
        "\n",
        "# test_indices = all_indices[:test_size]\n",
        "# train_indices = all_indices[test_size:]\n",
        "\n",
        "# train_images = [images[i] for i in train_indices]\n",
        "# train_path_lengths = [path_lengths[i] for i in train_indices]\n",
        "# train_num_nodes_astar = [num_nodes_astar[i] for i in train_indices]\n",
        "# train_num_nodes_bfs = [num_nodes_bfs[i] for i in train_indices]\n",
        "\n",
        "# test_images = [images[i] for i in test_indices]\n",
        "# test_path_lengths = [path_lengths[i] for i in test_indices]\n",
        "# test_num_nodes_astar = [num_nodes_astar[i] for i in test_indices]\n",
        "# test_num_nodes_bfs = [num_nodes_bfs[i] for i in test_indices]\n",
        "\n",
        "# dataset = MazeTensorDataset(train_images, train_path_lengths, train_num_nodes_astar, train_num_nodes_bfs)\n",
        "# test_dataset = MazeTensorDataset(test_images, test_path_lengths, test_num_nodes_astar, test_num_nodes_bfs)\n",
        "\n",
        "# print(\"Train dataset length:\", len(dataset))\n",
        "# print(\"Test dataset length:\", len(test_dataset))\n",
        "\n",
        "# dataloader = DataLoader(dataset, batch_size=BATCH_SIZE, shuffle=True)\n",
        "\n",
        "# unique_train_paths = set(train_path_lengths)\n",
        "# print(\"Unique training path lengths:\", unique_train_paths)\n",
        "# print(\"Number of unique training paths:\", len(unique_train_paths))\n",
        "\n",
        "# unique_test_paths = set(test_path_lengths)\n",
        "# print(\"Unique test path lengths:\", unique_test_paths)\n",
        "# print(\"Number of unique test paths:\", len(unique_test_paths))"
      ]
    },
    {
      "cell_type": "code",
      "execution_count": 19,
      "id": "0e98f779",
      "metadata": {},
      "outputs": [],
      "source": [
        "# import safetensors\n",
        "# print(safetensors.__file__)\n",
        "\n",
        "# from safetensors.torch import save_file, load_file\n",
        "# print(\"Success!\")\n",
        "\n",
        "import os\n",
        "import numpy as np\n",
        "import torch\n",
        "from torch.utils.data import Dataset\n",
        "\n",
        "class MazeDataset(Dataset):\n",
        "    def __init__(self, root):\n",
        "        self.grid_dir = os.path.join(root, 'mazes')\n",
        "        self.path_length_dir = os.path.join(root, 'mazes')\n",
        "        self.astar_dir = os.path.join(root, 'a_star_l1_results')\n",
        "\n",
        "        self.indices = []\n",
        "\n",
        "        for fname in os.listdir(self.grid_dir):\n",
        "            if fname.endswith('.npy') and fname.startswith('maze_'):\n",
        "                idx = fname.split('.')[0].split('_')[-1]\n",
        "                path_file = f'path_length_{idx}.npy'\n",
        "                astar_file = f'a_star_{idx}.npy'\n",
        "\n",
        "                if os.path.exists(os.path.join(self.path_length_dir, path_file)) and \\\n",
        "                   os.path.exists(os.path.join(self.astar_dir, astar_file)):\n",
        "                    self.indices.append(idx)\n",
        "\n",
        "    def __len__(self):\n",
        "        return len(self.indices)\n",
        "\n",
        "    def __getitem__(self, i):\n",
        "        idx = self.indices[i]\n",
        "\n",
        "        # Load grid (maze)\n",
        "        grid_path = os.path.join(self.grid_dir, f'maze_{idx}.npy')\n",
        "        maze = np.load(grid_path)\n",
        "        maze = torch.tensor(maze, dtype=torch.float32)  # assuming [H, W, 3]\n",
        "        maze = maze.permute(2, 0, 1)\n",
        "\n",
        "        # Load scalar values\n",
        "        path_length = np.load(os.path.join(self.path_length_dir, f'path_length_{idx}.npy')).item()\n",
        "        a_star = np.load(os.path.join(self.astar_dir, f'a_star_{idx}.npy')).item()\n",
        "\n",
        "        # Compute difficulty\n",
        "        difficulty = a_star / (max(path_length, 1))\n",
        "        difficulty = torch.tensor(difficulty, dtype=torch.float32)\n",
        "        prompt = f\"a maze with difficulty {difficulty.item()}\"\n",
        "        return maze, prompt\n",
        "\n",
        "\n",
        "current_directory = os.getcwd()\n",
        "mazes_data_path = os.path.join(os.path.dirname(current_directory), \"data\")\n",
        "dataset = MazeDataset(root=mazes_data_path)\n",
        "dataloader = DataLoader(dataset, batch_size=BATCH_SIZE, shuffle=True)"
      ]
    },
    {
      "cell_type": "code",
      "execution_count": 20,
      "id": "37e80c38",
      "metadata": {},
      "outputs": [
        {
          "name": "stdout",
          "output_type": "stream",
          "text": [
            "Using device: cpu\n"
          ]
        }
      ],
      "source": [
        "import torch\n",
        "import torch.nn as nn\n",
        "import torch.optim as optim\n",
        "from diffusers import AutoencoderKL\n",
        "\n",
        "# Device setup\n",
        "device = torch.device(\"cuda\" if torch.cuda.is_available() else \"cpu\")\n",
        "print(f\"Using device: {device}\")\n",
        "\n",
        "# Load Stable Diffusion's pre-trained VAE\n",
        "vae = AutoencoderKL.from_pretrained(\"runwayml/stable-diffusion-v1-5\", subfolder=\"vae\").to(device)\n",
        "# vae_checkpoint = torch.load(\"/Users/I749793/Desktop/NUS/CS5340 - Uncertainty Modeling in AI/project/diffusion-based-environment-generator/data/stablediffusion_weights.pth\", map_location=device)  # or \"cuda\" if you want\n",
        "# vae_checkpoint = torch.load(\"../data/vae_models/stablediffusion_vae_weights.pth\", map_location=device)  # or \"cuda\" if you want\n",
        "# vae_state_dict = vae_checkpoint['diffusion_state_dict']\n",
        "# vae.load_state_dict(vae_state_dict)\n",
        "optimizer = optim.Adam(vae.parameters(), lr=1e-4)\n",
        "criterion = nn.MSELoss()\n",
        "# loading pretrained vae instead"
      ]
    },
    {
      "cell_type": "code",
      "execution_count": null,
      "id": "qd7ioKYDO15-",
      "metadata": {
        "colab": {
          "base_uri": "https://localhost:8080/"
        },
        "id": "qd7ioKYDO15-",
        "outputId": "00753a60-c6d7-4d6b-c878-343ffc7c2bb2"
      },
      "outputs": [
        {
          "name": "stdout",
          "output_type": "stream",
          "text": [
            "Epoch 1/2\n"
          ]
        },
        {
          "name": "stderr",
          "output_type": "stream",
          "text": [
            "8it [00:29,  3.66s/it]\n"
          ]
        },
        {
          "name": "stdout",
          "output_type": "stream",
          "text": [
            "Epoch [1/2], Loss: 0.139053\n",
            "Epoch 2/2\n"
          ]
        },
        {
          "name": "stderr",
          "output_type": "stream",
          "text": [
            "8it [00:26,  3.35s/it]"
          ]
        },
        {
          "name": "stdout",
          "output_type": "stream",
          "text": [
            "Epoch [2/2], Loss: 0.136327\n"
          ]
        },
        {
          "name": "stderr",
          "output_type": "stream",
          "text": [
            "\n"
          ]
        }
      ],
      "source": [
        "train_losses = []\n",
        "# ---- Training Loop ---- #\n",
        "def train_vae(dataloader, epochs=50):\n",
        "    vae.train()\n",
        "    for epoch in range(epochs):\n",
        "        print(f\"Epoch {epoch + 1}/{epochs}\")\n",
        "        total_loss = 0.0\n",
        "        for i, (images, _,) in tqdm(enumerate(dataloader)):\n",
        "            images = images.to(device)  # Input maze images (shape: B x 3 x 256 x 256)\n",
        "\n",
        "            # Forward pass\n",
        "            latent_dist = vae.encode(images).latent_dist\n",
        "            latent_sample = latent_dist.sample()\n",
        "            reconstructed_images = vae.decode(latent_sample).sample\n",
        "            reconstructed_images = F.pad(reconstructed_images, (1, 1, 1, 1)) \n",
        "\n",
        "            # Loss computation\n",
        "            loss = criterion(reconstructed_images, images)\n",
        "\n",
        "            # Backward pass and optimization\n",
        "            optimizer.zero_grad()\n",
        "            loss.backward()\n",
        "            optimizer.step()\n",
        "\n",
        "            total_loss += loss.item()\n",
        "\n",
        "        avg_loss = total_loss / len(dataloader)\n",
        "        train_losses.append(avg_loss)\n",
        "        print(f\"Epoch [{epoch + 1}/{epochs}], Loss: {avg_loss:.6f}\")\n",
        "\n",
        "train_vae(dataloader, epochs=EPOCHS)\n"
      ]
    },
    {
      "cell_type": "code",
      "execution_count": 18,
      "id": "Y7ye83uDSOUQ",
      "metadata": {
        "id": "Y7ye83uDSOUQ"
      },
      "outputs": [],
      "source": [
        "# torch.save({\n",
        "#     'diffusion_state_dict': vae.state_dict(),\n",
        "#     'optimizer_state_dict': optimizer.state_dict(),\n",
        "#     'train_losses': train_losses\n",
        "# }, 'diffusion_weights.pth')\n",
        "# print(\"Diffusion weights saved to diffusion_weights.pth\")"
      ]
    },
    {
      "cell_type": "code",
      "execution_count": 19,
      "id": "c87ee58e",
      "metadata": {},
      "outputs": [],
      "source": [
        "# Save Model Weights\n",
        "if not os.path.exists(f\"../data/loss_curves_{formatted_time}/stable_diffusion_vae_models/\"):\n",
        "    os.makedirs(f\"../data/loss_curves_{formatted_time}/stable_diffusion_vae_models/\")\n",
        "torch.save({\n",
        "    'diffusion_state_dict': vae.state_dict(),\n",
        "    'optimizer_state_dict': optimizer.state_dict(),\n",
        "    'train_losses': train_losses,\n",
        "}, f'../data/loss_curves_{formatted_time}/stable_diffusion_vae_models/vae_weights_multi_feat.pth')\n",
        "\n",
        "print(\"Model weights saved to vae_weights_multi_feat.pth\")"
      ]
    },
    {
      "cell_type": "markdown",
      "id": "cd28e29c",
      "metadata": {},
      "source": [
        "### VAE Testing"
      ]
    },
    {
      "cell_type": "code",
      "execution_count": 20,
      "id": "SlkhuVYMSspV",
      "metadata": {
        "colab": {
          "base_uri": "https://localhost:8080/",
          "height": 446
        },
        "id": "SlkhuVYMSspV",
        "outputId": "dc812d14-0cd7-4948-e9dc-6bc2fe0d00df"
      },
      "outputs": [],
      "source": [
        "# vae.eval()\n",
        "# def generate_maze_from_test(sample_idx=None):\n",
        "\n",
        "#     if sample_idx is None:\n",
        "#         sample_idx = random.randint(0, len(test_dataset) - 1)\n",
        "\n",
        "#     test_img, test_path_length, = test_dataset[sample_idx]  # Load test maze\n",
        "#     test_img = test_img.unsqueeze(0).to(device)  # Add batch dimension\n",
        "\n",
        "#     # Encode test maze image into latent space\n",
        "#     with torch.no_grad():\n",
        "#         latent_dist = vae.encode(test_img).latent_dist\n",
        "#         latent_sample = latent_dist.sample()  # Sample from the distribution\n",
        "\n",
        "#         # Decode latent back to an image\n",
        "#         generated_image = vae.decode(latent_sample).sample\n",
        "\n",
        "#     return generated_image, test_img, test_path_length\n",
        "\n",
        "# # Run test generation\n",
        "# generated, original, test_path_length = generate_maze_from_test()\n",
        "\n",
        "# # ---- Visualization ---- #\n",
        "# plt.figure(figsize=(10, 5))\n",
        "\n",
        "# plt.subplot(1, 2, 1)\n",
        "# plt.imshow(generated.squeeze(0).permute(1, 2, 0).cpu().numpy(), cmap='gray')\n",
        "# plt.title(f\"Generated Maze (Path Length: {test_path_length})\")\n",
        "# plt.axis(\"off\")\n",
        "\n",
        "# plt.subplot(1, 2, 2)\n",
        "# plt.imshow(original.squeeze(0).permute(1, 2, 0).cpu().numpy(), cmap='gray')\n",
        "# plt.title(\"Original Test Maze\")\n",
        "# plt.axis(\"off\")\n",
        "# plt.show()"
      ]
    },
    {
      "cell_type": "code",
      "execution_count": 29,
      "id": "4327465f",
      "metadata": {},
      "outputs": [],
      "source": [
        "def visualize_grid_world(grid):\n",
        "    \"\"\"\n",
        "    Converts a 3-channel grid world into an RGB image for visualization.\n",
        "    - First channel: Wall (0 or 1)\n",
        "    - Second channel: Source (1 if source)\n",
        "    - Third channel: Destination (1 if destination)\n",
        "    \"\"\"\n",
        "    # print(grid[:, :, 0])\n",
        "    wall = grid[:, :, 0] < 0.5\n",
        "    source = grid[:, :, 1] >= 0.5\n",
        "    destination = grid[:, :, 2] >= 0.5\n",
        "    \n",
        "    img = np.ones((*wall.shape, 3), dtype=np.float32)  # White background\n",
        "    \n",
        "    # Set walls to black (0, 0, 0)\n",
        "    img[wall] = np.array([0, 0, 0])\n",
        "    \n",
        "    # Set destination to green (0, 1, 0)\n",
        "    img[destination] = np.array([0, 1, 0])\n",
        "\n",
        "    # Set source to blue (0, 0, 1)\n",
        "    img[source] = np.array([0, 0, 1])\n",
        "    \n",
        "    return img\n",
        "\n",
        "def visualize_sample(sample, difficulty):\n",
        "    img = visualize_grid_world(sample)\n",
        "    plt.imshow(img)\n",
        "    plt.title(f\"Sampled Maze — Difficulty {difficulty.item():.2f}\")\n",
        "    plt.axis('off')\n",
        "    plt.show()"
      ]
    },
    {
      "cell_type": "code",
      "execution_count": 80,
      "id": "ecfba3bc",
      "metadata": {},
      "outputs": [],
      "source": [
        "import matplotlib.pyplot as plt\n",
        "import numpy as np\n",
        "import torch\n",
        "\n",
        "def display_reconstruction(model, dataset, device='cuda', visualize_fn=None, num_samples=5):\n",
        "    \"\"\"\n",
        "    Display discrete original vs reconstructed maze samples from the VAE using predict_discrete_structure.\n",
        "\n",
        "    Args:\n",
        "        model: Trained MazeVAE\n",
        "        dataset: Dataset returning 10x10x3 float32 tensors\n",
        "        device: Device for model + data\n",
        "        visualize_fn: Function to convert 10x10x3 integer array to RGB image\n",
        "        num_samples: Number of maze samples to display\n",
        "    \"\"\"\n",
        "    model.eval()\n",
        "    fig, axes = plt.subplots(3, num_samples, figsize=(3 * num_samples, 8))\n",
        "\n",
        "    with torch.no_grad():\n",
        "        for i in range(num_samples):\n",
        "            idx = np.random.randint(len(dataset))\n",
        "            maze = dataset[idx][0].unsqueeze(0).to(torch.float32).to(device)  # shape: (1, 3, 10, 10)\n",
        "            with torch.no_grad():\n",
        "                latent_dist = vae.encode(maze).latent_dist\n",
        "                latent_sample = latent_dist.sample() \n",
        "\n",
        "                recon = vae.decode(latent_sample).sample\n",
        "                recon = F.pad(recon, pad=(1, 1, 1, 1))  # Pad (left, right, top, bottom)\n",
        "\n",
        "            # Discretize reconstruction only\n",
        "            # discrete_recon = model.predict_discrete_structure(recon).squeeze(0).cpu().numpy()\n",
        "            discrete_recon = recon.squeeze(0).permute(1, 2, 0).cpu().numpy()  # (10, 10, 3)\n",
        "            discrete_input = maze.squeeze(0).permute(1, 2, 0).cpu().numpy().astype(int)  # (10, 10, 3)\n",
        "            # discrete_recon = recon.squeeze(0).cpu().numpy()\n",
        "\n",
        "            # # Original is already discrete (from dataset)\n",
        "            # discrete_input = maze.squeeze(0).cpu().numpy().astype(int)\n",
        "\n",
        "            # Convert to RGB for display\n",
        "            orig_rgb = visualize_fn(discrete_input)\n",
        "            recon_rgb = visualize_fn(discrete_recon)\n",
        "            diff_rgb = np.abs(orig_rgb.astype(float) - recon_rgb.astype(float))\n",
        "\n",
        "            # Plot\n",
        "            axes[0, i].imshow(orig_rgb)\n",
        "            axes[0, i].axis('off')\n",
        "            axes[0, i].set_title(\"Original\")\n",
        "\n",
        "            axes[1, i].imshow(recon_rgb)\n",
        "            axes[1, i].axis('off')\n",
        "            axes[1, i].set_title(\"Reconstructed\")\n",
        "\n",
        "            axes[2, i].imshow(diff_rgb / diff_rgb.max() if diff_rgb.max() > 0 else diff_rgb)\n",
        "            axes[2, i].axis('off')\n",
        "            axes[2, i].set_title(\"Difference\")\n",
        "\n",
        "        plt.tight_layout()\n",
        "        file_name = f\"vae_generation_multi_feat_{formatted_time}\"\n",
        "        plt.savefig(os.path.join(loss_curves_folder, file_name))\n",
        "        plt.show()"
      ]
    },
    {
      "cell_type": "code",
      "execution_count": 81,
      "id": "7a626810",
      "metadata": {},
      "outputs": [
        {
          "data": {
            "image/png": "[encoded data removed]",
            "text/plain": [
              "<Figure size 3000x800 with 30 Axes>"
            ]
          },
          "metadata": {},
          "output_type": "display_data"
        }
      ],
      "source": [
        "display_reconstruction(model=vae, dataset=dataset, device=device, visualize_fn=visualize_grid_world, num_samples=10)"
      ]
    },
    {
      "cell_type": "markdown",
      "id": "1821b8bd",
      "metadata": {},
      "source": [
        "# Diffusion"
      ]
    },
    {
      "cell_type": "code",
      "execution_count": 38,
      "id": "848710e3",
      "metadata": {},
      "outputs": [],
      "source": [
        "from transformers import CLIPTextModel, CLIPTokenizer\n",
        "from diffusers import UNet2DConditionModel, DDIMScheduler\n",
        "from peft import LoraConfig\n",
        "from model import Diffusion as CustomDiffusionModel"
      ]
    },
    {
      "cell_type": "code",
      "execution_count": null,
      "id": "0f567312",
      "metadata": {},
      "outputs": [],
      "source": [
        "# Hyperparams\n",
        "NUM_TIMESTEPS = 1000\n",
        "GUIDANCE_SCALE = 7.5\n",
        "LATENT_SHAPE = (4, 10, 10)  # For SD 1.5\n",
        "EPOCHS = 25"
      ]
    },
    {
      "cell_type": "code",
      "execution_count": 65,
      "id": "62efeb99",
      "metadata": {},
      "outputs": [],
      "source": [
        "unet = UNet2DConditionModel.from_pretrained(\"runwayml/stable-diffusion-v1-5\", subfolder=\"unet\").to(device)\n",
        "unet.requires_grad_(False)\n",
        "lora_config = LoraConfig(\n",
        "        r=4,\n",
        "        lora_alpha=16,\n",
        "        init_lora_weights=\"gaussian\",\n",
        "        target_modules=[\"to_k\", \"to_q\", \"to_v\", \"to_out.0\"],\n",
        "    )\n",
        "unet.add_adapter(lora_config)\n",
        "lora_layers = filter(lambda p: p.requires_grad, unet.parameters())\n",
        "optimizer = torch.optim.Adam(\n",
        "    lora_layers, lr=1e-5, betas=(0.9, 0.999), weight_decay=1e-2, eps=1e-08)\n",
        "scheduler = DDIMScheduler.from_pretrained(\"runwayml/stable-diffusion-v1-5\", subfolder=\"scheduler\")\n",
        "# custom_diffusion_model = CustomDiffusionModel(input_size=2).to(device)\n",
        "scheduler.set_timesteps(NUM_TIMESTEPS)\n",
        "vae.eval()\n",
        "tokenizer = CLIPTokenizer.from_pretrained(\n",
        "    \"runwayml/stable-diffusion-v1-5\", subfolder=\"tokenizer\")\n",
        "text_encoder = CLIPTextModel.from_pretrained(\n",
        "    \"runwayml/stable-diffusion-v1-5\", subfolder=\"text_encoder\").to(device)\n",
        "# optimizer = torch.optim.Adam(list(unet.parameters()), lr=1e-5)"
      ]
    },
    {
      "cell_type": "markdown",
      "id": "1aedc139",
      "metadata": {},
      "source": [
        "### Stable Diffusion Training"
      ]
    },
    {
      "cell_type": "code",
      "execution_count": 66,
      "id": "32c19b54",
      "metadata": {},
      "outputs": [
        {
          "name": "stderr",
          "output_type": "stream",
          "text": [
            "Training epoch [1/1]: 100%|██████████| 8/8 [04:33<00:00, 34.16s/it]"
          ]
        },
        {
          "name": "stdout",
          "output_type": "stream",
          "text": [
            "[Epoch 1] Loss: 1.727044\n"
          ]
        },
        {
          "name": "stderr",
          "output_type": "stream",
          "text": [
            "\n"
          ]
        },
        {
          "data": {
            "image/png": "[encoded data removed]",
            "text/plain": [
              "<Figure size 1000x500 with 1 Axes>"
            ]
          },
          "metadata": {},
          "output_type": "display_data"
        }
      ],
      "source": [
        "train_losses = []\n",
        "\n",
        "for epoch in range(EPOCHS):\n",
        "    epoch_loss = 0.0\n",
        "    count = 0\n",
        "\n",
        "    # for batch_idx, (images, path_lengths, nodes_astar, nodes_bfs) in enumerate(tqdm(dataloader, desc=f\"Training epoch [{epoch+1}/{EPOCHS}]\")):\n",
        "    for batch_idx, (images, prompt) in enumerate(tqdm(dataloader, desc=f\"Training epoch [{epoch+1}/{EPOCHS}]\")):\n",
        "        unet.train()\n",
        "        images = images.to(device)\n",
        "        # path_lengths = path_lengths.float().to(device)\n",
        "        # nodes_astar = nodes_astar.float().to(device)\n",
        "\n",
        "        # Step 1: Encode images to latents using VAE\n",
        "        with torch.no_grad():\n",
        "            z = vae.encode(images).latent_dist.sample()  # shape: (B, 4, 64, 64)\n",
        "\n",
        "        # Step 2: Sample timesteps & add noise\n",
        "        timesteps = torch.randint(0, NUM_TIMESTEPS, (z.size(0),), device=device).long()\n",
        "        noise = torch.randn_like(z)\n",
        "        noisy_z = scheduler.add_noise(z, noise, timesteps)\n",
        "\n",
        "        # # Step 3: Prepare conditional and unconditional embeddings\n",
        "        # cond_input = torch.stack([path_lengths, nodes_astar], dim=-1)\n",
        "        # cond_embed = custom_diffusion_model.condition_multidimensional_embedding(cond_input)\n",
        "   \n",
        "        # zero_input = torch.zeros_like(cond_input)\n",
        "        # uncond_embed = custom_diffusion_model.condition_multidimensional_embedding(zero_input)\n",
        "\n",
        "        # context = torch.cat([uncond_embed, cond_embed], dim=0)       \n",
        "\n",
        "        inputs = tokenizer(prompt, padding=\"max_length\", max_length=77, return_tensors=\"pt\").to(device)\n",
        "        with torch.no_grad():\n",
        "            cond_embed = text_encoder(**inputs).last_hidden_state\n",
        "\n",
        "        # For unconditional context\n",
        "        uncond_prompt = [\"\"] * images.size(0)\n",
        "        uncond_inputs = tokenizer(uncond_prompt, padding=\"max_length\", max_length=77, return_tensors=\"pt\").to(device)\n",
        "\n",
        "        with torch.no_grad():\n",
        "            uncond_embed = text_encoder(**uncond_inputs).last_hidden_state\n",
        "\n",
        "        # Combine for classifier-free guidance\n",
        "        context = torch.cat([uncond_embed, cond_embed], dim=0)\n",
        "\n",
        "        # Step 4: Forward pass with classifier-free guidance\n",
        "        noisy_z = noisy_z.repeat(2, 1, 1, 1)                          \n",
        "        timesteps = timesteps.repeat_interleave(2)                   \n",
        "\n",
        "        noise_pred = unet(noisy_z, timesteps, encoder_hidden_states=context).sample\n",
        "        noise_uncond, noise_cond = noise_pred.chunk(2)\n",
        "\n",
        "        guided_noise = noise_uncond + GUIDANCE_SCALE * (noise_cond - noise_uncond)\n",
        "\n",
        "        # Step 5: Loss and optimization\n",
        "        # loss = F.smooth_l1_loss(guided_noise, noise)\n",
        "        loss = F.mse_loss(guided_noise, noise)\n",
        "\n",
        "        optimizer.zero_grad()\n",
        "        loss.backward()\n",
        "        optimizer.step()\n",
        "\n",
        "        epoch_loss += loss.item() * images.size(0)\n",
        "        count += images.size(0)\n",
        "\n",
        "    avg_loss = epoch_loss / count\n",
        "    train_losses.append(avg_loss)\n",
        "    print(f\"[Epoch {epoch+1}] Loss: {avg_loss:.6f}\")\n",
        "\n",
        "import matplotlib.pyplot as plt\n",
        "plt.figure(figsize=(10, 5))\n",
        "plt.plot(range(1, EPOCHS + 1), train_losses, marker='o', label='Train Loss')\n",
        "plt.xlabel('Epoch')\n",
        "plt.ylabel('Loss')\n",
        "plt.title('Training Loss Graph')\n",
        "plt.legend()\n",
        "file_name = f\"loss_curve_diffusion_multi_feat_{formatted_time}\"\n",
        "plt.savefig(os.path.join(loss_curves_folder, file_name))\n",
        "plt.show()\n"
      ]
    },
    {
      "cell_type": "code",
      "execution_count": null,
      "id": "96439c5e",
      "metadata": {},
      "outputs": [],
      "source": [
        "from diffusers import StableDiffusionPipeline, DiffusionPipeline\n",
        "from diffusers.utils import convert_state_dict_to_diffusers\n",
        "from peft import get_peft_model_state_dict\n",
        "\n",
        "if not os.path.exists(f\"../data/loss_curves_{formatted_time}/lora/\"):\n",
        "    os.makedirs(f\"../data/loss_curves_{formatted_time}/lora/\")\n",
        "# if not os.path.exists(f\"../data/lora_test/lora/\"):\n",
        "#     os.makedirs(f\"../data/lora_test/lora/\")\n",
        "unet_lora_state_dict = convert_state_dict_to_diffusers(\n",
        "    get_peft_model_state_dict(unet)\n",
        ")\n",
        "StableDiffusionPipeline.save_lora_weights(\n",
        "    save_directory=f\"../data/loss_curves_{formatted_time}/lora/lora_weights\",\n",
        "    # save_directory=f\"../data/lora_test/lora/lora_weights\",\n",
        "    unet_lora_layers=unet_lora_state_dict,\n",
        "    safe_serialization=True,\n",
        ")\n",
        "torch.save(unet.state_dict(), f\"../data/loss_curves_{formatted_time}/lora/diffusion_weights_multi_feat_lora.pth\")\n",
        "# torch.save(unet.state_dict(), f\"../data/lora_test/lora/diffusion_weights_multi_feat_lora.pth\")"
      ]
    },
    {
      "cell_type": "code",
      "execution_count": 27,
      "id": "97eb8ffb",
      "metadata": {},
      "outputs": [
        {
          "data": {
            "application/vnd.jupyter.widget-view+json": {
              "model_id": "2e6475a222d5451fb5f43c66ccea1c9f",
              "version_major": 2,
              "version_minor": 0
            },
            "text/plain": [
              "Loading pipeline components...:   0%|          | 0/7 [00:00<?, ?it/s]"
            ]
          },
          "metadata": {},
          "output_type": "display_data"
        },
        {
          "name": "stderr",
          "output_type": "stream",
          "text": [
            "/Users/I749793/.pyenv/versions/3.11.0/envs/classifierGuidance_3.11.0_venv/lib/python3.11/site-packages/peft/tuners/tuners_utils.py:167: UserWarning: Already found a `peft_config` attribute in the model. This will lead to having multiple adapters in the model. Make sure to know what you are doing!\n",
            "  warnings.warn(\n"
          ]
        }
      ],
      "source": [
        "pipe = DiffusionPipeline.from_pretrained(\n",
        "    \"runwayml/stable-diffusion-v1-5\",\n",
        "    unet=unet,\n",
        "    torch_dtype=torch.float16,  # or torch.float32\n",
        ")\n",
        "pipe.load_lora_weights(\n",
        "    pretrained_model_name_or_path_or_dict=f\"../data/loss_curves_{formatted_time}/lora/lora_weights\",\n",
        "    # pretrained_model_name_or_path_or_dict=f\"../data/lora_test/lora/lora_weights\",\n",
        "    adapter_name=\"custom_lora\",  # optional name\n",
        "    from_local=True\n",
        ")\n",
        "unet = pipe.unet"
      ]
    },
    {
      "cell_type": "markdown",
      "id": "172368e1",
      "metadata": {},
      "source": [
        "### Stable Diffusion Testing"
      ]
    },
    {
      "cell_type": "code",
      "execution_count": 78,
      "id": "702fdd80",
      "metadata": {},
      "outputs": [],
      "source": [
        "\n",
        "def generate_maze_from_test(sample_idx=None, num_steps=50):\n",
        "    unet.eval()\n",
        "    scheduler.set_timesteps(num_steps)\n",
        "    \n",
        "    # if sample_idx is None:\n",
        "    #     sample_idx = random.randint(0, len(dataset) - 1)\n",
        "\n",
        "    idx = np.random.randint(len(dataset))\n",
        "    test_img = dataset[idx][0].unsqueeze(0).to(torch.float32).to(device)\n",
        "    prompt = f\"a maze with difficulty 3\"\n",
        "\n",
        "    \n",
        "    # test_img, test_path_length, nodes_astar, nodes_bfs = test_dataset[sample_idx]\n",
        "    # test_img, prompt = test_dataset[sample_idx]\n",
        "    # path_tensor = torch.tensor([test_path_length]).float().to(device)\n",
        "    # nodes_astar_tensor = torch.tensor([nodes_astar]).float().to(device)\n",
        "    # combined_features = torch.stack((path_tensor, nodes_astar_tensor), dim=-1)\n",
        "    # context = diffusion_model.condition_multidimensional_embedding(\n",
        "    #     torch.tensor([test_path_length], device=device).float()\n",
        "    # )\n",
        "\n",
        "    # context = custom_diffusion_model.condition_multidimensional_embedding(combined_features)\n",
        "\n",
        "    inputs = tokenizer(prompt, padding=\"max_length\", max_length=77, return_tensors=\"pt\").to(device)\n",
        "    with torch.no_grad():\n",
        "        context = text_encoder(**inputs).last_hidden_state\n",
        "    \n",
        "    latent = torch.randn((1, 4, 8, 8), device=device)\n",
        "    \n",
        "    for t in scheduler.timesteps:\n",
        "        timestep = torch.tensor([t], device=device)\n",
        "        with torch.no_grad():\n",
        "            pred = unet(latent, timestep, encoder_hidden_states=context).sample\n",
        "        latent = scheduler.step(pred, t, latent).prev_sample\n",
        "    \n",
        "    with torch.no_grad():\n",
        "        generated_image = vae.decode(latent/0.18215).sample\n",
        "        # generated_image = decoder(latent / 0.18215)\n",
        "    \n",
        "    # return generated_image, test_img, test_path_length\n",
        "    return generated_image, test_img, prompt\n",
        "\n",
        "# def visualize_sample(sample, original, difficulty):\n",
        "#     sample = sample.permute(0, 2, 3, 1).cpu().numpy()\n",
        "#     original = original.permute(0, 2, 3, 1).cpu().numpy()\n",
        "\n",
        "#     generated = visualize_grid_world(sample)\n",
        "#     original = visualize_grid_world(sample)\n",
        "    \n",
        "#     plt.figure(figsize=(10, 5))\n",
        "#     plt.subplot(1, 2, 1)\n",
        "#     # plt.imshow(generated.squeeze(0).permute(1, 2, 0).cpu().numpy(), cmap='gray')\n",
        "#     # plt.imshow(generated.squeeze(0).cpu().numpy(), cmap='gray')\n",
        "#     plt.imshow(generated.squeeze(0), cmap='gray')\n",
        "#     plt.title(f\"Generated Maze, {difficulty}\")\n",
        "#     plt.axis(\"off\")\n",
        "\n",
        "#     plt.subplot(1, 2, 2)\n",
        "#     # plt.imshow(original.permute(1, 2, 0).cpu().numpy(), cmap='gray')\n",
        "#     # plt.imshow(original.permute(1, 2, 0).cpu().numpy(), cmap='gray')\n",
        "#     # plt.imshow(original.squeeze(0).cpu().numpy(), cmap='gray')\n",
        "#     plt.imshow(original.squeeze(0), cmap='gray')\n",
        "#     plt.title(\"Original Test Maze\")\n",
        "#     plt.axis(\"off\")\n",
        "#     file_name = f\"diffusion_image_generation_multi_feat_{formatted_time}\"\n",
        "#     plt.savefig(os.path.join(loss_curves_folder, file_name))\n",
        "#     plt.show()\n",
        "\n",
        "def visualize_sample(sample, original, difficulty):\n",
        "    # sample/original: (1, 3, 10, 10) — from diffusion\n",
        "    sample = sample.squeeze(0).permute(1, 2, 0).cpu().numpy()  # (10, 10, 3)\n",
        "    original = original.squeeze(0).permute(1, 2, 0).cpu().numpy()\n",
        "\n",
        "    generated_rgb = visualize_grid_world(sample)\n",
        "    original_rgb = visualize_grid_world(original)\n",
        "\n",
        "    plt.figure(figsize=(6, 3))  # Adjust this for proper aspect ratio\n",
        "    plt.subplot(1, 2, 1)\n",
        "    plt.imshow(generated_rgb)\n",
        "    plt.title(f\"Generated Maze, {difficulty}\")\n",
        "    plt.axis(\"off\")\n",
        "\n",
        "    plt.subplot(1, 2, 2)\n",
        "    plt.imshow(original_rgb)\n",
        "    plt.title(\"Original Test Maze\")\n",
        "    plt.axis(\"off\")\n",
        "\n",
        "    file_name = f\"diffusion_image_generation_multi_feat_{formatted_time}\"\n",
        "    plt.savefig(os.path.join(loss_curves_folder, file_name))\n",
        "    plt.show()\n"
      ]
    },
    {
      "cell_type": "code",
      "execution_count": 79,
      "id": "ff2084bb",
      "metadata": {},
      "outputs": [
        {
          "data": {
            "image/png": "[encoded data removed]",
            "text/plain": [
              "<Figure size 600x300 with 2 Axes>"
            ]
          },
          "metadata": {},
          "output_type": "display_data"
        }
      ],
      "source": [
        "generated, original, test_path_length = generate_maze_from_test(num_steps=100)\n",
        "# image = generated[0].detach().cpu()\n",
        "visualize_sample(generated, original, test_path_length)\n",
        "# # Convert from [-1, 1] to [0, 1]\n",
        "# image = (image + 1.0) / 2.0\n",
        "# generated = torch.clamp(image, 0.0, 1.0)\n",
        "\n",
        "\n",
        "# import matplotlib.pyplot as plt\n",
        "\n",
        "# plt.figure(figsize=(10, 5))\n",
        "# plt.subplot(1, 2, 1)\n",
        "# plt.imshow(generated.squeeze(0).permute(1, 2, 0).cpu().numpy(), cmap='gray')\n",
        "# # plt.imshow(generated.squeeze(0).cpu().numpy(), cmap='gray')\n",
        "# plt.title(f\"Generated Maze, {test_path_length}\")\n",
        "# plt.axis(\"off\")\n",
        "\n",
        "# plt.subplot(1, 2, 2)\n",
        "# # plt.imshow(original.permute(1, 2, 0).cpu().numpy(), cmap='gray')\n",
        "# plt.imshow(original.permute(1, 2, 0).cpu().numpy(), cmap='gray')\n",
        "# plt.title(\"Original Test Maze\")\n",
        "# plt.axis(\"off\")\n",
        "# file_name = f\"diffusion_image_generation_multi_feat_{formatted_time}\"\n",
        "# plt.savefig(os.path.join(loss_curves_folder, file_name))\n",
        "# plt.show()"
      ]
    },
    {
      "cell_type": "code",
      "execution_count": 44,
      "id": "0c103085",
      "metadata": {},
      "outputs": [],
      "source": [
        "# generated, original, test_path_length = generate_maze_from_test(num_steps=100)\n",
        "# image = generated[0].detach().cpu()\n",
        "\n",
        "# # Convert from [-1, 1] to [0, 1]\n",
        "# image = (image + 1.0) / 2.0\n",
        "# generated = torch.clamp(image, 0.0, 1.0)\n",
        "\n",
        "# visualize_sample(generated, test_path_length)"
      ]
    },
    {
      "cell_type": "code",
      "execution_count": 45,
      "id": "a01ba929",
      "metadata": {},
      "outputs": [],
      "source": [
        "# generated, original, test_path_length = generate_maze_from_test(num_steps=100)\n",
        "# image = generated[0].detach().cpu()\n",
        "\n",
        "# # Convert from [-1, 1] to [0, 1]\n",
        "# image = (image + 1.0) / 2.0\n",
        "# generated = torch.clamp(image, 0.0, 1.0)\n",
        "\n",
        "# generated = (generated > 0.5).float()\n",
        "\n",
        "\n",
        "# import matplotlib.pyplot as plt\n",
        "\n",
        "# plt.figure(figsize=(10, 5))\n",
        "# plt.subplot(1, 2, 1)\n",
        "# plt.imshow(generated.squeeze(0).permute(1, 2, 0).cpu().numpy(), cmap='gray')\n",
        "# # plt.imshow(generated.squeeze(0).cpu().numpy(), cmap='gray')\n",
        "# plt.title(f\"Generated Maze, {test_path_length}\")\n",
        "# plt.axis(\"off\")\n",
        "\n",
        "# plt.subplot(1, 2, 2)\n",
        "# # plt.imshow(original.permute(1, 2, 0).cpu().numpy(), cmap='gray')\n",
        "# plt.imshow(original.permute(1, 2, 0).cpu().numpy(), cmap='gray')\n",
        "# plt.title(\"Original Test Maze\")\n",
        "# plt.axis(\"off\")\n",
        "# file_name = f\"diffusion_image_generation_multi_feat_{formatted_time}_greater_05\"\n",
        "# plt.savefig(os.path.join(loss_curves_folder, file_name))\n",
        "# plt.show()"
      ]
    },
    {
      "cell_type": "code",
      "execution_count": null,
      "id": "e2853145",
      "metadata": {},
      "outputs": [],
      "source": []
    },
    {
      "cell_type": "code",
      "execution_count": null,
      "id": "6cdc7703",
      "metadata": {},
      "outputs": [],
      "source": []
    }
  ],
  "metadata": {
    "accelerator": "GPU",
    "colab": {
      "gpuType": "T4",
      "provenance": []
    },
    "kernelspec": {
      "display_name": "classifierGuidance_3.11.0_venv",
      "language": "python",
      "name": "python3"
    },
    "language_info": {
      "codemirror_mode": {
        "name": "ipython",
        "version": 3
      },
      "file_extension": ".py",
      "mimetype": "text/x-python",
      "name": "python",
      "nbconvert_exporter": "python",
      "pygments_lexer": "ipython3",
      "version": "3.11.0"
    }
  },
  "nbformat": 4,
  "nbformat_minor": 5
}
