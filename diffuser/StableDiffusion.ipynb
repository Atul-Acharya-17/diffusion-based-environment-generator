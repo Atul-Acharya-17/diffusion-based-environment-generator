{
  "cells": [
    {
      "cell_type": "code",
      "execution_count": 1,
      "id": "af842a4b-30e4-469d-b315-e5405730df14",
      "metadata": {
        "colab": {
          "base_uri": "https://localhost:8080/"
        },
        "id": "af842a4b-30e4-469d-b315-e5405730df14",
        "outputId": "27b5603e-40f4-41f7-ef12-76808f966178"
      },
      "outputs": [
        {
          "name": "stdout",
          "output_type": "stream",
          "text": [
            "\u001b[2K   \u001b[90m━━━━━━━━━━━━━━━━━━━━━━━━━━━━━━━━━━━━━━━━\u001b[0m \u001b[32m363.4/363.4 MB\u001b[0m \u001b[31m3.6 MB/s\u001b[0m eta \u001b[36m0:00:00\u001b[0m\n",
            "\u001b[2K   \u001b[90m━━━━━━━━━━━━━━━━━━━━━━━━━━━━━━━━━━━━━━━━\u001b[0m \u001b[32m13.8/13.8 MB\u001b[0m \u001b[31m109.7 MB/s\u001b[0m eta \u001b[36m0:00:00\u001b[0m\n",
            "\u001b[2K   \u001b[90m━━━━━━━━━━━━━━━━━━━━━━━━━━━━━━━━━━━━━━━━\u001b[0m \u001b[32m24.6/24.6 MB\u001b[0m \u001b[31m86.8 MB/s\u001b[0m eta \u001b[36m0:00:00\u001b[0m\n",
            "\u001b[2K   \u001b[90m━━━━━━━━━━━━━━━━━━━━━━━━━━━━━━━━━━━━━━━━\u001b[0m \u001b[32m883.7/883.7 kB\u001b[0m \u001b[31m52.3 MB/s\u001b[0m eta \u001b[36m0:00:00\u001b[0m\n",
            "\u001b[2K   \u001b[90m━━━━━━━━━━━━━━━━━━━━━━━━━━━━━━━━━━━━━━━━\u001b[0m \u001b[32m664.8/664.8 MB\u001b[0m \u001b[31m2.9 MB/s\u001b[0m eta \u001b[36m0:00:00\u001b[0m\n",
            "\u001b[2K   \u001b[90m━━━━━━━━━━━━━━━━━━━━━━━━━━━━━━━━━━━━━━━━\u001b[0m \u001b[32m211.5/211.5 MB\u001b[0m \u001b[31m6.5 MB/s\u001b[0m eta \u001b[36m0:00:00\u001b[0m\n",
            "\u001b[2K   \u001b[90m━━━━━━━━━━━━━━━━━━━━━━━━━━━━━━━━━━━━━━━━\u001b[0m \u001b[32m56.3/56.3 MB\u001b[0m \u001b[31m16.0 MB/s\u001b[0m eta \u001b[36m0:00:00\u001b[0m\n",
            "\u001b[2K   \u001b[90m━━━━━━━━━━━━━━━━━━━━━━━━━━━━━━━━━━━━━━━━\u001b[0m \u001b[32m127.9/127.9 MB\u001b[0m \u001b[31m7.4 MB/s\u001b[0m eta \u001b[36m0:00:00\u001b[0m\n",
            "\u001b[2K   \u001b[90m━━━━━━━━━━━━━━━━━━━━━━━━━━━━━━━━━━━━━━━━\u001b[0m \u001b[32m207.5/207.5 MB\u001b[0m \u001b[31m6.0 MB/s\u001b[0m eta \u001b[36m0:00:00\u001b[0m\n",
            "\u001b[2K   \u001b[90m━━━━━━━━━━━━━━━━━━━━━━━━━━━━━━━━━━━━━━━━\u001b[0m \u001b[32m21.1/21.1 MB\u001b[0m \u001b[31m79.8 MB/s\u001b[0m eta \u001b[36m0:00:00\u001b[0m\n",
            "\u001b[2K   \u001b[90m━━━━━━━━━━━━━━━━━━━━━━━━━━━━━━━━━━━━━━━━\u001b[0m \u001b[32m37.3/37.3 MB\u001b[0m \u001b[31m3.6 MB/s\u001b[0m eta \u001b[36m0:00:00\u001b[0m\n",
            "\u001b[2K   \u001b[90m━━━━━━━━━━━━━━━━━━━━━━━━━━━━━━━━━━━━━━━━\u001b[0m \u001b[32m117.2/117.2 kB\u001b[0m \u001b[31m10.6 MB/s\u001b[0m eta \u001b[36m0:00:00\u001b[0m\n",
            "\u001b[2K   \u001b[90m━━━━━━━━━━━━━━━━━━━━━━━━━━━━━━━━━━━━━━━━\u001b[0m \u001b[32m55.2/55.2 kB\u001b[0m \u001b[31m4.5 MB/s\u001b[0m eta \u001b[36m0:00:00\u001b[0m\n",
            "\u001b[2K   \u001b[90m━━━━━━━━━━━━━━━━━━━━━━━━━━━━━━━━━━━━━━━━\u001b[0m \u001b[32m111.0/111.0 kB\u001b[0m \u001b[31m10.3 MB/s\u001b[0m eta \u001b[36m0:00:00\u001b[0m\n",
            "\u001b[2K   \u001b[90m━━━━━━━━━━━━━━━━━━━━━━━━━━━━━━━━━━━━━━━━\u001b[0m \u001b[32m11.7/11.7 MB\u001b[0m \u001b[31m84.3 MB/s\u001b[0m eta \u001b[36m0:00:00\u001b[0m\n",
            "\u001b[2K   \u001b[90m━━━━━━━━━━━━━━━━━━━━━━━━━━━━━━━━━━━━━━━━\u001b[0m \u001b[32m1.6/1.6 MB\u001b[0m \u001b[31m53.5 MB/s\u001b[0m eta \u001b[36m0:00:00\u001b[0m\n",
            "\u001b[2K   \u001b[90m━━━━━━━━━━━━━━━━━━━━━━━━━━━━━━━━━━━━━━━━\u001b[0m \u001b[32m69.1/69.1 kB\u001b[0m \u001b[31m5.5 MB/s\u001b[0m eta \u001b[36m0:00:00\u001b[0m\n",
            "\u001b[2K   \u001b[90m━━━━━━━━━━━━━━━━━━━━━━━━━━━━━━━━━━━━━━━━\u001b[0m \u001b[32m385.8/385.8 kB\u001b[0m \u001b[31m25.0 MB/s\u001b[0m eta \u001b[36m0:00:00\u001b[0m\n",
            "\u001b[2K   \u001b[90m━━━━━━━━━━━━━━━━━━━━━━━━━━━━━━━━━━━━━━━━\u001b[0m \u001b[32m133.5/133.5 kB\u001b[0m \u001b[31m9.9 MB/s\u001b[0m eta \u001b[36m0:00:00\u001b[0m\n",
            "\u001b[2K   \u001b[90m━━━━━━━━━━━━━━━━━━━━━━━━━━━━━━━━━━━━━━━━\u001b[0m \u001b[32m59.7/59.7 kB\u001b[0m \u001b[31m5.4 MB/s\u001b[0m eta \u001b[36m0:00:00\u001b[0m\n",
            "\u001b[2K   \u001b[90m━━━━━━━━━━━━━━━━━━━━━━━━━━━━━━━━━━━━━━━━\u001b[0m \u001b[32m66.4/66.4 kB\u001b[0m \u001b[31m5.5 MB/s\u001b[0m eta \u001b[36m0:00:00\u001b[0m\n",
            "\u001b[?25h\u001b[31mERROR: pip's dependency resolver does not currently take into account all the packages that are installed. This behaviour is the source of the following dependency conflicts.\n",
            "google-colab 1.0.0 requires ipykernel==6.17.1, but you have ipykernel 6.29.5 which is incompatible.\u001b[0m\u001b[31m\n",
            "\u001b[0m"
          ]
        }
      ],
      "source": [
        "!pip install einops torch maze-dataset --q"
      ]
    },
    {
      "cell_type": "code",
      "execution_count": 2,
      "id": "cfa8f76c-2435-45e0-92af-e1c548bf0390",
      "metadata": {
        "id": "cfa8f76c-2435-45e0-92af-e1c548bf0390"
      },
      "outputs": [],
      "source": [
        "import os\n",
        "import numpy as np\n",
        "import torch\n",
        "from torch import nn, optim\n",
        "from torch.utils.data import DataLoader, Dataset\n",
        "import numpy as np\n",
        "import matplotlib.pyplot as plt\n",
        "from PIL import Image\n",
        "from maze_dataset.plotting import MazePlot\n",
        "import random\n",
        "from torch.nn import functional as F"
      ]
    },
    {
      "cell_type": "code",
      "execution_count": 3,
      "id": "bf0f5bb1-2c86-4f19-bafe-7b7bec3a57ff",
      "metadata": {
        "colab": {
          "base_uri": "https://localhost:8080/"
        },
        "id": "bf0f5bb1-2c86-4f19-bafe-7b7bec3a57ff",
        "outputId": "5d16aa39-38b8-429f-f379-7d699ed534cb"
      },
      "outputs": [
        {
          "name": "stdout",
          "output_type": "stream",
          "text": [
            "Current working directory: /\n"
          ]
        }
      ],
      "source": [
        "os.chdir(\"..\")\n",
        "print(f\"Current working directory: {os.getcwd()}\")"
      ]
    },
    {
      "cell_type": "markdown",
      "id": "543d1c3c-8f5e-403d-b9a1-ce031a9587c7",
      "metadata": {
        "id": "543d1c3c-8f5e-403d-b9a1-ce031a9587c7"
      },
      "source": [
        "## Loading the Dataset"
      ]
    },
    {
      "cell_type": "code",
      "execution_count": null,
      "id": "e7448583-863f-4043-9e54-c36788bf8b30",
      "metadata": {
        "colab": {
          "base_uri": "https://localhost:8080/"
        },
        "id": "e7448583-863f-4043-9e54-c36788bf8b30",
        "outputId": "3833d816-19ce-4bde-fce1-8c6d53584d7a",
        "scrolled": true
      },
      "outputs": [
        {
          "name": "stderr",
          "output_type": "stream",
          "text": [
            "\rGenerating Mazes:   0%|          | 0/5 [00:00<?, ?maze/s]/usr/local/lib/python3.11/dist-packages/maze_dataset/dataset/dataset.py:95: UserWarning: in GPTDatasetConfig self.name='train', self.seed=1 is trying to override muutils.mlutils.GLOBAL_SEED=42 which has already been changed elsewhere from muutils.mlutils.DEFAULT_SEED=42\n",
            "  warnings.warn(\n",
            "/usr/local/lib/python3.11/dist-packages/maze_dataset/generation/generators.py:215: UserWarning: gen_prim does not correctly implement prim's algorithm, see issue: https://github.com/understanding-search/maze-dataset/issues/12\n",
            "  warnings.warn(\n",
            "Generating Mazes: 1000maze [00:06, 150.16maze/s]"
          ]
        },
        {
          "name": "stdout",
          "output_type": "stream",
          "text": [
            "Maze dataset generation complete!\n"
          ]
        },
        {
          "name": "stderr",
          "output_type": "stream",
          "text": [
            "\n"
          ]
        }
      ],
      "source": [
        "# from maze.maze_generator import generate_dataset\n",
        "# n_mazes = 1000\n",
        "# directory = \"./data/\"\n",
        "\n",
        "# generate_dataset(n_mazes, directory) ,\n",
        "\n",
        "# print(\"Maze dataset generation complete!\")"
      ]
    },
    {
      "cell_type": "code",
      "execution_count": 7,
      "id": "6407b36e-2b1a-49da-8fda-dc83f7bb3481",
      "metadata": {
        "colab": {
          "base_uri": "https://localhost:8080/",
          "height": 423
        },
        "id": "6407b36e-2b1a-49da-8fda-dc83f7bb3481",
        "outputId": "e65862df-98a3-4d88-9261-c7466ce34052"
      },
      "outputs": [
        {
          "name": "stderr",
          "output_type": "stream",
          "text": [
            "WARNING:matplotlib.image:Clipping input data to the valid range for imshow with RGB data ([0..1] for floats or [0..255] for integers). Got range [-1.0..1.0].\n"
          ]
        },
        {
          "data": {
            "image/png": "[encoded data removed]",
            "text/plain": [
              "<Figure size 640x480 with 1 Axes>"
            ]
          },
          "metadata": {},
          "output_type": "display_data"
        }
      ],
      "source": [
        "import os\n",
        "import numpy as np\n",
        "import torch\n",
        "from torch.utils.data import Dataset\n",
        "import matplotlib.pyplot as plt\n",
        "\n",
        "def preprocess_image(image, target_size=32):\n",
        "    image = np.array(image)\n",
        "\n",
        "    scale_factor = target_size // image.shape[0]\n",
        "    image = np.kron(image, np.ones((scale_factor, scale_factor, 1)))\n",
        "\n",
        "    image = image.astype(np.float32) / 127.5 - 1\n",
        "    image = torch.tensor(image).permute(2, 0, 1)\n",
        "    return image\n",
        "\n",
        "def load_dataset_from_npy(directory=\"./data\", target_size=32):\n",
        "    images = []\n",
        "    path_lengths = []\n",
        "\n",
        "    files = sorted([f for f in os.listdir(directory) if f.endswith(\".npy\")])\n",
        "\n",
        "    for file in files:\n",
        "        img = np.load(os.path.join(directory, file))\n",
        "\n",
        "        mask = np.all(img == [0, 0, 255], axis=-1)\n",
        "        img[mask] = [255, 255, 255]\n",
        "        img = img[:-1, :-1]\n",
        "\n",
        "        image = preprocess_image(img, target_size)\n",
        "\n",
        "        base_name = os.path.splitext(file)[0]\n",
        "        len_filename = base_name + \"_len.txt\"\n",
        "        len_path = os.path.join(directory, len_filename)\n",
        "\n",
        "        with open(len_path, \"r\") as f:\n",
        "            maze_length = int(f.read().strip())\n",
        "\n",
        "        images.append(image)\n",
        "        path_lengths.append(maze_length)\n",
        "\n",
        "    return images, path_lengths\n",
        "\n",
        "images, path_lengths = load_dataset_from_npy(\"./data\", target_size=32)\n",
        "\n",
        "plt.imshow(images[0].permute(1, 2, 0).cpu().numpy(), cmap='gray')\n",
        "plt.axis('off')\n",
        "plt.show()\n",
        "\n",
        "class MazeTensorDataset(Dataset):\n",
        "    def __init__(self, images, path_lengths):\n",
        "        self.images = images\n",
        "        self.path_lengths = path_lengths\n",
        "\n",
        "    def __len__(self):\n",
        "        return len(self.images)\n",
        "\n",
        "    def __getitem__(self, idx):\n",
        "        return self.images[idx], self.path_lengths[idx]"
      ]
    },
    {
      "cell_type": "markdown",
      "id": "13e2670c-9318-4331-a8d7-299e2d9d3ad5",
      "metadata": {
        "id": "13e2670c-9318-4331-a8d7-299e2d9d3ad5"
      },
      "source": [
        "# Diffusion"
      ]
    },
    {
      "cell_type": "code",
      "execution_count": 8,
      "id": "e2a04378-6293-4c79-95d0-fa6e305cba28",
      "metadata": {
        "colab": {
          "base_uri": "https://localhost:8080/"
        },
        "id": "e2a04378-6293-4c79-95d0-fa6e305cba28",
        "outputId": "1e1d158e-a42a-453d-ea90-ff6a716979fe"
      },
      "outputs": [
        {
          "name": "stdout",
          "output_type": "stream",
          "text": [
            "Current working directory: /\n"
          ]
        }
      ],
      "source": [
        "print(f\"Current working directory: {os.getcwd()}\")"
      ]
    },
    {
      "cell_type": "markdown",
      "id": "742a775a-18e1-4d73-a304-0d951dfc05c2",
      "metadata": {
        "id": "742a775a-18e1-4d73-a304-0d951dfc05c2",
        "jp-MarkdownHeadingCollapsed": true
      },
      "source": [
        "### VAE Training"
      ]
    },
    {
      "cell_type": "code",
      "execution_count": 9,
      "id": "0b8328c6-fdf1-4599-9140-b1ee9c6cc029",
      "metadata": {
        "id": "0b8328c6-fdf1-4599-9140-b1ee9c6cc029"
      },
      "outputs": [],
      "source": [
        "import torch\n",
        "from torch import nn, optim\n",
        "from torch.utils.data import DataLoader, Dataset\n",
        "import numpy as np\n",
        "import matplotlib.pyplot as plt\n",
        "from PIL import Image\n",
        "from maze_dataset.plotting import MazePlot\n",
        "import random"
      ]
    },
    {
      "cell_type": "code",
      "execution_count": 10,
      "id": "335fe85b-942c-4707-89fe-fd5e10b8214d",
      "metadata": {
        "id": "335fe85b-942c-4707-89fe-fd5e10b8214d"
      },
      "outputs": [],
      "source": [
        "# Hyperparameters\n",
        "BATCH_SIZE = 128\n",
        "LEARNING_RATE = 1e-4\n",
        "EPOCHS = 150\n",
        "LATENT_CHANNELS = 4"
      ]
    },
    {
      "cell_type": "code",
      "execution_count": 11,
      "id": "5984963c-d4d5-402c-bae4-4b79276425f3",
      "metadata": {
        "colab": {
          "base_uri": "https://localhost:8080/"
        },
        "id": "5984963c-d4d5-402c-bae4-4b79276425f3",
        "outputId": "0c7d727d-5507-4e0b-c336-168d6ced665b"
      },
      "outputs": [
        {
          "name": "stdout",
          "output_type": "stream",
          "text": [
            "Total images: 1000\n",
            "Total path_lengths: 1000\n",
            "Train dataset length: 800\n",
            "Test dataset length: 200\n",
            "Unique training path lengths: {2, 3, 4, 5, 6, 7, 8, 9, 10, 11, 12, 13, 14, 15, 16, 17, 18, 19, 20, 21, 22, 23}\n",
            "Number of unique training paths: 22\n",
            "Unique test path lengths: {2, 3, 4, 5, 6, 7, 8, 9, 10, 11, 12, 13, 14, 15, 16, 17, 18, 19, 21}\n",
            "Number of unique test paths: 19\n"
          ]
        }
      ],
      "source": [
        "print(\"Total images:\", len(images))\n",
        "print(\"Total path_lengths:\", len(path_lengths))\n",
        "\n",
        "total = len(images)\n",
        "test_size = int(0.2 * total)\n",
        "all_indices = list(range(total))\n",
        "random.shuffle(all_indices)\n",
        "\n",
        "test_indices = all_indices[:test_size]\n",
        "train_indices = all_indices[test_size:]\n",
        "\n",
        "train_images = [images[i] for i in train_indices]\n",
        "train_path_lengths = [path_lengths[i] for i in train_indices]\n",
        "\n",
        "test_images = [images[i] for i in test_indices]\n",
        "test_path_lengths = [path_lengths[i] for i in test_indices]\n",
        "\n",
        "dataset = MazeTensorDataset(train_images, train_path_lengths)\n",
        "test_dataset = MazeTensorDataset(test_images, test_path_lengths)\n",
        "\n",
        "print(\"Train dataset length:\", len(dataset))\n",
        "print(\"Test dataset length:\", len(test_dataset))\n",
        "\n",
        "dataloader = DataLoader(dataset, batch_size=BATCH_SIZE, shuffle=True)\n",
        "\n",
        "unique_train_paths = set(train_path_lengths)\n",
        "print(\"Unique training path lengths:\", unique_train_paths)\n",
        "print(\"Number of unique training paths:\", len(unique_train_paths))\n",
        "\n",
        "unique_test_paths = set(test_path_lengths)\n",
        "print(\"Unique test path lengths:\", unique_test_paths)\n",
        "print(\"Number of unique test paths:\", len(unique_test_paths))"
      ]
    },
    {
      "cell_type": "code",
      "execution_count": 13,
      "id": "qd7ioKYDO15-",
      "metadata": {
        "colab": {
          "base_uri": "https://localhost:8080/"
        },
        "id": "qd7ioKYDO15-",
        "outputId": "00753a60-c6d7-4d6b-c878-343ffc7c2bb2"
      },
      "outputs": [
        {
          "name": "stdout",
          "output_type": "stream",
          "text": [
            "Using device: cuda\n",
            "Epoch [1/50], Loss: 0.148116\n",
            "Epoch [2/50], Loss: 0.055280\n",
            "Epoch [3/50], Loss: 0.038900\n",
            "Epoch [4/50], Loss: 0.034031\n",
            "Epoch [5/50], Loss: 0.030915\n",
            "Epoch [6/50], Loss: 0.028954\n",
            "Epoch [7/50], Loss: 0.027667\n",
            "Epoch [8/50], Loss: 0.027300\n",
            "Epoch [9/50], Loss: 0.026647\n",
            "Epoch [10/50], Loss: 0.025662\n",
            "Epoch [11/50], Loss: 0.026000\n",
            "Epoch [12/50], Loss: 0.023949\n",
            "Epoch [13/50], Loss: 0.023787\n",
            "Epoch [14/50], Loss: 0.022609\n",
            "Epoch [15/50], Loss: 0.022568\n",
            "Epoch [16/50], Loss: 0.022118\n",
            "Epoch [17/50], Loss: 0.021943\n",
            "Epoch [18/50], Loss: 0.019327\n",
            "Epoch [19/50], Loss: 0.018709\n",
            "Epoch [20/50], Loss: 0.018896\n",
            "Epoch [21/50], Loss: 0.017130\n",
            "Epoch [22/50], Loss: 0.015222\n",
            "Epoch [23/50], Loss: 0.015296\n",
            "Epoch [24/50], Loss: 0.012504\n",
            "Epoch [25/50], Loss: 0.013142\n",
            "Epoch [26/50], Loss: 0.012975\n",
            "Epoch [27/50], Loss: 0.010877\n",
            "Epoch [28/50], Loss: 0.011346\n",
            "Epoch [29/50], Loss: 0.011074\n",
            "Epoch [30/50], Loss: 0.008934\n",
            "Epoch [31/50], Loss: 0.010523\n",
            "Epoch [32/50], Loss: 0.007917\n",
            "Epoch [33/50], Loss: 0.006989\n",
            "Epoch [34/50], Loss: 0.007245\n",
            "Epoch [35/50], Loss: 0.007097\n",
            "Epoch [36/50], Loss: 0.004030\n",
            "Epoch [37/50], Loss: 0.004449\n",
            "Epoch [38/50], Loss: 0.003576\n",
            "Epoch [39/50], Loss: 0.004759\n",
            "Epoch [40/50], Loss: 0.003450\n",
            "Epoch [41/50], Loss: 0.002572\n",
            "Epoch [42/50], Loss: 0.004622\n",
            "Epoch [43/50], Loss: 0.001670\n",
            "Epoch [44/50], Loss: 0.002382\n",
            "Epoch [45/50], Loss: 0.004281\n",
            "Epoch [46/50], Loss: 0.003585\n",
            "Epoch [47/50], Loss: 0.002313\n",
            "Epoch [48/50], Loss: 0.003242\n",
            "Epoch [49/50], Loss: 0.001755\n",
            "Epoch [50/50], Loss: 0.001662\n"
          ]
        }
      ],
      "source": [
        "import torch\n",
        "import torch.nn as nn\n",
        "import torch.optim as optim\n",
        "from diffusers import AutoencoderKL\n",
        "from torch.utils.data import DataLoader\n",
        "\n",
        "# Device setup\n",
        "device = torch.device(\"cuda\" if torch.cuda.is_available() else \"cpu\")\n",
        "print(f\"Using device: {device}\")\n",
        "\n",
        "# Load Stable Diffusion's pre-trained VAE\n",
        "vae = AutoencoderKL.from_pretrained(\"runwayml/stable-diffusion-v1-5\", subfolder=\"vae\").to(device)\n",
        "\n",
        "# Optimizer (Adam for VAE training)\n",
        "optimizer = optim.Adam(vae.parameters(), lr=1e-4)\n",
        "\n",
        "# Loss function (pixel-level reconstruction loss)\n",
        "criterion = nn.MSELoss()\n",
        "\n",
        "train_losses = []\n",
        "# ---- Training Loop ---- #\n",
        "def train_vae(dataloader, epochs=50):\n",
        "    vae.train()\n",
        "    for epoch in range(epochs):\n",
        "        total_loss = 0.0\n",
        "        for i, (images, _) in enumerate(dataloader):\n",
        "            images = images.to(device)  # Input maze images (shape: B x 3 x 256 x 256)\n",
        "\n",
        "            # Forward pass\n",
        "            latent_dist = vae.encode(images).latent_dist\n",
        "            latent_sample = latent_dist.sample()\n",
        "            reconstructed_images = vae.decode(latent_sample).sample\n",
        "\n",
        "            # Loss computation\n",
        "            loss = criterion(reconstructed_images, images)\n",
        "\n",
        "            # Backward pass and optimization\n",
        "            optimizer.zero_grad()\n",
        "            loss.backward()\n",
        "            optimizer.step()\n",
        "\n",
        "            total_loss += loss.item()\n",
        "\n",
        "        avg_loss = total_loss / len(dataloader)\n",
        "        train_losses.append(avg_loss)\n",
        "        print(f\"Epoch [{epoch + 1}/{epochs}], Loss: {avg_loss:.6f}\")\n",
        "\n",
        "# ---- Example Usage ---- #\n",
        "# Assuming you have a DataLoader ready: `maze_dataloader`\n",
        "train_vae(dataloader, epochs=50)\n"
      ]
    },
    {
      "cell_type": "code",
      "execution_count": null,
      "id": "Y7ye83uDSOUQ",
      "metadata": {
        "id": "Y7ye83uDSOUQ"
      },
      "outputs": [],
      "source": [
        "torch.save({\n",
        "    'diffusion_state_dict': vae.state_dict(),\n",
        "    'optimizer_state_dict': optimizer.state_dict(),\n",
        "    'train_losses': train_losses\n",
        "}, 'diffusion_weights.pth')\n",
        "print(\"Diffusion weights saved to diffusion_weights.pth\")"
      ]
    },
    {
      "cell_type": "code",
      "execution_count": 14,
      "id": "SlkhuVYMSspV",
      "metadata": {
        "colab": {
          "base_uri": "https://localhost:8080/",
          "height": 446
        },
        "id": "SlkhuVYMSspV",
        "outputId": "dc812d14-0cd7-4948-e9dc-6bc2fe0d00df"
      },
      "outputs": [
        {
          "name": "stderr",
          "output_type": "stream",
          "text": [
            "WARNING:matplotlib.image:Clipping input data to the valid range for imshow with RGB data ([0..1] for floats or [0..255] for integers). Got range [-1.1073372..1.1881142].\n",
            "WARNING:matplotlib.image:Clipping input data to the valid range for imshow with RGB data ([0..1] for floats or [0..255] for integers). Got range [-1.0..1.0].\n"
          ]
        },
        {
          "data": {
            "image/png": "[encoded data removed]",
            "text/plain": [
              "<Figure size 1000x500 with 2 Axes>"
            ]
          },
          "metadata": {},
          "output_type": "display_data"
        }
      ],
      "source": [
        "import torch\n",
        "import random\n",
        "import matplotlib.pyplot as plt\n",
        "\n",
        "def generate_maze_from_test(sample_idx=None):\n",
        "    vae.eval()\n",
        "\n",
        "    if sample_idx is None:\n",
        "        sample_idx = random.randint(0, len(test_dataset) - 1)\n",
        "\n",
        "    test_img, test_path_length = test_dataset[sample_idx]  # Load test maze\n",
        "    test_img = test_img.unsqueeze(0).to(device)  # Add batch dimension\n",
        "\n",
        "    # Encode test maze image into latent space\n",
        "    with torch.no_grad():\n",
        "        latent_dist = vae.encode(test_img).latent_dist\n",
        "        latent_sample = latent_dist.sample()  # Sample from the distribution\n",
        "\n",
        "        # Decode latent back to an image\n",
        "        generated_image = vae.decode(latent_sample).sample\n",
        "\n",
        "    return generated_image, test_img, test_path_length\n",
        "\n",
        "# Run test generation\n",
        "generated, original, test_path_length = generate_maze_from_test()\n",
        "\n",
        "# ---- Visualization ---- #\n",
        "plt.figure(figsize=(10, 5))\n",
        "\n",
        "plt.subplot(1, 2, 1)\n",
        "plt.imshow(generated.squeeze(0).permute(1, 2, 0).cpu().numpy(), cmap='gray')\n",
        "plt.title(f\"Generated Maze (Path Length: {test_path_length})\")\n",
        "plt.axis(\"off\")\n",
        "\n",
        "plt.subplot(1, 2, 2)\n",
        "plt.imshow(original.squeeze(0).permute(1, 2, 0).cpu().numpy(), cmap='gray')\n",
        "plt.title(\"Original Test Maze\")\n",
        "plt.axis(\"off\")\n",
        "\n",
        "plt.show()\n"
      ]
    }
  ],
  "metadata": {
    "accelerator": "GPU",
    "colab": {
      "gpuType": "T4",
      "provenance": []
    },
    "kernelspec": {
      "display_name": "Python 3",
      "name": "python3"
    },
    "language_info": {
      "codemirror_mode": {
        "name": "ipython",
        "version": 3
      },
      "file_extension": ".py",
      "mimetype": "text/x-python",
      "name": "python",
      "nbconvert_exporter": "python",
      "pygments_lexer": "ipython3",
      "version": "3.13.1"
    }
  },
  "nbformat": 4,
  "nbformat_minor": 5
}
