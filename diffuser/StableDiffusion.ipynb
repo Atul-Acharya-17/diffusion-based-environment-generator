{
  "cells": [
    {
      "cell_type": "code",
      "execution_count": 2,
      "id": "af842a4b-30e4-469d-b315-e5405730df14",
      "metadata": {
        "colab": {
          "base_uri": "https://localhost:8080/"
        },
        "id": "af842a4b-30e4-469d-b315-e5405730df14",
        "outputId": "27b5603e-40f4-41f7-ef12-76808f966178"
      },
      "outputs": [],
      "source": [
        "# !pip install einops torch maze-dataset --q"
      ]
    },
    {
      "cell_type": "code",
      "execution_count": null,
      "id": "cfa8f76c-2435-45e0-92af-e1c548bf0390",
      "metadata": {
        "id": "cfa8f76c-2435-45e0-92af-e1c548bf0390"
      },
      "outputs": [],
      "source": [
        "import os\n",
        "import re\n",
        "import numpy as np\n",
        "import torch\n",
        "import random\n",
        "import numpy as np\n",
        "import matplotlib.pyplot as plt\n",
        "\n",
        "from datetime import datetime\n",
        "from tqdm import tqdm\n",
        "from torch.nn import functional as F\n",
        "\n",
        "now = datetime.now()\n",
        "formatted_time = now.strftime(\"%Y%m%d_%H%M%S\")\n",
        "loss_curves_folder = f\"../data/loss_curves_{formatted_time}/stable_diffusion_diffusion_models\"\n",
        "if not os.path.exists(loss_curves_folder):\n",
        "    os.makedirs(loss_curves_folder)"
      ]
    },
    {
      "cell_type": "code",
      "execution_count": 2,
      "id": "bf0f5bb1-2c86-4f19-bafe-7b7bec3a57ff",
      "metadata": {
        "colab": {
          "base_uri": "https://localhost:8080/"
        },
        "id": "bf0f5bb1-2c86-4f19-bafe-7b7bec3a57ff",
        "outputId": "5d16aa39-38b8-429f-f379-7d699ed534cb"
      },
      "outputs": [
        {
          "name": "stdout",
          "output_type": "stream",
          "text": [
            "Current working directory: /Users/I749793/Desktop/NUS/CS5340 - Uncertainty Modeling in AI/project/diffusion-based-environment-generator\n"
          ]
        }
      ],
      "source": [
        "os.chdir(\"..\")\n",
        "print(f\"Current working directory: {os.getcwd()}\")"
      ]
    },
    {
      "cell_type": "markdown",
      "id": "543d1c3c-8f5e-403d-b9a1-ce031a9587c7",
      "metadata": {
        "id": "543d1c3c-8f5e-403d-b9a1-ce031a9587c7"
      },
      "source": [
        "## Loading the Dataset"
      ]
    },
    {
      "cell_type": "code",
      "execution_count": null,
      "id": "e7448583-863f-4043-9e54-c36788bf8b30",
      "metadata": {
        "colab": {
          "base_uri": "https://localhost:8080/"
        },
        "id": "e7448583-863f-4043-9e54-c36788bf8b30",
        "outputId": "3833d816-19ce-4bde-fce1-8c6d53584d7a",
        "scrolled": true
      },
      "outputs": [
        {
          "name": "stderr",
          "output_type": "stream",
          "text": [
            "Generating Grid Worlds:   0%|          | 0/1000 [00:00<?, ?it/s]"
          ]
        },
        {
          "name": "stderr",
          "output_type": "stream",
          "text": [
            "Generating Grid Worlds: 100%|██████████| 1000/1000 [00:00<00:00, 1753.66it/s]\n",
            "Processing Mazes: 100%|██████████| 1000/1000 [00:00<00:00, 1889.97maze/s]\n",
            "Processing Mazes: 100%|██████████| 1000/1000 [00:00<00:00, 1907.58maze/s]\n"
          ]
        }
      ],
      "source": [
        "from generator.maze.grid_world_generator import generate_multiple_grid_worlds\n",
        "from generator.maze.solvers.a_star_l1 import main as a_star_l1_paths\n",
        "from generator.maze.solvers.bfs import main as bfs_paths\n",
        "\n",
        "# parent_directory = \"./data\"\n",
        "# if not os.path.exists(parent_directory):\n",
        "#     os.makedirs(parent_directory)\n",
        "# # generates the mazes\n",
        "# mazes = generate_multiple_grid_worlds(num_worlds=25000, parent_directory=parent_directory)\n",
        "# # generate path travrsals\n",
        "# a_star_l1_paths(parent_directory)\n",
        "# bfs_paths(parent_directory)"
      ]
    },
    {
      "cell_type": "code",
      "execution_count": 4,
      "id": "6407b36e-2b1a-49da-8fda-dc83f7bb3481",
      "metadata": {
        "colab": {
          "base_uri": "https://localhost:8080/",
          "height": 423
        },
        "id": "6407b36e-2b1a-49da-8fda-dc83f7bb3481",
        "outputId": "e65862df-98a3-4d88-9261-c7466ce34052"
      },
      "outputs": [],
      "source": [
        "# import os\n",
        "# import numpy as np\n",
        "# import torch\n",
        "# from torch.utils.data import Dataset\n",
        "# import matplotlib.pyplot as plt\n",
        "\n",
        "# def preprocess_image(image, target_size=32):\n",
        "#     image = np.array(image)\n",
        "\n",
        "#     scale_factor = target_size // image.shape[0]\n",
        "#     image = np.kron(image, np.ones((scale_factor, scale_factor, 1)))\n",
        "\n",
        "#     image = image.astype(np.float32) / 127.5 - 1\n",
        "#     image = torch.tensor(image).permute(2, 0, 1)\n",
        "#     return image\n",
        "\n",
        "# def load_dataset_from_npy(directory=\"./data\", target_size=32):\n",
        "#     images = []\n",
        "#     path_lengths = []\n",
        "\n",
        "#     files = sorted([f for f in os.listdir(directory) if f.endswith(\".npy\")])\n",
        "\n",
        "#     for file in files:\n",
        "#         img = np.load(os.path.join(directory, file))\n",
        "\n",
        "#         mask = np.all(img == [0, 0, 255], axis=-1)\n",
        "#         img[mask] = [255, 255, 255]\n",
        "#         img = img[:-1, :-1]\n",
        "\n",
        "#         image = preprocess_image(img, target_size)\n",
        "\n",
        "#         base_name = os.path.splitext(file)[0]\n",
        "#         len_filename = base_name + \"_len.txt\"\n",
        "#         len_path = os.path.join(directory, len_filename)\n",
        "\n",
        "#         with open(len_path, \"r\") as f:\n",
        "#             maze_length = int(f.read().strip())\n",
        "\n",
        "#         images.append(image)\n",
        "#         path_lengths.append(maze_length)\n",
        "\n",
        "#     return images, path_lengths\n",
        "\n",
        "# images, path_lengths = load_dataset_from_npy(\"./data\", target_size=32)\n",
        "\n",
        "# plt.imshow(images[0].permute(1, 2, 0).cpu().numpy(), cmap='gray')\n",
        "# plt.axis('off')\n",
        "# plt.show()"
      ]
    },
    {
      "cell_type": "code",
      "execution_count": 5,
      "id": "83a74713",
      "metadata": {},
      "outputs": [],
      "source": [
        "def preprocess_image(image, target_size=32):\n",
        "    image = np.array(image)\n",
        "    scale_factor = target_size // image.shape[0] \n",
        "    # image = np.kron(image, np.ones((scale_factor, scale_factor, 1))) \n",
        "    \n",
        "    # image = image.astype(np.float32) / 127.5 - 1\n",
        "    image = image.astype(np.float32)\n",
        "    image = torch.tensor(image).permute(2, 0, 1)\n",
        "    image = F.interpolate(image.unsqueeze(0), size=(target_size, target_size), mode='nearest').squeeze(0)  # (3, 32, 32)\n",
        "\n",
        "    return image\n",
        "\n",
        "def plot_grid_world(grid):\n",
        "    \"\"\"\n",
        "    Plots the given grid world.\n",
        "    \"\"\"\n",
        "    wall = grid[:,:,0] == 0\n",
        "    source = grid[:,:,1] == 1\n",
        "    destination = grid[:,:,2] == 1\n",
        "\n",
        "    img = np.ones((*wall.shape, 3), dtype=np.float32)  # White background\n",
        "    img[wall] = np.array([0, 0, 0])  # Walls → Black\n",
        "    img[source] = np.array([1, 0, 0])  # Source → Red\n",
        "    img[destination] = np.array([0, 1, 0])  # Destination → Green\n",
        "\n",
        "    return img\n",
        "\n",
        "def load_dataset_from_npy(parent_directory=\"./data\", target_size=32):\n",
        "    images = []\n",
        "    path_lengths = []\n",
        "    num_nodes_traversed_astar = []\n",
        "    num_nodes_traversed_bfs = []\n",
        "    \n",
        "    mazes_directory = os.path.join(parent_directory, \"mazes\")\n",
        "    files = sorted([f for f in os.listdir(mazes_directory) if f.endswith(\".npy\")])\n",
        "    \n",
        "    for file in files:\n",
        "        img = np.load(os.path.join(mazes_directory, file))\n",
        "        if(img.shape != (10,10,3)):\n",
        "            continue\n",
        "        # mask = np.all(img == [0, 0, 255], axis=-1)\n",
        "        # img[mask] = [255, 255, 255]\n",
        "        # img = img[:-1, :-1]\n",
        "        # image = preprocess_image(img, target_size)\n",
        "\n",
        "        image = plot_grid_world(img)\n",
        "        mask = np.all(image == [0, 0, 255], axis=-1)\n",
        "        image[mask] = [255, 255, 255]\n",
        "        image = preprocess_image(image, target_size)\n",
        "\n",
        "        pattern = r'maze_(\\d+)'\n",
        "        match = re.search(pattern, file)\n",
        "        num = 0\n",
        "        if match:\n",
        "            num = int(match.group(1))\n",
        "        else:\n",
        "            continue\n",
        "        \n",
        "        # base_name = os.path.splitext(file)[0]\n",
        "        # len_filename = base_name + \"_len.txt\"\n",
        "        len_filename = f\"path_length_{num}\" + \".npy\"\n",
        "        len_path = os.path.join(mazes_directory, len_filename)\n",
        "        astar_traversal_filename = f\"a_star_{num}\" + \".npy\"\n",
        "        astar_traversal_path = os.path.join(parent_directory, \"a_star_l1_results\" ,astar_traversal_filename)\n",
        "        bfs_traversal_filename = f\"bfs_{num}\" + \".npy\"\n",
        "        bfs_traversal_path = os.path.join(parent_directory, \"bfs_results\" ,bfs_traversal_filename)\n",
        "        \n",
        "        # with open(len_path, \"r\") as f:\n",
        "        #     maze_length = int(f.read().strip())\n",
        "        maze_length = np.load(len_path)\n",
        "        astar_traversal = np.load(astar_traversal_path)\n",
        "        bfs_traversal = np.load(bfs_traversal_path)\n",
        "        \n",
        "        images.append(image)\n",
        "        path_lengths.append(int(maze_length))\n",
        "        num_nodes_traversed_astar.append(int(astar_traversal))\n",
        "        num_nodes_traversed_bfs.append(int(bfs_traversal))\n",
        "    \n",
        "    return images, path_lengths, num_nodes_traversed_astar, num_nodes_traversed_bfs"
      ]
    },
    {
      "cell_type": "code",
      "execution_count": 6,
      "id": "73f89a5f",
      "metadata": {},
      "outputs": [],
      "source": [
        "mazes_data_path = \"./data/\"\n",
        "images, org_path_lengths, num_nodes_astar, num_nodes_bfs = load_dataset_from_npy(mazes_data_path, target_size=32)"
      ]
    },
    {
      "cell_type": "code",
      "execution_count": 7,
      "id": "9364d0ee",
      "metadata": {},
      "outputs": [
        {
          "data": {
            "image/png": "[encoded data removed]",
            "text/plain": [
              "<Figure size 640x480 with 1 Axes>"
            ]
          },
          "metadata": {},
          "output_type": "display_data"
        }
      ],
      "source": [
        "plt.imshow(images[0].permute(1, 2, 0).cpu().numpy(), cmap='gray')\n",
        "plt.axis('off')\n",
        "plt.show()"
      ]
    },
    {
      "cell_type": "code",
      "execution_count": 8,
      "id": "e2a04378-6293-4c79-95d0-fa6e305cba28",
      "metadata": {
        "colab": {
          "base_uri": "https://localhost:8080/"
        },
        "id": "e2a04378-6293-4c79-95d0-fa6e305cba28",
        "outputId": "1e1d158e-a42a-453d-ea90-ff6a716979fe"
      },
      "outputs": [
        {
          "name": "stdout",
          "output_type": "stream",
          "text": [
            "Current working directory: /Users/I749793/Desktop/NUS/CS5340 - Uncertainty Modeling in AI/project/diffusion-based-environment-generator/diffuser\n"
          ]
        }
      ],
      "source": [
        "# print(f\"Current working directory: {os.getcwd()}\")\n",
        "os.chdir(\"./diffuser\")\n",
        "print(f\"Current working directory: {os.getcwd()}\")"
      ]
    },
    {
      "cell_type": "markdown",
      "id": "742a775a-18e1-4d73-a304-0d951dfc05c2",
      "metadata": {
        "id": "742a775a-18e1-4d73-a304-0d951dfc05c2",
        "jp-MarkdownHeadingCollapsed": true
      },
      "source": [
        "### VAE Training"
      ]
    },
    {
      "cell_type": "code",
      "execution_count": 9,
      "id": "0b8328c6-fdf1-4599-9140-b1ee9c6cc029",
      "metadata": {
        "id": "0b8328c6-fdf1-4599-9140-b1ee9c6cc029"
      },
      "outputs": [],
      "source": [
        "from torch.utils.data import DataLoader, Dataset\n",
        "import matplotlib.pyplot as plt"
      ]
    },
    {
      "cell_type": "code",
      "execution_count": null,
      "id": "335fe85b-942c-4707-89fe-fd5e10b8214d",
      "metadata": {
        "id": "335fe85b-942c-4707-89fe-fd5e10b8214d"
      },
      "outputs": [],
      "source": [
        "# Hyperparameters\n",
        "BATCH_SIZE = 128\n",
        "LEARNING_RATE = 1e-4\n",
        "EPOCHS = 300\n",
        "LATENT_CHANNELS = 4"
      ]
    },
    {
      "cell_type": "code",
      "execution_count": 11,
      "id": "f1bd601d",
      "metadata": {},
      "outputs": [],
      "source": [
        "class MazeTensorDataset(Dataset):\n",
        "    def __init__(self, images, path_lengths, num_nodes_astar, num_nodes_bfs):\n",
        "        self.images = images\n",
        "        self.path_lengths = path_lengths\n",
        "        self.num_nodes_astar = num_nodes_astar\n",
        "        self.num_nodes_bfs = num_nodes_bfs\n",
        "        \n",
        "    def __len__(self):\n",
        "        return len(self.images)\n",
        "    \n",
        "    def __getitem__(self, idx):\n",
        "        return self.images[idx], self.path_lengths[idx], self.num_nodes_astar[idx], self.num_nodes_bfs[idx]"
      ]
    },
    {
      "cell_type": "code",
      "execution_count": 12,
      "id": "5984963c-d4d5-402c-bae4-4b79276425f3",
      "metadata": {
        "colab": {
          "base_uri": "https://localhost:8080/"
        },
        "id": "5984963c-d4d5-402c-bae4-4b79276425f3",
        "outputId": "0c7d727d-5507-4e0b-c336-168d6ced665b"
      },
      "outputs": [],
      "source": [
        "# print(\"Total images:\", len(images))\n",
        "# print(\"Total path_lengths:\", len(path_lengths))\n",
        "\n",
        "# total = len(images)\n",
        "# test_size = int(0.2 * total)\n",
        "# all_indices = list(range(total))\n",
        "# random.shuffle(all_indices)\n",
        "\n",
        "# test_indices = all_indices[:test_size]\n",
        "# train_indices = all_indices[test_size:]\n",
        "\n",
        "# train_images = [images[i] for i in train_indices]\n",
        "# train_path_lengths = [path_lengths[i] for i in train_indices]\n",
        "\n",
        "# test_images = [images[i] for i in test_indices]\n",
        "# test_path_lengths = [path_lengths[i] for i in test_indices]\n",
        "\n",
        "# dataset = MazeTensorDataset(train_images, train_path_lengths)\n",
        "# test_dataset = MazeTensorDataset(test_images, test_path_lengths)\n",
        "\n",
        "# print(\"Train dataset length:\", len(dataset))\n",
        "# print(\"Test dataset length:\", len(test_dataset))\n",
        "\n",
        "# dataloader = DataLoader(dataset, batch_size=BATCH_SIZE, shuffle=True)\n",
        "\n",
        "# unique_train_paths = set(train_path_lengths)\n",
        "# print(\"Unique training path lengths:\", unique_train_paths)\n",
        "# print(\"Number of unique training paths:\", len(unique_train_paths))\n",
        "\n",
        "# unique_test_paths = set(test_path_lengths)\n",
        "# print(\"Unique test path lengths:\", unique_test_paths)\n",
        "# print(\"Number of unique test paths:\", len(unique_test_paths))"
      ]
    },
    {
      "cell_type": "code",
      "execution_count": 13,
      "id": "960b6cda",
      "metadata": {},
      "outputs": [
        {
          "name": "stdout",
          "output_type": "stream",
          "text": [
            "Total images: 1000\n",
            "Total path_lengths: 1000\n",
            "Train dataset length: 800\n",
            "Test dataset length: 200\n",
            "Unique training path lengths: {1, 2, 3, 4, 5, 6, 7, 8, 9, 10, 11, 12, 13, 14, 15, 16, 17, 18, 19, 20, 22}\n",
            "Number of unique training paths: 21\n",
            "Unique test path lengths: {1, 2, 3, 4, 5, 6, 7, 8, 9, 10, 11, 12, 13, 14, 15, 16, 17, 18, 20}\n",
            "Number of unique test paths: 19\n"
          ]
        }
      ],
      "source": [
        "path_lengths = org_path_lengths\n",
        "\n",
        "## use the scaled path lengths based on the number of nodes traversed\n",
        "# path_lengths = [a / b if b!=0 else a for a, b in zip(path_lengths, num_nodes_astar)]\n",
        "# path_lengths = [a / b if b!=0 else a for a, b in zip(path_lengths, num_nodes_bfs)]\n",
        "\n",
        "print(\"Total images:\", len(images))\n",
        "print(\"Total path_lengths:\", len(path_lengths))\n",
        "\n",
        "total = len(images)\n",
        "test_size = int(0.2 * total)\n",
        "all_indices = list(range(total))\n",
        "random.shuffle(all_indices)\n",
        "\n",
        "test_indices = all_indices[:test_size]\n",
        "train_indices = all_indices[test_size:]\n",
        "\n",
        "train_images = [images[i] for i in train_indices]\n",
        "train_path_lengths = [path_lengths[i] for i in train_indices]\n",
        "train_num_nodes_astar = [num_nodes_astar[i] for i in train_indices]\n",
        "train_num_nodes_bfs = [num_nodes_bfs[i] for i in train_indices]\n",
        "\n",
        "test_images = [images[i] for i in test_indices]\n",
        "test_path_lengths = [path_lengths[i] for i in test_indices]\n",
        "test_num_nodes_astar = [num_nodes_astar[i] for i in test_indices]\n",
        "test_num_nodes_bfs = [num_nodes_bfs[i] for i in test_indices]\n",
        "\n",
        "dataset = MazeTensorDataset(train_images, train_path_lengths, train_num_nodes_astar, train_num_nodes_bfs)\n",
        "test_dataset = MazeTensorDataset(test_images, test_path_lengths, test_num_nodes_astar, test_num_nodes_bfs)\n",
        "\n",
        "print(\"Train dataset length:\", len(dataset))\n",
        "print(\"Test dataset length:\", len(test_dataset))\n",
        "\n",
        "dataloader = DataLoader(dataset, batch_size=BATCH_SIZE, shuffle=True)\n",
        "\n",
        "unique_train_paths = set(train_path_lengths)\n",
        "print(\"Unique training path lengths:\", unique_train_paths)\n",
        "print(\"Number of unique training paths:\", len(unique_train_paths))\n",
        "\n",
        "unique_test_paths = set(test_path_lengths)\n",
        "print(\"Unique test path lengths:\", unique_test_paths)\n",
        "print(\"Number of unique test paths:\", len(unique_test_paths))"
      ]
    },
    {
      "cell_type": "code",
      "execution_count": 17,
      "id": "0e98f779",
      "metadata": {},
      "outputs": [],
      "source": [
        "# import safetensors\n",
        "# print(safetensors.__file__)\n",
        "\n",
        "# from safetensors.torch import save_file, load_file\n",
        "# print(\"Success!\")"
      ]
    },
    {
      "cell_type": "code",
      "execution_count": null,
      "id": "37e80c38",
      "metadata": {},
      "outputs": [
        {
          "name": "stderr",
          "output_type": "stream",
          "text": [
            "Cannot initialize model with low cpu memory usage because `accelerate` was not found in the environment. Defaulting to `low_cpu_mem_usage=False`. It is strongly recommended to install `accelerate` for faster and less memory-intense model loading. You can do so with: \n",
            "```\n",
            "pip install accelerate\n",
            "```\n",
            ".\n"
          ]
        },
        {
          "name": "stdout",
          "output_type": "stream",
          "text": [
            "Using device: cpu\n"
          ]
        }
      ],
      "source": [
        "import torch\n",
        "import torch.nn as nn\n",
        "import torch.optim as optim\n",
        "from diffusers import UNet2DConditionModel, DDIMScheduler, AutoencoderKL\n",
        "from model import Diffusion as CustomDiffusionModel\n",
        "\n",
        "# Device setup\n",
        "device = torch.device(\"cuda\" if torch.cuda.is_available() else \"cpu\")\n",
        "print(f\"Using device: {device}\")\n",
        "\n",
        "# Load Stable Diffusion's pre-trained VAE\n",
        "vae = AutoencoderKL.from_pretrained(\"runwayml/stable-diffusion-v1-5\", subfolder=\"vae\").to(device)\n",
        "vae_checkpoint = torch.load(\"../data/vae_models/stablediffusion_vae_weights.pth\", map_location=device)  # or \"cuda\" if you want\n",
        "vae_state_dict = vae_checkpoint['diffusion_state_dict']\n",
        "vae.load_state_dict(vae_state_dict)\n",
        "# optimizer = optim.Adam(vae.parameters(), lr=1e-4)\n",
        "# criterion = nn.MSELoss()\n",
        "# loading pretrained vae instead"
      ]
    },
    {
      "cell_type": "code",
      "execution_count": null,
      "id": "qd7ioKYDO15-",
      "metadata": {
        "colab": {
          "base_uri": "https://localhost:8080/"
        },
        "id": "qd7ioKYDO15-",
        "outputId": "00753a60-c6d7-4d6b-c878-343ffc7c2bb2"
      },
      "outputs": [
        {
          "name": "stdout",
          "output_type": "stream",
          "text": [
            "Epoch [1/2], Loss: 0.103098\n",
            "Epoch [2/2], Loss: 0.079886\n"
          ]
        }
      ],
      "source": [
        "train_losses = []\n",
        "# ---- Training Loop ---- #\n",
        "def train_vae(dataloader, epochs=50):\n",
        "    vae.train()\n",
        "    for epoch in range(epochs):\n",
        "        total_loss = 0.0\n",
        "        for i, (images, _, _, _) in enumerate(dataloader):\n",
        "            images = images.to(device)  # Input maze images (shape: B x 3 x 256 x 256)\n",
        "\n",
        "            # Forward pass\n",
        "            latent_dist = vae.encode(images).latent_dist\n",
        "            latent_sample = latent_dist.sample()\n",
        "            reconstructed_images = vae.decode(latent_sample).sample\n",
        "\n",
        "            # Loss computation\n",
        "            loss = criterion(reconstructed_images, images)\n",
        "\n",
        "            # Backward pass and optimization\n",
        "            optimizer.zero_grad()\n",
        "            loss.backward()\n",
        "            optimizer.step()\n",
        "\n",
        "            total_loss += loss.item()\n",
        "\n",
        "        avg_loss = total_loss / len(dataloader)\n",
        "        train_losses.append(avg_loss)\n",
        "        print(f\"Epoch [{epoch + 1}/{epochs}], Loss: {avg_loss:.6f}\")\n",
        "\n",
        "# train_vae(dataloader, epochs=2)\n"
      ]
    },
    {
      "cell_type": "code",
      "execution_count": null,
      "id": "Y7ye83uDSOUQ",
      "metadata": {
        "id": "Y7ye83uDSOUQ"
      },
      "outputs": [],
      "source": [
        "# torch.save({\n",
        "#     'diffusion_state_dict': vae.state_dict(),\n",
        "#     'optimizer_state_dict': optimizer.state_dict(),\n",
        "#     'train_losses': train_losses\n",
        "# }, 'diffusion_weights.pth')\n",
        "# print(\"Diffusion weights saved to diffusion_weights.pth\")"
      ]
    },
    {
      "cell_type": "code",
      "execution_count": null,
      "id": "c87ee58e",
      "metadata": {},
      "outputs": [
        {
          "name": "stdout",
          "output_type": "stream",
          "text": [
            "Model weights saved to vae_weights_multi_feat.pth\n"
          ]
        }
      ],
      "source": [
        "# # Save Model Weights\n",
        "# if not os.path.exists(f\"../data/loss_curves_{formatted_time}/stable_diffusion_vae_models/\"):\n",
        "#     os.makedirs(f\"../data/loss_curves_{formatted_time}/stable_diffusion_vae_models/\")\n",
        "# torch.save({\n",
        "#     'vae_state_dict': vae.state_dict(),\n",
        "#     'optimizer_state_dict': optimizer.state_dict(),\n",
        "#     'train_losses': train_losses,\n",
        "# }, f'../data/loss_curves_{formatted_time}/stable_diffusion_vae_models/vae_weights_multi_feat.pth')\n",
        "\n",
        "# print(\"Model weights saved to vae_weights_multi_feat.pth\")"
      ]
    },
    {
      "cell_type": "markdown",
      "id": "cd28e29c",
      "metadata": {},
      "source": [
        "### VAE Testing"
      ]
    },
    {
      "cell_type": "code",
      "execution_count": null,
      "id": "SlkhuVYMSspV",
      "metadata": {
        "colab": {
          "base_uri": "https://localhost:8080/",
          "height": 446
        },
        "id": "SlkhuVYMSspV",
        "outputId": "dc812d14-0cd7-4948-e9dc-6bc2fe0d00df"
      },
      "outputs": [
        {
          "name": "stderr",
          "output_type": "stream",
          "text": [
            "Clipping input data to the valid range for imshow with RGB data ([0..1] for floats or [0..255] for integers). Got range [-0.41595674..1.1078708].\n"
          ]
        },
        {
          "data": {
            "image/png": "[encoded data removed]",
            "text/plain": [
              "<Figure size 1000x500 with 2 Axes>"
            ]
          },
          "metadata": {},
          "output_type": "display_data"
        }
      ],
      "source": [
        "# vae.eval()\n",
        "# def generate_maze_from_test(sample_idx=None):\n",
        "\n",
        "#     if sample_idx is None:\n",
        "#         sample_idx = random.randint(0, len(test_dataset) - 1)\n",
        "\n",
        "#     test_img, test_path_length, _, _ = test_dataset[sample_idx]  # Load test maze\n",
        "#     test_img = test_img.unsqueeze(0).to(device)  # Add batch dimension\n",
        "\n",
        "#     # Encode test maze image into latent space\n",
        "#     with torch.no_grad():\n",
        "#         latent_dist = vae.encode(test_img).latent_dist\n",
        "#         latent_sample = latent_dist.sample()  # Sample from the distribution\n",
        "\n",
        "#         # Decode latent back to an image\n",
        "#         generated_image = vae.decode(latent_sample).sample\n",
        "\n",
        "#     return generated_image, test_img, test_path_length\n",
        "\n",
        "# # Run test generation\n",
        "# generated, original, test_path_length = generate_maze_from_test()\n",
        "\n",
        "# # ---- Visualization ---- #\n",
        "# plt.figure(figsize=(10, 5))\n",
        "\n",
        "# plt.subplot(1, 2, 1)\n",
        "# plt.imshow(generated.squeeze(0).permute(1, 2, 0).cpu().numpy(), cmap='gray')\n",
        "# plt.title(f\"Generated Maze (Path Length: {test_path_length})\")\n",
        "# plt.axis(\"off\")\n",
        "\n",
        "# plt.subplot(1, 2, 2)\n",
        "# plt.imshow(original.squeeze(0).permute(1, 2, 0).cpu().numpy(), cmap='gray')\n",
        "# plt.title(\"Original Test Maze\")\n",
        "# plt.axis(\"off\")\n",
        "# plt.show()"
      ]
    },
    {
      "cell_type": "markdown",
      "id": "1821b8bd",
      "metadata": {},
      "source": [
        "# Diffusion"
      ]
    },
    {
      "cell_type": "code",
      "execution_count": null,
      "id": "0f567312",
      "metadata": {},
      "outputs": [],
      "source": [
        "# Hyperparams\n",
        "NUM_TIMESTEPS = 1000\n",
        "GUIDANCE_SCALE = 7.5\n",
        "LATENT_SHAPE = (4, 64, 64)  # For SD 1.5\n",
        "EPOCHS = 75"
      ]
    },
    {
      "cell_type": "code",
      "execution_count": 23,
      "id": "62efeb99",
      "metadata": {},
      "outputs": [
        {
          "name": "stderr",
          "output_type": "stream",
          "text": [
            "Cannot initialize model with low cpu memory usage because `accelerate` was not found in the environment. Defaulting to `low_cpu_mem_usage=False`. It is strongly recommended to install `accelerate` for faster and less memory-intense model loading. You can do so with: \n",
            "```\n",
            "pip install accelerate\n",
            "```\n",
            ".\n"
          ]
        },
        {
          "data": {
            "application/vnd.jupyter.widget-view+json": {
              "model_id": "c8ff0bf318b54b3ba907545c89315d5b",
              "version_major": 2,
              "version_minor": 0
            },
            "text/plain": [
              "config.json:   0%|          | 0.00/743 [00:00<?, ?B/s]"
            ]
          },
          "metadata": {},
          "output_type": "display_data"
        },
        {
          "data": {
            "application/vnd.jupyter.widget-view+json": {
              "model_id": "c0e942bf6a014562803c63bdd6141fa2",
              "version_major": 2,
              "version_minor": 0
            },
            "text/plain": [
              "diffusion_pytorch_model.safetensors:   0%|          | 0.00/3.44G [00:00<?, ?B/s]"
            ]
          },
          "metadata": {},
          "output_type": "display_data"
        },
        {
          "data": {
            "application/vnd.jupyter.widget-view+json": {
              "model_id": "3a3075aa878c419b8c2e478613b11b3f",
              "version_major": 2,
              "version_minor": 0
            },
            "text/plain": [
              "scheduler_config.json:   0%|          | 0.00/308 [00:00<?, ?B/s]"
            ]
          },
          "metadata": {},
          "output_type": "display_data"
        }
      ],
      "source": [
        "unet = UNet2DConditionModel.from_pretrained(\"runwayml/stable-diffusion-v1-5\", subfolder=\"unet\").to(device)\n",
        "unet.train()\n",
        "scheduler = DDIMScheduler.from_pretrained(\"runwayml/stable-diffusion-v1-5\", subfolder=\"scheduler\")\n",
        "custom_diffusion_model = CustomDiffusionModel(input_size=2).to(device)\n",
        "scheduler.set_timesteps(NUM_TIMESTEPS)\n",
        "vae.eval()\n",
        "optimizer = torch.optim.Adam(list(unet.parameters()), lr=1e-5)"
      ]
    },
    {
      "cell_type": "markdown",
      "id": "1aedc139",
      "metadata": {},
      "source": [
        "### Stable Diffusion Training"
      ]
    },
    {
      "cell_type": "code",
      "execution_count": 26,
      "id": "32c19b54",
      "metadata": {},
      "outputs": [
        {
          "name": "stderr",
          "output_type": "stream",
          "text": [
            "Training epoch [1/2]: 100%|██████████| 7/7 [05:19<00:00, 45.60s/it]\n"
          ]
        },
        {
          "name": "stdout",
          "output_type": "stream",
          "text": [
            "[Epoch 1] Loss: 0.762381\n"
          ]
        },
        {
          "name": "stderr",
          "output_type": "stream",
          "text": [
            "Training epoch [2/2]: 100%|██████████| 7/7 [05:15<00:00, 45.12s/it]"
          ]
        },
        {
          "name": "stdout",
          "output_type": "stream",
          "text": [
            "[Epoch 2] Loss: 0.522686\n"
          ]
        },
        {
          "name": "stderr",
          "output_type": "stream",
          "text": [
            "\n"
          ]
        },
        {
          "data": {
            "image/png": "[encoded data removed]",
            "text/plain": [
              "<Figure size 1000x500 with 1 Axes>"
            ]
          },
          "metadata": {},
          "output_type": "display_data"
        }
      ],
      "source": [
        "train_losses = []\n",
        "\n",
        "for epoch in range(EPOCHS):\n",
        "    epoch_loss = 0.0\n",
        "    count = 0\n",
        "\n",
        "    for batch_idx, (images, path_lengths, nodes_astar, nodes_bfs) in enumerate(tqdm(dataloader, desc=f\"Training epoch [{epoch+1}/{EPOCHS}]\")):\n",
        "\n",
        "        images = images.to(device)\n",
        "        path_lengths = path_lengths.float().to(device)\n",
        "        nodes_astar = nodes_astar.float().to(device)\n",
        "\n",
        "        # Step 1: Encode images to latents using VAE\n",
        "        with torch.no_grad():\n",
        "            z = vae.encode(images).latent_dist.sample()  # shape: (B, 4, 64, 64)\n",
        "\n",
        "        # Step 2: Sample timesteps & add noise\n",
        "        timesteps = torch.randint(0, NUM_TIMESTEPS, (z.size(0),), device=device).long()\n",
        "        noise = torch.randn_like(z)\n",
        "        noisy_z = scheduler.add_noise(z, noise, timesteps)\n",
        "\n",
        "        # Step 3: Prepare conditional and unconditional embeddings\n",
        "        cond_input = torch.stack([path_lengths, nodes_astar], dim=-1)  \n",
        "        cond_embed = custom_diffusion_model.condition_multidimensional_embedding(cond_input)                \n",
        "\n",
        "        zero_input = torch.zeros_like(cond_input)\n",
        "        uncond_embed = custom_diffusion_model.condition_multidimensional_embedding(zero_input)\n",
        "\n",
        "        context = torch.cat([uncond_embed, cond_embed], dim=0)       \n",
        "\n",
        "        # Step 4: Forward pass with classifier-free guidance\n",
        "        noisy_z = noisy_z.repeat(2, 1, 1, 1)                          \n",
        "        timesteps = timesteps.repeat_interleave(2)                   \n",
        "\n",
        "        noise_pred = unet(noisy_z, timesteps, encoder_hidden_states=context).sample\n",
        "        noise_uncond, noise_cond = noise_pred.chunk(2)\n",
        "\n",
        "        guided_noise = noise_uncond + GUIDANCE_SCALE * (noise_cond - noise_uncond)\n",
        "\n",
        "        # Step 5: Loss and optimization\n",
        "        loss = F.smooth_l1_loss(guided_noise, noise)\n",
        "\n",
        "        optimizer.zero_grad()\n",
        "        loss.backward()\n",
        "        optimizer.step()\n",
        "\n",
        "        epoch_loss += loss.item() * images.size(0)\n",
        "        count += images.size(0)\n",
        "\n",
        "    avg_loss = epoch_loss / count\n",
        "    train_losses.append(avg_loss)\n",
        "    print(f\"[Epoch {epoch+1}] Loss: {avg_loss:.6f}\")\n",
        "\n",
        "import matplotlib.pyplot as plt\n",
        "plt.figure(figsize=(10, 5))\n",
        "plt.plot(range(1, EPOCHS + 1), train_losses, marker='o', label='Train Loss')\n",
        "plt.xlabel('Epoch')\n",
        "plt.ylabel('Loss')\n",
        "plt.title('Training Loss Graph')\n",
        "plt.legend()\n",
        "file_name = f\"loss_curve_diffusion_multi_feat_{formatted_time}\"\n",
        "plt.savefig(os.path.join(loss_curves_folder, file_name))\n",
        "plt.show()\n"
      ]
    },
    {
      "cell_type": "code",
      "execution_count": 27,
      "id": "96439c5e",
      "metadata": {},
      "outputs": [
        {
          "name": "stdout",
          "output_type": "stream",
          "text": [
            "Diffusion weights saved to diffusion_weights_multi_feat.pth\n"
          ]
        }
      ],
      "source": [
        "if not os.path.exists(f\"../data/loss_curves_{formatted_time}/stable_diffusion_diffusion_models/\"):\n",
        "    os.makedirs(f\"../data/loss_curves_{formatted_time}/stable_diffusion_diffusion_models/\")\n",
        "torch.save({\n",
        "    'diffusion_state_dict': unet.state_dict(),\n",
        "    'optimizer_state_dict': optimizer.state_dict(),\n",
        "    'train_losses': train_losses\n",
        "}, f'../data/loss_curves_{formatted_time}/stable_diffusion_diffusion_models/diffusion_weights_multi_feat.pth')\n",
        "print(\"Diffusion weights saved to diffusion_weights_multi_feat.pth\")"
      ]
    },
    {
      "cell_type": "markdown",
      "id": "172368e1",
      "metadata": {},
      "source": [
        "### Stable Diffusion Testing"
      ]
    },
    {
      "cell_type": "code",
      "execution_count": 45,
      "id": "702fdd80",
      "metadata": {},
      "outputs": [],
      "source": [
        "def generate_maze_from_test(sample_idx=None, num_steps=50):\n",
        "    unet.eval()\n",
        "    scheduler.set_timesteps(num_steps)\n",
        "    \n",
        "    if sample_idx is None:\n",
        "        sample_idx = random.randint(0, len(test_dataset) - 1)\n",
        "    \n",
        "    test_img, test_path_length, nodes_astar, nodes_bfs = test_dataset[sample_idx]\n",
        "    path_tensor = torch.tensor([test_path_length]).float().to(device)\n",
        "    nodes_astar_tensor = torch.tensor([nodes_astar]).float().to(device)\n",
        "    combined_features = torch.stack((path_tensor, nodes_astar_tensor), dim=-1)\n",
        "    # context = diffusion_model.condition_multidimensional_embedding(\n",
        "    #     torch.tensor([test_path_length], device=device).float()\n",
        "    # )\n",
        "\n",
        "    context = custom_diffusion_model.condition_multidimensional_embedding(combined_features)\n",
        "    \n",
        "    latent = torch.randn((1, 4, 8, 8), device=device)\n",
        "    \n",
        "    for t in scheduler.timesteps:\n",
        "        timestep = torch.tensor([t], device=device)\n",
        "        with torch.no_grad():\n",
        "            pred = unet(latent, timestep, encoder_hidden_states=context).sample\n",
        "        latent = scheduler.step(pred, t, latent).prev_sample\n",
        "    \n",
        "    with torch.no_grad():\n",
        "        generated_image = vae.decode(latent/0.18215).sample\n",
        "        # generated_image = decoder(latent / 0.18215)\n",
        "    \n",
        "    return generated_image, test_img, test_path_length"
      ]
    },
    {
      "cell_type": "code",
      "execution_count": 46,
      "id": "ff2084bb",
      "metadata": {},
      "outputs": [
        {
          "data": {
            "image/png": "[encoded data removed]",
            "text/plain": [
              "<Figure size 1000x500 with 2 Axes>"
            ]
          },
          "metadata": {},
          "output_type": "display_data"
        }
      ],
      "source": [
        "generated, original, test_path_length = generate_maze_from_test(num_steps=100)\n",
        "image = generated[0].detach().cpu()\n",
        "\n",
        "# Convert from [-1, 1] to [0, 1]\n",
        "image = (image + 1.0) / 2.0\n",
        "generated = torch.clamp(image, 0.0, 1.0)\n",
        "\n",
        "\n",
        "import matplotlib.pyplot as plt\n",
        "\n",
        "plt.figure(figsize=(10, 5))\n",
        "plt.subplot(1, 2, 1)\n",
        "plt.imshow(generated.squeeze(0).permute(1, 2, 0).cpu().numpy(), cmap='gray')\n",
        "# plt.imshow(generated.squeeze(0).cpu().numpy(), cmap='gray')\n",
        "plt.title(f\"Generated Maze, {test_path_length}\")\n",
        "plt.axis(\"off\")\n",
        "\n",
        "plt.subplot(1, 2, 2)\n",
        "# plt.imshow(original.permute(1, 2, 0).cpu().numpy(), cmap='gray')\n",
        "plt.imshow(original.permute(1, 2, 0).cpu().numpy(), cmap='gray')\n",
        "plt.title(\"Original Test Maze\")\n",
        "plt.axis(\"off\")\n",
        "file_name = f\"diffusion_image_generation_multi_feat_{formatted_time}\"\n",
        "plt.savefig(os.path.join(loss_curves_folder, file_name))\n",
        "plt.show()"
      ]
    },
    {
      "cell_type": "code",
      "execution_count": null,
      "id": "a01ba929",
      "metadata": {},
      "outputs": [],
      "source": []
    },
    {
      "cell_type": "code",
      "execution_count": null,
      "id": "e2853145",
      "metadata": {},
      "outputs": [],
      "source": []
    }
  ],
  "metadata": {
    "accelerator": "GPU",
    "colab": {
      "gpuType": "T4",
      "provenance": []
    },
    "kernelspec": {
      "display_name": "classifierGuidance_3.11.0_venv",
      "language": "python",
      "name": "python3"
    },
    "language_info": {
      "codemirror_mode": {
        "name": "ipython",
        "version": 3
      },
      "file_extension": ".py",
      "mimetype": "text/x-python",
      "name": "python",
      "nbconvert_exporter": "python",
      "pygments_lexer": "ipython3",
      "version": "3.11.0"
    }
  },
  "nbformat": 4,
  "nbformat_minor": 5
}
