{
 "cells": [
  {
   "cell_type": "code",
   "execution_count": 1,
   "id": "af842a4b-30e4-469d-b315-e5405730df14",
   "metadata": {},
   "outputs": [],
   "source": [
    "# !pip install einops torch maze-dataset --q"
   ]
  },
  {
   "cell_type": "code",
   "execution_count": 2,
   "id": "cfa8f76c-2435-45e0-92af-e1c548bf0390",
   "metadata": {},
   "outputs": [],
   "source": [
    "import os\n",
    "import re\n",
    "import numpy as np\n",
    "import torch\n",
    "import matplotlib.pyplot as plt\n",
    "\n",
    "from tqdm import tqdm\n",
    "from torch import nn, optim\n",
    "from torch.utils.data import DataLoader, Dataset\n",
    "from torch.nn import functional as F\n",
    "from PIL import Image\n",
    "from maze_dataset.plotting import MazePlot"
   ]
  },
  {
   "cell_type": "code",
   "execution_count": 3,
   "id": "bf0f5bb1-2c86-4f19-bafe-7b7bec3a57ff",
   "metadata": {},
   "outputs": [
    {
     "name": "stdout",
     "output_type": "stream",
     "text": [
      "Current working directory: /home/d/dhansha/UncertinityAI/diffusion-based-environment-generator\n"
     ]
    }
   ],
   "source": [
    "os.chdir(\"../\")\n",
    "print(f\"Current working directory: {os.getcwd()}\")"
   ]
  },
  {
   "cell_type": "markdown",
   "id": "543d1c3c-8f5e-403d-b9a1-ce031a9587c7",
   "metadata": {},
   "source": [
    "## Loading the Dataset"
   ]
  },
  {
   "cell_type": "code",
   "execution_count": 4,
   "id": "cb864ef7",
   "metadata": {},
   "outputs": [],
   "source": [
    "# from generator.maze.grid_world_generator import generate_multiple_grid_worlds\n",
    "# from generator.maze.solvers.a_star_l1 import main as a_star_l1_paths\n",
    "# from generator.maze.solvers.bfs import main as bfs_paths\n",
    "\n",
    "# parent_directory = \"./data\"\n",
    "# if not os.path.exists(parent_directory):\n",
    "#     os.makedirs(parent_directory)\n",
    "# # generates the mazes\n",
    "# mazes = generate_multiple_grid_worlds(num_worlds=50000, parent_directory=parent_directory)\n",
    "# # generate path travrsals\n",
    "# a_star_l1_paths(parent_directory)\n",
    "# bfs_paths(parent_directory)\n"
   ]
  },
  {
   "cell_type": "code",
   "execution_count": 5,
   "id": "6407b36e-2b1a-49da-8fda-dc83f7bb3481",
   "metadata": {},
   "outputs": [],
   "source": [
    "def preprocess_image(image, target_size=32):\n",
    "    image = np.array(image)\n",
    "    scale_factor = target_size // image.shape[0] \n",
    "    # image = np.kron(image, np.ones((scale_factor, scale_factor, 1))) \n",
    "    \n",
    "    # image = image.astype(np.float32) / 127.5 - 1\n",
    "    image = image.astype(np.float32)\n",
    "    image = torch.tensor(image).permute(2, 0, 1)\n",
    "    image = F.interpolate(image.unsqueeze(0), size=(target_size, target_size), mode='nearest').squeeze(0)  # (3, 32, 32)\n",
    "\n",
    "    return image\n",
    "\n",
    "def plot_grid_world(grid):\n",
    "    \"\"\"\n",
    "    Plots the given grid world.\n",
    "    \"\"\"\n",
    "    wall = grid[:,:,0] == 0\n",
    "    source = grid[:,:,1] == 1\n",
    "    destination = grid[:,:,2] == 1\n",
    "\n",
    "    img = np.ones((*wall.shape, 3), dtype=np.float32)  # White background\n",
    "    img[wall] = np.array([0, 0, 0])  # Walls → Black\n",
    "    img[source] = np.array([1, 0, 0])  # Source → Red\n",
    "    img[destination] = np.array([0, 1, 0])  # Destination → Green\n",
    "\n",
    "    return img\n",
    "\n",
    "def load_dataset_from_npy(parent_directory=\"./data\", target_size=32):\n",
    "    images = []\n",
    "    path_lengths = []\n",
    "    num_nodes_traversed_astar = []\n",
    "    num_nodes_traversed_bfs = []\n",
    "    \n",
    "    mazes_directory = os.path.join(parent_directory, \"mazes\")\n",
    "    files = sorted([f for f in os.listdir(mazes_directory) if f.endswith(\".npy\")])\n",
    "    \n",
    "    for file in files:\n",
    "        img = np.load(os.path.join(mazes_directory, file))\n",
    "        if(img.shape != (10,10,3)):\n",
    "            continue\n",
    "        # mask = np.all(img == [0, 0, 255], axis=-1)\n",
    "        # img[mask] = [255, 255, 255]\n",
    "        # img = img[:-1, :-1]\n",
    "        # image = preprocess_image(img, target_size)\n",
    "\n",
    "        image = plot_grid_world(img)\n",
    "        mask = np.all(image == [0, 0, 255], axis=-1)\n",
    "        image[mask] = [255, 255, 255]\n",
    "        image = preprocess_image(image, target_size)\n",
    "\n",
    "        pattern = r'maze_(\\d+)'\n",
    "        match = re.search(pattern, file)\n",
    "        num = 0\n",
    "        if match:\n",
    "            num = int(match.group(1))\n",
    "        else:\n",
    "            continue\n",
    "        \n",
    "        # base_name = os.path.splitext(file)[0]\n",
    "        # len_filename = base_name + \"_len.txt\"\n",
    "        len_filename = f\"path_length_{num}\" + \".npy\"\n",
    "        len_path = os.path.join(mazes_directory, len_filename)\n",
    "        astar_traversal_filename = f\"a_star_{num}\" + \".npy\"\n",
    "        astar_traversal_path = os.path.join(parent_directory, \"a_star_l1_results\" ,astar_traversal_filename)\n",
    "        bfs_traversal_filename = f\"bfs_{num}\" + \".npy\"\n",
    "        bfs_traversal_path = os.path.join(parent_directory, \"bfs_results\" ,bfs_traversal_filename)\n",
    "        \n",
    "        # with open(len_path, \"r\") as f:\n",
    "        #     maze_length = int(f.read().strip())\n",
    "        maze_length = np.load(len_path)\n",
    "        astar_traversal = np.load(astar_traversal_path)\n",
    "        bfs_traversal = np.load(bfs_traversal_path)\n",
    "        \n",
    "        images.append(image)\n",
    "        path_lengths.append(int(maze_length))\n",
    "        num_nodes_traversed_astar.append(int(astar_traversal))\n",
    "        num_nodes_traversed_bfs.append(int(bfs_traversal))\n",
    "    \n",
    "    return images, path_lengths, num_nodes_traversed_astar, num_nodes_traversed_bfs\n",
    "\n",
    "# , [a / b if b!=0 else a for a, b in zip(path_lengths, num_nodes_traversed_astar)], [a / b if b!=0 else a for a, b in zip(path_lengths, num_nodes_traversed_bfs)]"
   ]
  },
  {
   "cell_type": "code",
   "execution_count": 6,
   "id": "94f68fc2",
   "metadata": {},
   "outputs": [
    {
     "data": {
      "image/png": "[encoded data removed]",
      "text/plain": [
       "<Figure size 640x480 with 1 Axes>"
      ]
     },
     "metadata": {},
     "output_type": "display_data"
    },
    {
     "data": {
      "image/png": "[encoded data removed]",
      "text/plain": [
       "<Figure size 640x480 with 1 Axes>"
      ]
     },
     "metadata": {},
     "output_type": "display_data"
    }
   ],
   "source": [
    "img = np.load(\"data/mazes/maze_0.npy\")\n",
    "img = plot_grid_world(img)\n",
    "plt.imshow(img)\n",
    "plt.show()\n",
    "\n",
    "img = preprocess_image(img, 32)\n",
    "img.shape\n",
    "plot_image = (img+1)*127.5 \n",
    "plt.imshow(img.permute(1, 2, 0).cpu().numpy(), cmap='gray')\n",
    "plt.axis('off')\n",
    "plt.show()\n"
   ]
  },
  {
   "cell_type": "code",
   "execution_count": 7,
   "id": "cfd26e4f",
   "metadata": {},
   "outputs": [],
   "source": [
    "# mazes_data_path = os.path.join(os.path.dirname(os.path.dirname(os.getcwd())), \"data\", \"mazes\")\n",
    "# mazes_data_path = \"./data/mazes\"\n",
    "\n",
    "mazes_data_path = \"./data\"\n",
    "images, org_path_lengths, num_nodes_astar, num_nodes_bfs = load_dataset_from_npy(mazes_data_path, target_size=32)"
   ]
  },
  {
   "cell_type": "code",
   "execution_count": 8,
   "id": "a75a881f",
   "metadata": {},
   "outputs": [
    {
     "data": {
      "image/png": "[encoded data removed]",
      "text/plain": [
       "<Figure size 640x480 with 1 Axes>"
      ]
     },
     "metadata": {},
     "output_type": "display_data"
    }
   ],
   "source": [
    "plt.imshow(images[0].permute(1, 2, 0).cpu().numpy(), cmap='gray')\n",
    "plt.axis('off')\n",
    "plt.show()\n",
    "\n",
    "# plt.figure(figsize=(6, 6))\n",
    "# plt.imshow(images[2])\n",
    "# plt.axis('off')\n",
    "# plt.show()"
   ]
  },
  {
   "cell_type": "markdown",
   "id": "13e2670c-9318-4331-a8d7-299e2d9d3ad5",
   "metadata": {},
   "source": [
    "# Diffusion"
   ]
  },
  {
   "cell_type": "code",
   "execution_count": 9,
   "id": "e2a04378-6293-4c79-95d0-fa6e305cba28",
   "metadata": {},
   "outputs": [
    {
     "name": "stdout",
     "output_type": "stream",
     "text": [
      "Current working directory: /home/d/dhansha/UncertinityAI/diffusion-based-environment-generator/diffuser\n"
     ]
    }
   ],
   "source": [
    "os.chdir(\"./diffuser\")\n",
    "print(f\"Current working directory: {os.getcwd()}\")"
   ]
  },
  {
   "cell_type": "markdown",
   "id": "742a775a-18e1-4d73-a304-0d951dfc05c2",
   "metadata": {},
   "source": [
    "### VAE Training"
   ]
  },
  {
   "cell_type": "code",
   "execution_count": 10,
   "id": "0b8328c6-fdf1-4599-9140-b1ee9c6cc029",
   "metadata": {},
   "outputs": [],
   "source": [
    "import torch\n",
    "from torch import nn, optim\n",
    "from torch.utils.data import DataLoader, Dataset\n",
    "import numpy as np\n",
    "import matplotlib.pyplot as plt\n",
    "from PIL import Image\n",
    "from maze_dataset.plotting import MazePlot\n",
    "import random"
   ]
  },
  {
   "cell_type": "code",
   "execution_count": 11,
   "id": "4900b690-50c1-424f-9927-02d349039eaf",
   "metadata": {},
   "outputs": [],
   "source": [
    "import importlib\n",
    "import encoder\n",
    "import decoder\n",
    "importlib.reload(encoder)\n",
    "importlib.reload(decoder)\n",
    "from encoder import VAE_Encoder\n",
    "from decoder import VAE_Decoder"
   ]
  },
  {
   "cell_type": "code",
   "execution_count": 17,
   "id": "335fe85b-942c-4707-89fe-fd5e10b8214d",
   "metadata": {},
   "outputs": [],
   "source": [
    "# Hyperparameters\n",
    "BATCH_SIZE = 128\n",
    "LEARNING_RATE = 1e-4\n",
    "EPOCHS = 1\n",
    "LATENT_CHANNELS = 8"
   ]
  },
  {
   "cell_type": "code",
   "execution_count": 18,
   "id": "4cc9ccf9",
   "metadata": {},
   "outputs": [],
   "source": [
    "class MazeTensorDataset(Dataset):\n",
    "    def __init__(self, images, path_lengths, num_nodes_astar, num_nodes_bfs):\n",
    "        self.images = images\n",
    "        self.path_lengths = path_lengths\n",
    "        self.num_nodes_astar = num_nodes_astar\n",
    "        self.num_nodes_bfs = num_nodes_bfs\n",
    "        \n",
    "    def __len__(self):\n",
    "        return len(self.images)\n",
    "    \n",
    "    def __getitem__(self, idx):\n",
    "        return self.images[idx], self.path_lengths[idx], self.num_nodes_astar[idx], self.num_nodes_bfs[idx]"
   ]
  },
  {
   "cell_type": "code",
   "execution_count": 19,
   "id": "5984963c-d4d5-402c-bae4-4b79276425f3",
   "metadata": {},
   "outputs": [
    {
     "name": "stdout",
     "output_type": "stream",
     "text": [
      "Total images: 50000\n",
      "Total path_lengths: 50000\n",
      "Train dataset length: 40000\n",
      "Test dataset length: 10000\n",
      "Unique training path lengths: {1, 2, 3, 4, 5, 6, 7, 8, 9, 10, 11, 12, 13, 14, 15, 16, 17, 18, 19, 20, 21, 22, 23, 24, 25, 26, 27, 28, 29, 30, 31}\n",
      "Number of unique training paths: 31\n",
      "Unique test path lengths: {1, 2, 3, 4, 5, 6, 7, 8, 9, 10, 11, 12, 13, 14, 15, 16, 17, 18, 19, 20, 21, 22, 23, 24, 25, 26, 27, 28, 30, 33}\n",
      "Number of unique test paths: 30\n"
     ]
    }
   ],
   "source": [
    "path_lengths = org_path_lengths\n",
    "\n",
    "## use the scaled path lengths based on the number of nodes traversed\n",
    "# path_lengths = [a / b if b!=0 else a for a, b in zip(path_lengths, num_nodes_astar)]\n",
    "# path_lengths = [a / b if b!=0 else a for a, b in zip(path_lengths, num_nodes_bfs)]\n",
    "\n",
    "print(\"Total images:\", len(images))\n",
    "print(\"Total path_lengths:\", len(path_lengths))\n",
    "\n",
    "total = len(images)\n",
    "test_size = int(0.2 * total)\n",
    "all_indices = list(range(total))\n",
    "random.shuffle(all_indices)\n",
    "\n",
    "test_indices = all_indices[:test_size]\n",
    "train_indices = all_indices[test_size:]\n",
    "\n",
    "train_images = [images[i] for i in train_indices]\n",
    "train_path_lengths = [path_lengths[i] for i in train_indices]\n",
    "train_num_nodes_astar = [num_nodes_astar[i] for i in train_indices]\n",
    "train_num_nodes_bfs = [num_nodes_bfs[i] for i in train_indices]\n",
    "\n",
    "test_images = [images[i] for i in test_indices]\n",
    "test_path_lengths = [path_lengths[i] for i in test_indices]\n",
    "test_num_nodes_astar = [num_nodes_astar[i] for i in test_indices]\n",
    "test_num_nodes_bfs = [num_nodes_bfs[i] for i in test_indices]\n",
    "\n",
    "dataset = MazeTensorDataset(train_images, train_path_lengths, train_num_nodes_astar, train_num_nodes_bfs)\n",
    "test_dataset = MazeTensorDataset(test_images, test_path_lengths, test_num_nodes_astar, test_num_nodes_bfs)\n",
    "\n",
    "print(\"Train dataset length:\", len(dataset))\n",
    "print(\"Test dataset length:\", len(test_dataset))\n",
    "\n",
    "dataloader = DataLoader(dataset, batch_size=BATCH_SIZE, shuffle=True)\n",
    "\n",
    "unique_train_paths = set(train_path_lengths)\n",
    "print(\"Unique training path lengths:\", unique_train_paths)\n",
    "print(\"Number of unique training paths:\", len(unique_train_paths))\n",
    "\n",
    "unique_test_paths = set(test_path_lengths)\n",
    "print(\"Unique test path lengths:\", unique_test_paths)\n",
    "print(\"Number of unique test paths:\", len(unique_test_paths))"
   ]
  },
  {
   "cell_type": "code",
   "execution_count": 20,
   "id": "e0ec86a6-08e1-487a-9a34-559ad2fa9f2f",
   "metadata": {},
   "outputs": [
    {
     "name": "stdout",
     "output_type": "stream",
     "text": [
      "Epoch [1/1], Train Loss: 351.6124\n"
     ]
    },
    {
     "data": {
      "image/png": "[encoded data removed]",
      "text/plain": [
       "<Figure size 1000x500 with 1 Axes>"
      ]
     },
     "metadata": {},
     "output_type": "display_data"
    }
   ],
   "source": [
    "# Model Initialization\n",
    "device = torch.device(\"cuda\" if torch.cuda.is_available() else \"cpu\")\n",
    "encoder = VAE_Encoder().to(device)\n",
    "decoder = VAE_Decoder().to(device)\n",
    "optimizer = optim.Adam(list(encoder.parameters()) + list(decoder.parameters()), lr=LEARNING_RATE)\n",
    "\n",
    "def vae_loss(x, x_hat, mean, log_var):\n",
    "    # print(x.shape)\n",
    "    # print(x_hat.shape)\n",
    "    recon_loss = nn.functional.mse_loss(x_hat, x, reduction='sum') / x.size(0)\n",
    "    \n",
    "    kl_loss = 0.5 * (mean.pow(2) + log_var.exp() - log_var - 1).sum(dim=(1, 2, 3)).mean()\n",
    "    \n",
    "    return recon_loss + kl_loss\n",
    "\n",
    "train_losses = []\n",
    "for epoch in range(EPOCHS):\n",
    "    encoder.train()\n",
    "    decoder.train()\n",
    "    train_loss = 0.0\n",
    "    \n",
    "    for batch_idx, x in enumerate(dataloader):\n",
    "        \n",
    "        x = x[0].to(device)\n",
    "        batch_size = x.size(0)\n",
    "        \n",
    "        # noise = torch.randn(batch_size, LATENT_CHANNELS, 8, 8).to(device)\n",
    "        noise = torch.randn(batch_size, LATENT_CHANNELS, 16, 16).to(device)\n",
    "        \n",
    "        mean, log_var, z = encoder(x, noise)\n",
    "        x_hat = decoder(z)\n",
    "        \n",
    "        loss = vae_loss(x, x_hat, mean, log_var)\n",
    "        \n",
    "        optimizer.zero_grad()\n",
    "        loss.backward()\n",
    "        optimizer.step()\n",
    "        \n",
    "        train_loss += loss.item() * batch_size\n",
    "        \n",
    "    train_loss = train_loss / len(dataloader.dataset)\n",
    "    train_losses.append(train_loss)\n",
    "    print(f'Epoch [{epoch+1}/{EPOCHS}], Train Loss: {train_loss:.4f}')\n",
    "\n",
    "plt.figure(figsize=(10, 5))\n",
    "plt.plot(range(1, EPOCHS + 1), train_losses, label='Train Loss')\n",
    "plt.xlabel('Epoch')\n",
    "plt.ylabel('Loss')\n",
    "plt.title('VAE Training Loss')\n",
    "plt.legend()\n",
    "plt.show()"
   ]
  },
  {
   "cell_type": "markdown",
   "id": "1a6ced85-a772-4acc-bdc6-9076f7cfd5ab",
   "metadata": {},
   "source": [
    "### VAE Testing"
   ]
  },
  {
   "cell_type": "code",
   "execution_count": null,
   "id": "400f6fc0",
   "metadata": {},
   "outputs": [],
   "source": [
    "test_dataset[0][0].shape"
   ]
  },
  {
   "cell_type": "code",
   "execution_count": 23,
   "id": "8fa75c3c-d521-4bff-8c25-4f19c442d10d",
   "metadata": {},
   "outputs": [
    {
     "name": "stderr",
     "output_type": "stream",
     "text": [
      "Clipping input data to the valid range for imshow with RGB data ([0..1] for floats or [0..255] for integers). Got range [-0.2483678..1.2791988].\n",
      "Clipping input data to the valid range for imshow with RGB data ([0..1] for floats or [0..255] for integers). Got range [7.492304e-05..1.1423333].\n",
      "Clipping input data to the valid range for imshow with RGB data ([0..1] for floats or [0..255] for integers). Got range [-0.17173593..1.2803806].\n",
      "Clipping input data to the valid range for imshow with RGB data ([0..1] for floats or [0..255] for integers). Got range [2.0742416e-05..1.0382711].\n",
      "Clipping input data to the valid range for imshow with RGB data ([0..1] for floats or [0..255] for integers). Got range [-0.28779355..1.3148364].\n",
      "Clipping input data to the valid range for imshow with RGB data ([0..1] for floats or [0..255] for integers). Got range [9.787083e-05..1.1119381].\n",
      "Clipping input data to the valid range for imshow with RGB data ([0..1] for floats or [0..255] for integers). Got range [-0.34230608..1.285715].\n",
      "Clipping input data to the valid range for imshow with RGB data ([0..1] for floats or [0..255] for integers). Got range [2.503395e-06..1.091863].\n",
      "Clipping input data to the valid range for imshow with RGB data ([0..1] for floats or [0..255] for integers). Got range [-0.24766973..1.2673341].\n",
      "Clipping input data to the valid range for imshow with RGB data ([0..1] for floats or [0..255] for integers). Got range [2.6334077e-05..1.0475768].\n"
     ]
    },
    {
     "data": {
      "image/png": "[encoded data removed]",
      "text/plain": [
       "<Figure size 1500x800 with 15 Axes>"
      ]
     },
     "metadata": {},
     "output_type": "display_data"
    }
   ],
   "source": [
    "encoder.eval()\n",
    "decoder.eval()\n",
    "\n",
    "with torch.no_grad():\n",
    "    fig, axes = plt.subplots(3, 5, figsize=(15, 8))\n",
    "    for i in range(5):\n",
    "        idx = np.random.randint(len(test_dataset))\n",
    "        img, _, _, _ = test_dataset[idx]  # Ignore the path length label for reconstruction\n",
    "        img = img.unsqueeze(0).to(device)\n",
    "        noise = torch.randn(1, LATENT_CHANNELS, 16, 16).to(device)\n",
    "        # noise = torch.randn(1, LATENT_CHANNELS, 2, 2).to(device)\n",
    "        # img = torch.tensor(img, dtype=torch.float32).to(device) \n",
    "        # img = img.permute(2, 0, 1).unsqueeze(0)\n",
    "        _, _, z = encoder(img, noise)\n",
    "        reconstructed = decoder(z).cpu().squeeze(0)\n",
    "        \n",
    "        original = img.cpu().squeeze(0)\n",
    "        \n",
    "        difference = torch.abs(original - reconstructed)\n",
    "        \n",
    "        axes[0, i].imshow(original.permute(1, 2, 0).numpy(), cmap='gray')\n",
    "        axes[0, i].axis('off')\n",
    "        axes[0, i].set_title('Original')\n",
    "        \n",
    "        axes[1, i].imshow(reconstructed.permute(1, 2, 0).numpy(), cmap='gray')\n",
    "        axes[1, i].axis('off')\n",
    "        axes[1, i].set_title('Reconstructed')\n",
    "        \n",
    "        axes[2, i].imshow(difference.permute(1, 2, 0).numpy(), cmap='gray')\n",
    "        axes[2, i].axis('off')\n",
    "        axes[2, i].set_title('Difference')\n",
    "    \n",
    "    plt.tight_layout()\n",
    "    plt.show()"
   ]
  },
  {
   "cell_type": "code",
   "execution_count": null,
   "id": "db9f03d0-e71e-441f-be17-f9877ede1182",
   "metadata": {},
   "outputs": [],
   "source": []
  },
  {
   "cell_type": "code",
   "execution_count": null,
   "id": "acae2104-fab7-465e-81b5-e2657d4c1141",
   "metadata": {},
   "outputs": [],
   "source": []
  },
  {
   "cell_type": "code",
   "execution_count": 18,
   "id": "2cd9089f-90ca-458a-85fb-fa9a129d6aff",
   "metadata": {},
   "outputs": [
    {
     "name": "stdout",
     "output_type": "stream",
     "text": [
      "\u001b[34m__pycache__\u001b[m\u001b[m                  experiments.ipynb\n",
      "attention.py                 experiments_multi_feat.ipynb\n",
      "ddpm.py                      model.py\n",
      "decoder.py                   pipeline.py\n",
      "encoder.py\n"
     ]
    }
   ],
   "source": [
    "!ls"
   ]
  },
  {
   "cell_type": "code",
   "execution_count": 19,
   "id": "89a9358c-fb18-474d-b2a2-b604c2bca529",
   "metadata": {},
   "outputs": [
    {
     "name": "stdout",
     "output_type": "stream",
     "text": [
      "Model weights saved to vae_weights_2.pth\n"
     ]
    }
   ],
   "source": [
    "# Save Model Weights\n",
    "torch.save({\n",
    "    'encoder_state_dict': encoder.state_dict(),\n",
    "    'decoder_state_dict': decoder.state_dict(),\n",
    "    'optimizer_state_dict': optimizer.state_dict(),\n",
    "}, '../data/vae_models/vae_weights_2.pth')\n",
    "\n",
    "print(\"Model weights saved to good_vae.pth\")"
   ]
  },
  {
   "cell_type": "markdown",
   "id": "2350aef9-59e7-47ce-b073-372a80ea1889",
   "metadata": {},
   "source": [
    "## UNET"
   ]
  },
  {
   "cell_type": "markdown",
   "id": "5c365699-fd7b-4fd3-bcbd-9215a87c7d0f",
   "metadata": {},
   "source": [
    "### UNET Training"
   ]
  },
  {
   "cell_type": "code",
   "execution_count": 26,
   "id": "16f61d5f-1696-4827-a9a7-fd5834b2c8b2",
   "metadata": {},
   "outputs": [],
   "source": [
    "# Hyperparameters\n",
    "BATCH_SIZE = 128\n",
    "EPOCHS = 1\n",
    "NUM_TIMESTEPS = 1000\n",
    "LATENT_CHANNELS = 8"
   ]
  },
  {
   "cell_type": "code",
   "execution_count": 16,
   "id": "8c0fb600-96da-45eb-8539-58af571df96e",
   "metadata": {},
   "outputs": [
    {
     "name": "stdout",
     "output_type": "stream",
     "text": [
      "Total images: 1000\n",
      "Total path_lengths: 1000\n",
      "Train dataset length: 800\n",
      "Test dataset length: 200\n",
      "Unique training path lengths: {1, 2, 3, 4, 5, 6, 7, 8, 9, 10, 11, 12, 13, 14, 15, 16, 17, 18, 19, 20, 22, 24}\n",
      "Number of unique training paths: 22\n",
      "Unique test path lengths: {1, 2, 3, 4, 5, 6, 7, 8, 9, 10, 11, 12, 13, 14, 15, 16, 17, 18, 20}\n",
      "Number of unique test paths: 19\n"
     ]
    }
   ],
   "source": [
    "print(\"Total images:\", len(images))\n",
    "print(\"Total path_lengths:\", len(path_lengths))\n",
    "\n",
    "total = len(images)\n",
    "test_size = int(0.2 * total)\n",
    "all_indices = list(range(total))\n",
    "random.shuffle(all_indices)\n",
    "\n",
    "test_indices = all_indices[:test_size]\n",
    "train_indices = all_indices[test_size:]\n",
    "\n",
    "train_images = [images[i] for i in train_indices]\n",
    "train_path_lengths = [path_lengths[i] for i in train_indices]\n",
    "train_num_nodes_astar = [num_nodes_astar[i] for i in train_indices]\n",
    "train_num_nodes_bfs = [num_nodes_bfs[i] for i in train_indices]\n",
    "\n",
    "test_images = [images[i] for i in test_indices]\n",
    "test_path_lengths = [path_lengths[i] for i in test_indices]\n",
    "test_num_nodes_astar = [num_nodes_astar[i] for i in test_indices]\n",
    "test_num_nodes_bfs = [num_nodes_bfs[i] for i in test_indices]\n",
    "\n",
    "dataset = MazeTensorDataset(train_images, train_path_lengths, train_num_nodes_astar, train_num_nodes_bfs)\n",
    "test_dataset = MazeTensorDataset(test_images, test_path_lengths, test_num_nodes_astar, test_num_nodes_bfs)\n",
    "\n",
    "print(\"Train dataset length:\", len(dataset))\n",
    "print(\"Test dataset length:\", len(test_dataset))\n",
    "\n",
    "dataloader = DataLoader(dataset, batch_size=BATCH_SIZE, shuffle=True)\n",
    "\n",
    "unique_train_paths = set(train_path_lengths)\n",
    "print(\"Unique training path lengths:\", unique_train_paths)\n",
    "print(\"Number of unique training paths:\", len(unique_train_paths))\n",
    "\n",
    "unique_test_paths = set(test_path_lengths)\n",
    "print(\"Unique test path lengths:\", unique_test_paths)\n",
    "print(\"Number of unique test paths:\", len(unique_test_paths))"
   ]
  },
  {
   "cell_type": "code",
   "execution_count": 33,
   "id": "a5e40025-55c4-4c5e-8502-06676753544d",
   "metadata": {},
   "outputs": [],
   "source": [
    "import importlib\n",
    "import old_encoder\n",
    "import old_decoder\n",
    "import model\n",
    "importlib.reload(old_encoder)\n",
    "importlib.reload(old_decoder)\n",
    "importlib.reload(model)\n",
    "from old_encoder import VAE_Encoder\n",
    "from old_decoder import VAE_Decoder\n",
    "from model import Diffusion\n",
    "from ddpm import DDPMSampler\n",
    "# from classifier_guidance.models import Classifier\n",
    "\n",
    "device = \"cuda\" if torch.cuda.is_available() else \"cpu\"\n",
    "\n",
    "# vae_encoder = VAE_Encoder().to(device).eval()\n",
    "# decoder = VAE_Decoder().to(device).eval()\n",
    "\n",
    "# checkpoint = torch.load('../data/vae_models/good_vae.pth', map_location=device)\n",
    "# vae_encoder.load_state_dict(checkpoint['encoder_state_dict'])\n",
    "# decoder.load_state_dict(checkpoint['decoder_state_dict'])\n",
    "\n",
    "diffusion_model = Diffusion(input_size=2).to(device)\n",
    "optimizer = torch.optim.Adam(diffusion_model.parameters(), lr=1e-4, weight_decay=0.01)\n",
    "scheduler = DDPMSampler(generator=torch.Generator(device=device), num_training_steps=NUM_TIMESTEPS)"
   ]
  },
  {
   "cell_type": "code",
   "execution_count": 28,
   "id": "89af4572",
   "metadata": {},
   "outputs": [],
   "source": [
    "# bs_embed, seq_len, _ = classifier_guidance_embeddings.shape\n",
    "# prompt_embeds = classifier_guidance_embeddings.repeat(1, 1, 1)\n",
    "# prompt_embeds = prompt_embeds.view(bs_embed * 1, seq_len, -1)\n",
    "# prompt_embeds.shape"
   ]
  },
  {
   "cell_type": "code",
   "execution_count": 34,
   "id": "423a9b09",
   "metadata": {},
   "outputs": [
    {
     "name": "stderr",
     "output_type": "stream",
     "text": [
      "Training epoch [1/1]:   0%|                                                                                      | 0/313 [00:00<?, ?it/s]\n"
     ]
    },
    {
     "ename": "OutOfMemoryError",
     "evalue": "CUDA out of memory. Tried to allocate 80.00 MiB. GPU 0 has a total capacity of 23.64 GiB of which 69.56 MiB is free. Including non-PyTorch memory, this process has 11.50 GiB memory in use. Process 1448320 has 12.07 GiB memory in use. Of the allocated memory 11.07 GiB is allocated by PyTorch, and 230.30 MiB is reserved by PyTorch but unallocated. If reserved but unallocated memory is large try setting PYTORCH_CUDA_ALLOC_CONF=expandable_segments:True to avoid fragmentation.  See documentation for Memory Management  (https://pytorch.org/docs/stable/notes/cuda.html#environment-variables)",
     "output_type": "error",
     "traceback": [
      "\u001b[0;31m---------------------------------------------------------------------------\u001b[0m",
      "\u001b[0;31mOutOfMemoryError\u001b[0m                          Traceback (most recent call last)",
      "Cell \u001b[0;32mIn[34], line 37\u001b[0m\n\u001b[1;32m     33\u001b[0m conditional_guidance_embeddings \u001b[38;5;241m=\u001b[39m torch\u001b[38;5;241m.\u001b[39mcat([unconditional_guidance_embeddings, context])\n\u001b[1;32m     36\u001b[0m \u001b[38;5;66;03m# noise_pred = diffusion_model(noisy_z, context, timesteps)\u001b[39;00m\n\u001b[0;32m---> 37\u001b[0m noise_pred \u001b[38;5;241m=\u001b[39m \u001b[43mdiffusion_model\u001b[49m\u001b[43m(\u001b[49m\u001b[43mnoisy_z\u001b[49m\u001b[43m,\u001b[49m\u001b[43m \u001b[49m\u001b[43mconditional_guidance_embeddings\u001b[49m\u001b[43m,\u001b[49m\u001b[43m \u001b[49m\u001b[43mtimesteps\u001b[49m\u001b[43m)\u001b[49m\n\u001b[1;32m     38\u001b[0m noise_pred_uncond, noise_pred_cond \u001b[38;5;241m=\u001b[39m noise_pred\u001b[38;5;241m.\u001b[39mchunk(\u001b[38;5;241m2\u001b[39m)\n\u001b[1;32m     40\u001b[0m noise_pred \u001b[38;5;241m=\u001b[39m noise_pred_uncond \u001b[38;5;241m+\u001b[39m GUIDANCE_SCALE \u001b[38;5;241m*\u001b[39m (noise_pred_cond \u001b[38;5;241m-\u001b[39m noise_pred_uncond)\n",
      "File \u001b[0;32m~/miniconda3/envs/jlab/lib/python3.13/site-packages/torch/nn/modules/module.py:1739\u001b[0m, in \u001b[0;36mModule._wrapped_call_impl\u001b[0;34m(self, *args, **kwargs)\u001b[0m\n\u001b[1;32m   1737\u001b[0m     \u001b[38;5;28;01mreturn\u001b[39;00m \u001b[38;5;28mself\u001b[39m\u001b[38;5;241m.\u001b[39m_compiled_call_impl(\u001b[38;5;241m*\u001b[39margs, \u001b[38;5;241m*\u001b[39m\u001b[38;5;241m*\u001b[39mkwargs)  \u001b[38;5;66;03m# type: ignore[misc]\u001b[39;00m\n\u001b[1;32m   1738\u001b[0m \u001b[38;5;28;01melse\u001b[39;00m:\n\u001b[0;32m-> 1739\u001b[0m     \u001b[38;5;28;01mreturn\u001b[39;00m \u001b[38;5;28;43mself\u001b[39;49m\u001b[38;5;241;43m.\u001b[39;49m\u001b[43m_call_impl\u001b[49m\u001b[43m(\u001b[49m\u001b[38;5;241;43m*\u001b[39;49m\u001b[43margs\u001b[49m\u001b[43m,\u001b[49m\u001b[43m \u001b[49m\u001b[38;5;241;43m*\u001b[39;49m\u001b[38;5;241;43m*\u001b[39;49m\u001b[43mkwargs\u001b[49m\u001b[43m)\u001b[49m\n",
      "File \u001b[0;32m~/miniconda3/envs/jlab/lib/python3.13/site-packages/torch/nn/modules/module.py:1750\u001b[0m, in \u001b[0;36mModule._call_impl\u001b[0;34m(self, *args, **kwargs)\u001b[0m\n\u001b[1;32m   1745\u001b[0m \u001b[38;5;66;03m# If we don't have any hooks, we want to skip the rest of the logic in\u001b[39;00m\n\u001b[1;32m   1746\u001b[0m \u001b[38;5;66;03m# this function, and just call forward.\u001b[39;00m\n\u001b[1;32m   1747\u001b[0m \u001b[38;5;28;01mif\u001b[39;00m \u001b[38;5;129;01mnot\u001b[39;00m (\u001b[38;5;28mself\u001b[39m\u001b[38;5;241m.\u001b[39m_backward_hooks \u001b[38;5;129;01mor\u001b[39;00m \u001b[38;5;28mself\u001b[39m\u001b[38;5;241m.\u001b[39m_backward_pre_hooks \u001b[38;5;129;01mor\u001b[39;00m \u001b[38;5;28mself\u001b[39m\u001b[38;5;241m.\u001b[39m_forward_hooks \u001b[38;5;129;01mor\u001b[39;00m \u001b[38;5;28mself\u001b[39m\u001b[38;5;241m.\u001b[39m_forward_pre_hooks\n\u001b[1;32m   1748\u001b[0m         \u001b[38;5;129;01mor\u001b[39;00m _global_backward_pre_hooks \u001b[38;5;129;01mor\u001b[39;00m _global_backward_hooks\n\u001b[1;32m   1749\u001b[0m         \u001b[38;5;129;01mor\u001b[39;00m _global_forward_hooks \u001b[38;5;129;01mor\u001b[39;00m _global_forward_pre_hooks):\n\u001b[0;32m-> 1750\u001b[0m     \u001b[38;5;28;01mreturn\u001b[39;00m \u001b[43mforward_call\u001b[49m\u001b[43m(\u001b[49m\u001b[38;5;241;43m*\u001b[39;49m\u001b[43margs\u001b[49m\u001b[43m,\u001b[49m\u001b[43m \u001b[49m\u001b[38;5;241;43m*\u001b[39;49m\u001b[38;5;241;43m*\u001b[39;49m\u001b[43mkwargs\u001b[49m\u001b[43m)\u001b[49m\n\u001b[1;32m   1752\u001b[0m result \u001b[38;5;241m=\u001b[39m \u001b[38;5;28;01mNone\u001b[39;00m\n\u001b[1;32m   1753\u001b[0m called_always_called_hooks \u001b[38;5;241m=\u001b[39m \u001b[38;5;28mset\u001b[39m()\n",
      "File \u001b[0;32m~/UncertinityAI/diffusion-based-environment-generator/diffuser/model.py:244\u001b[0m, in \u001b[0;36mDiffusion.forward\u001b[0;34m(self, latent, context, timesteps)\u001b[0m\n\u001b[1;32m    242\u001b[0m \u001b[38;5;28;01mdef\u001b[39;00m\u001b[38;5;250m \u001b[39m\u001b[38;5;21mforward\u001b[39m(\u001b[38;5;28mself\u001b[39m, latent, context, timesteps):\n\u001b[1;32m    243\u001b[0m     t_emb \u001b[38;5;241m=\u001b[39m \u001b[38;5;28mself\u001b[39m\u001b[38;5;241m.\u001b[39mtime_mlp(\u001b[38;5;28mself\u001b[39m\u001b[38;5;241m.\u001b[39mtime_embed(timesteps))\n\u001b[0;32m--> 244\u001b[0m     \u001b[38;5;28;01mreturn\u001b[39;00m \u001b[38;5;28mself\u001b[39m\u001b[38;5;241m.\u001b[39mfinal(\u001b[38;5;28;43mself\u001b[39;49m\u001b[38;5;241;43m.\u001b[39;49m\u001b[43munet\u001b[49m\u001b[43m(\u001b[49m\u001b[43mlatent\u001b[49m\u001b[43m,\u001b[49m\u001b[43m \u001b[49m\u001b[43mcontext\u001b[49m\u001b[43m,\u001b[49m\u001b[43m \u001b[49m\u001b[43mt_emb\u001b[49m\u001b[43m)\u001b[49m)\n",
      "File \u001b[0;32m~/miniconda3/envs/jlab/lib/python3.13/site-packages/torch/nn/modules/module.py:1739\u001b[0m, in \u001b[0;36mModule._wrapped_call_impl\u001b[0;34m(self, *args, **kwargs)\u001b[0m\n\u001b[1;32m   1737\u001b[0m     \u001b[38;5;28;01mreturn\u001b[39;00m \u001b[38;5;28mself\u001b[39m\u001b[38;5;241m.\u001b[39m_compiled_call_impl(\u001b[38;5;241m*\u001b[39margs, \u001b[38;5;241m*\u001b[39m\u001b[38;5;241m*\u001b[39mkwargs)  \u001b[38;5;66;03m# type: ignore[misc]\u001b[39;00m\n\u001b[1;32m   1738\u001b[0m \u001b[38;5;28;01melse\u001b[39;00m:\n\u001b[0;32m-> 1739\u001b[0m     \u001b[38;5;28;01mreturn\u001b[39;00m \u001b[38;5;28;43mself\u001b[39;49m\u001b[38;5;241;43m.\u001b[39;49m\u001b[43m_call_impl\u001b[49m\u001b[43m(\u001b[49m\u001b[38;5;241;43m*\u001b[39;49m\u001b[43margs\u001b[49m\u001b[43m,\u001b[49m\u001b[43m \u001b[49m\u001b[38;5;241;43m*\u001b[39;49m\u001b[38;5;241;43m*\u001b[39;49m\u001b[43mkwargs\u001b[49m\u001b[43m)\u001b[49m\n",
      "File \u001b[0;32m~/miniconda3/envs/jlab/lib/python3.13/site-packages/torch/nn/modules/module.py:1750\u001b[0m, in \u001b[0;36mModule._call_impl\u001b[0;34m(self, *args, **kwargs)\u001b[0m\n\u001b[1;32m   1745\u001b[0m \u001b[38;5;66;03m# If we don't have any hooks, we want to skip the rest of the logic in\u001b[39;00m\n\u001b[1;32m   1746\u001b[0m \u001b[38;5;66;03m# this function, and just call forward.\u001b[39;00m\n\u001b[1;32m   1747\u001b[0m \u001b[38;5;28;01mif\u001b[39;00m \u001b[38;5;129;01mnot\u001b[39;00m (\u001b[38;5;28mself\u001b[39m\u001b[38;5;241m.\u001b[39m_backward_hooks \u001b[38;5;129;01mor\u001b[39;00m \u001b[38;5;28mself\u001b[39m\u001b[38;5;241m.\u001b[39m_backward_pre_hooks \u001b[38;5;129;01mor\u001b[39;00m \u001b[38;5;28mself\u001b[39m\u001b[38;5;241m.\u001b[39m_forward_hooks \u001b[38;5;129;01mor\u001b[39;00m \u001b[38;5;28mself\u001b[39m\u001b[38;5;241m.\u001b[39m_forward_pre_hooks\n\u001b[1;32m   1748\u001b[0m         \u001b[38;5;129;01mor\u001b[39;00m _global_backward_pre_hooks \u001b[38;5;129;01mor\u001b[39;00m _global_backward_hooks\n\u001b[1;32m   1749\u001b[0m         \u001b[38;5;129;01mor\u001b[39;00m _global_forward_hooks \u001b[38;5;129;01mor\u001b[39;00m _global_forward_pre_hooks):\n\u001b[0;32m-> 1750\u001b[0m     \u001b[38;5;28;01mreturn\u001b[39;00m \u001b[43mforward_call\u001b[49m\u001b[43m(\u001b[49m\u001b[38;5;241;43m*\u001b[39;49m\u001b[43margs\u001b[49m\u001b[43m,\u001b[49m\u001b[43m \u001b[49m\u001b[38;5;241;43m*\u001b[39;49m\u001b[38;5;241;43m*\u001b[39;49m\u001b[43mkwargs\u001b[49m\u001b[43m)\u001b[49m\n\u001b[1;32m   1752\u001b[0m result \u001b[38;5;241m=\u001b[39m \u001b[38;5;28;01mNone\u001b[39;00m\n\u001b[1;32m   1753\u001b[0m called_always_called_hooks \u001b[38;5;241m=\u001b[39m \u001b[38;5;28mset\u001b[39m()\n",
      "File \u001b[0;32m~/UncertinityAI/diffusion-based-environment-generator/diffuser/model.py:207\u001b[0m, in \u001b[0;36mUNET.forward\u001b[0;34m(self, x, context, time)\u001b[0m\n\u001b[1;32m    205\u001b[0m skip_connections \u001b[38;5;241m=\u001b[39m []\n\u001b[1;32m    206\u001b[0m \u001b[38;5;28;01mfor\u001b[39;00m layers \u001b[38;5;129;01min\u001b[39;00m \u001b[38;5;28mself\u001b[39m\u001b[38;5;241m.\u001b[39mencoders:\n\u001b[0;32m--> 207\u001b[0m     x \u001b[38;5;241m=\u001b[39m \u001b[43mlayers\u001b[49m\u001b[43m(\u001b[49m\u001b[43mx\u001b[49m\u001b[43m,\u001b[49m\u001b[43m \u001b[49m\u001b[43mcontext\u001b[49m\u001b[43m,\u001b[49m\u001b[43m \u001b[49m\u001b[43mtime\u001b[49m\u001b[43m)\u001b[49m\n\u001b[1;32m    208\u001b[0m     skip_connections\u001b[38;5;241m.\u001b[39mappend(x)\n\u001b[1;32m    210\u001b[0m x \u001b[38;5;241m=\u001b[39m \u001b[38;5;28mself\u001b[39m\u001b[38;5;241m.\u001b[39mbottleneck(x, context, time)\n",
      "File \u001b[0;32m~/miniconda3/envs/jlab/lib/python3.13/site-packages/torch/nn/modules/module.py:1739\u001b[0m, in \u001b[0;36mModule._wrapped_call_impl\u001b[0;34m(self, *args, **kwargs)\u001b[0m\n\u001b[1;32m   1737\u001b[0m     \u001b[38;5;28;01mreturn\u001b[39;00m \u001b[38;5;28mself\u001b[39m\u001b[38;5;241m.\u001b[39m_compiled_call_impl(\u001b[38;5;241m*\u001b[39margs, \u001b[38;5;241m*\u001b[39m\u001b[38;5;241m*\u001b[39mkwargs)  \u001b[38;5;66;03m# type: ignore[misc]\u001b[39;00m\n\u001b[1;32m   1738\u001b[0m \u001b[38;5;28;01melse\u001b[39;00m:\n\u001b[0;32m-> 1739\u001b[0m     \u001b[38;5;28;01mreturn\u001b[39;00m \u001b[38;5;28;43mself\u001b[39;49m\u001b[38;5;241;43m.\u001b[39;49m\u001b[43m_call_impl\u001b[49m\u001b[43m(\u001b[49m\u001b[38;5;241;43m*\u001b[39;49m\u001b[43margs\u001b[49m\u001b[43m,\u001b[49m\u001b[43m \u001b[49m\u001b[38;5;241;43m*\u001b[39;49m\u001b[38;5;241;43m*\u001b[39;49m\u001b[43mkwargs\u001b[49m\u001b[43m)\u001b[49m\n",
      "File \u001b[0;32m~/miniconda3/envs/jlab/lib/python3.13/site-packages/torch/nn/modules/module.py:1750\u001b[0m, in \u001b[0;36mModule._call_impl\u001b[0;34m(self, *args, **kwargs)\u001b[0m\n\u001b[1;32m   1745\u001b[0m \u001b[38;5;66;03m# If we don't have any hooks, we want to skip the rest of the logic in\u001b[39;00m\n\u001b[1;32m   1746\u001b[0m \u001b[38;5;66;03m# this function, and just call forward.\u001b[39;00m\n\u001b[1;32m   1747\u001b[0m \u001b[38;5;28;01mif\u001b[39;00m \u001b[38;5;129;01mnot\u001b[39;00m (\u001b[38;5;28mself\u001b[39m\u001b[38;5;241m.\u001b[39m_backward_hooks \u001b[38;5;129;01mor\u001b[39;00m \u001b[38;5;28mself\u001b[39m\u001b[38;5;241m.\u001b[39m_backward_pre_hooks \u001b[38;5;129;01mor\u001b[39;00m \u001b[38;5;28mself\u001b[39m\u001b[38;5;241m.\u001b[39m_forward_hooks \u001b[38;5;129;01mor\u001b[39;00m \u001b[38;5;28mself\u001b[39m\u001b[38;5;241m.\u001b[39m_forward_pre_hooks\n\u001b[1;32m   1748\u001b[0m         \u001b[38;5;129;01mor\u001b[39;00m _global_backward_pre_hooks \u001b[38;5;129;01mor\u001b[39;00m _global_backward_hooks\n\u001b[1;32m   1749\u001b[0m         \u001b[38;5;129;01mor\u001b[39;00m _global_forward_hooks \u001b[38;5;129;01mor\u001b[39;00m _global_forward_pre_hooks):\n\u001b[0;32m-> 1750\u001b[0m     \u001b[38;5;28;01mreturn\u001b[39;00m \u001b[43mforward_call\u001b[49m\u001b[43m(\u001b[49m\u001b[38;5;241;43m*\u001b[39;49m\u001b[43margs\u001b[49m\u001b[43m,\u001b[49m\u001b[43m \u001b[49m\u001b[38;5;241;43m*\u001b[39;49m\u001b[38;5;241;43m*\u001b[39;49m\u001b[43mkwargs\u001b[49m\u001b[43m)\u001b[49m\n\u001b[1;32m   1752\u001b[0m result \u001b[38;5;241m=\u001b[39m \u001b[38;5;28;01mNone\u001b[39;00m\n\u001b[1;32m   1753\u001b[0m called_always_called_hooks \u001b[38;5;241m=\u001b[39m \u001b[38;5;28mset\u001b[39m()\n",
      "File \u001b[0;32m~/UncertinityAI/diffusion-based-environment-generator/diffuser/model.py:152\u001b[0m, in \u001b[0;36mSwitchSequential.forward\u001b[0;34m(self, x, context, time)\u001b[0m\n\u001b[1;32m    150\u001b[0m \u001b[38;5;28;01mfor\u001b[39;00m layer \u001b[38;5;129;01min\u001b[39;00m \u001b[38;5;28mself\u001b[39m:\n\u001b[1;32m    151\u001b[0m     \u001b[38;5;28;01mif\u001b[39;00m \u001b[38;5;28misinstance\u001b[39m(layer, UNET_AttnBlock):\n\u001b[0;32m--> 152\u001b[0m         x \u001b[38;5;241m=\u001b[39m \u001b[43mlayer\u001b[49m\u001b[43m(\u001b[49m\u001b[43mx\u001b[49m\u001b[43m,\u001b[49m\u001b[43m \u001b[49m\u001b[43mcontext\u001b[49m\u001b[43m)\u001b[49m\n\u001b[1;32m    153\u001b[0m     \u001b[38;5;28;01melif\u001b[39;00m \u001b[38;5;28misinstance\u001b[39m(layer, UNET_ResidualBlock):\n\u001b[1;32m    154\u001b[0m         x \u001b[38;5;241m=\u001b[39m layer(x, time)\n",
      "File \u001b[0;32m~/miniconda3/envs/jlab/lib/python3.13/site-packages/torch/nn/modules/module.py:1739\u001b[0m, in \u001b[0;36mModule._wrapped_call_impl\u001b[0;34m(self, *args, **kwargs)\u001b[0m\n\u001b[1;32m   1737\u001b[0m     \u001b[38;5;28;01mreturn\u001b[39;00m \u001b[38;5;28mself\u001b[39m\u001b[38;5;241m.\u001b[39m_compiled_call_impl(\u001b[38;5;241m*\u001b[39margs, \u001b[38;5;241m*\u001b[39m\u001b[38;5;241m*\u001b[39mkwargs)  \u001b[38;5;66;03m# type: ignore[misc]\u001b[39;00m\n\u001b[1;32m   1738\u001b[0m \u001b[38;5;28;01melse\u001b[39;00m:\n\u001b[0;32m-> 1739\u001b[0m     \u001b[38;5;28;01mreturn\u001b[39;00m \u001b[38;5;28;43mself\u001b[39;49m\u001b[38;5;241;43m.\u001b[39;49m\u001b[43m_call_impl\u001b[49m\u001b[43m(\u001b[49m\u001b[38;5;241;43m*\u001b[39;49m\u001b[43margs\u001b[49m\u001b[43m,\u001b[49m\u001b[43m \u001b[49m\u001b[38;5;241;43m*\u001b[39;49m\u001b[38;5;241;43m*\u001b[39;49m\u001b[43mkwargs\u001b[49m\u001b[43m)\u001b[49m\n",
      "File \u001b[0;32m~/miniconda3/envs/jlab/lib/python3.13/site-packages/torch/nn/modules/module.py:1750\u001b[0m, in \u001b[0;36mModule._call_impl\u001b[0;34m(self, *args, **kwargs)\u001b[0m\n\u001b[1;32m   1745\u001b[0m \u001b[38;5;66;03m# If we don't have any hooks, we want to skip the rest of the logic in\u001b[39;00m\n\u001b[1;32m   1746\u001b[0m \u001b[38;5;66;03m# this function, and just call forward.\u001b[39;00m\n\u001b[1;32m   1747\u001b[0m \u001b[38;5;28;01mif\u001b[39;00m \u001b[38;5;129;01mnot\u001b[39;00m (\u001b[38;5;28mself\u001b[39m\u001b[38;5;241m.\u001b[39m_backward_hooks \u001b[38;5;129;01mor\u001b[39;00m \u001b[38;5;28mself\u001b[39m\u001b[38;5;241m.\u001b[39m_backward_pre_hooks \u001b[38;5;129;01mor\u001b[39;00m \u001b[38;5;28mself\u001b[39m\u001b[38;5;241m.\u001b[39m_forward_hooks \u001b[38;5;129;01mor\u001b[39;00m \u001b[38;5;28mself\u001b[39m\u001b[38;5;241m.\u001b[39m_forward_pre_hooks\n\u001b[1;32m   1748\u001b[0m         \u001b[38;5;129;01mor\u001b[39;00m _global_backward_pre_hooks \u001b[38;5;129;01mor\u001b[39;00m _global_backward_hooks\n\u001b[1;32m   1749\u001b[0m         \u001b[38;5;129;01mor\u001b[39;00m _global_forward_hooks \u001b[38;5;129;01mor\u001b[39;00m _global_forward_pre_hooks):\n\u001b[0;32m-> 1750\u001b[0m     \u001b[38;5;28;01mreturn\u001b[39;00m \u001b[43mforward_call\u001b[49m\u001b[43m(\u001b[49m\u001b[38;5;241;43m*\u001b[39;49m\u001b[43margs\u001b[49m\u001b[43m,\u001b[49m\u001b[43m \u001b[49m\u001b[38;5;241;43m*\u001b[39;49m\u001b[38;5;241;43m*\u001b[39;49m\u001b[43mkwargs\u001b[49m\u001b[43m)\u001b[49m\n\u001b[1;32m   1752\u001b[0m result \u001b[38;5;241m=\u001b[39m \u001b[38;5;28;01mNone\u001b[39;00m\n\u001b[1;32m   1753\u001b[0m called_always_called_hooks \u001b[38;5;241m=\u001b[39m \u001b[38;5;28mset\u001b[39m()\n",
      "File \u001b[0;32m~/UncertinityAI/diffusion-based-environment-generator/diffuser/model.py:133\u001b[0m, in \u001b[0;36mUNET_AttnBlock.forward\u001b[0;34m(self, x, context)\u001b[0m\n\u001b[1;32m    130\u001b[0m x \u001b[38;5;241m=\u001b[39m x\u001b[38;5;241m.\u001b[39mtranspose(\u001b[38;5;241m-\u001b[39m\u001b[38;5;241m1\u001b[39m, \u001b[38;5;241m-\u001b[39m\u001b[38;5;241m2\u001b[39m)\n\u001b[1;32m    131\u001b[0m x \u001b[38;5;241m=\u001b[39m x\u001b[38;5;241m.\u001b[39mview((n, c, h, w))\n\u001b[0;32m--> 133\u001b[0m \u001b[38;5;28;01mreturn\u001b[39;00m \u001b[38;5;28;43mself\u001b[39;49m\u001b[38;5;241;43m.\u001b[39;49m\u001b[43mconv_output\u001b[49m\u001b[43m(\u001b[49m\u001b[43mx\u001b[49m\u001b[43m)\u001b[49m\u001b[43m \u001b[49m\u001b[38;5;241;43m+\u001b[39;49m\u001b[43m \u001b[49m\u001b[43mresidue_long\u001b[49m\n",
      "\u001b[0;31mOutOfMemoryError\u001b[0m: CUDA out of memory. Tried to allocate 80.00 MiB. GPU 0 has a total capacity of 23.64 GiB of which 69.56 MiB is free. Including non-PyTorch memory, this process has 11.50 GiB memory in use. Process 1448320 has 12.07 GiB memory in use. Of the allocated memory 11.07 GiB is allocated by PyTorch, and 230.30 MiB is reserved by PyTorch but unallocated. If reserved but unallocated memory is large try setting PYTORCH_CUDA_ALLOC_CONF=expandable_segments:True to avoid fragmentation.  See documentation for Memory Management  (https://pytorch.org/docs/stable/notes/cuda.html#environment-variables)"
     ]
    }
   ],
   "source": [
    "train_losses = []\n",
    "GUIDANCE_SCALE = 7.5\n",
    "\n",
    "for epoch in range(EPOCHS):\n",
    "    epoch_loss = 0.0\n",
    "    count = 0\n",
    "    for batch_idx, (images, path_lengths, nodes_astar, nodes_bfs) in enumerate(tqdm(dataloader, desc=f\"Training epoch [{epoch+1}/{EPOCHS}]\")):\n",
    "        images = images.to(device)\n",
    "        path_lengths = path_lengths.clone().detach().float().to(device)\n",
    "        nodes_astar = nodes_astar.clone().detach().float().to(device)\n",
    "        zeros_path_tensor = torch.zeros_like(path_lengths).to(device)\n",
    "        zeros_nodes_astar_tensor = torch.zeros_like(nodes_astar).to(device)\n",
    "        \n",
    "        noise = torch.randn(images.size(0), LATENT_CHANNELS, 16, 16, device=device)\n",
    "        \n",
    "        with torch.no_grad():\n",
    "            _, _, z = encoder(images, noise)\n",
    "        \n",
    "        timesteps = torch.randint(0, NUM_TIMESTEPS, (z.size(0),), device=device)\n",
    "        \n",
    "        noisy_z, noise_used = scheduler.add_noise(z, timesteps)\n",
    "        # to accomodate for classifier free guidance.\n",
    "        noisy_z = noisy_z.repeat(2, 1, 1, 1)\n",
    "        timesteps = timesteps.repeat_interleave(2)\n",
    "        \n",
    "        # this is the context embedding that the model should move towards\n",
    "        combined_features = torch.stack((path_lengths, nodes_astar), dim=-1)\n",
    "        context = diffusion_model.condition_multidimensional_embedding(combined_features)\n",
    "\n",
    "        # something like the a negative prompt.\n",
    "        combined_zeroes_features = torch.stack((zeros_path_tensor, zeros_nodes_astar_tensor), dim=-1)\n",
    "        unconditional_guidance_embeddings = diffusion_model.condition_multidimensional_embedding(combined_zeroes_features)\n",
    "        conditional_guidance_embeddings = torch.cat([unconditional_guidance_embeddings, context])\n",
    "        \n",
    "\n",
    "        # noise_pred = diffusion_model(noisy_z, context, timesteps)\n",
    "        noise_pred = diffusion_model(noisy_z, conditional_guidance_embeddings, timesteps)\n",
    "        noise_pred_uncond, noise_pred_cond = noise_pred.chunk(2)\n",
    "\n",
    "        noise_pred = noise_pred_uncond + GUIDANCE_SCALE * (noise_pred_cond - noise_pred_uncond)\n",
    "        \n",
    "        # loss = F.mse_loss(noise_pred, noise_used)\n",
    "        loss = F.smooth_l1_loss(noise_pred, noise_used)\n",
    "        \n",
    "        optimizer.zero_grad()\n",
    "        loss.backward()\n",
    "        optimizer.step()\n",
    "        \n",
    "        epoch_loss += loss.item() * images.size(0)\n",
    "        count += images.size(0)\n",
    "    \n",
    "    avg_loss = epoch_loss / count if count > 0 else 0.0\n",
    "    train_losses.append(avg_loss)\n",
    "    print(f\"Epoch [{epoch+1}/{EPOCHS}], Loss: {avg_loss:.4f}\")\n",
    "\n",
    "import matplotlib.pyplot as plt\n",
    "plt.figure(figsize=(10, 5))\n",
    "plt.plot(range(1, EPOCHS + 1), train_losses, marker='o', label='Train Loss')\n",
    "plt.xlabel('Epoch')\n",
    "plt.ylabel('Loss')\n",
    "plt.title('Training Loss Graph')\n",
    "plt.legend()\n",
    "plt.show()"
   ]
  },
  {
   "cell_type": "code",
   "execution_count": 20,
   "id": "4eff2ad6-ae0b-485f-90e6-fc8e5f320e3d",
   "metadata": {},
   "outputs": [
    {
     "name": "stdout",
     "output_type": "stream",
     "text": [
      "Diffusion weights saved to diffusion_weights.pth\n"
     ]
    }
   ],
   "source": [
    "torch.save({\n",
    "    'diffusion_state_dict': diffusion_model.state_dict(),\n",
    "    'optimizer_state_dict': optimizer.state_dict(),\n",
    "    'train_losses': train_losses\n",
    "}, '../data/diffusion_models/diffusion_weights.pth')\n",
    "print(\"Diffusion weights saved to diffusion_weights.pth\")"
   ]
  },
  {
   "cell_type": "markdown",
   "id": "17e82af3-ac04-440c-aadc-cefb3cddc3a6",
   "metadata": {},
   "source": [
    "### UNET TESTING"
   ]
  },
  {
   "cell_type": "code",
   "execution_count": 25,
   "id": "034502c0-b11f-4817-b76a-fdd975016391",
   "metadata": {},
   "outputs": [],
   "source": [
    "def generate_maze_from_test(sample_idx=None, num_steps=50):\n",
    "    diffusion_model.eval()\n",
    "    scheduler.set_inference_timesteps(num_steps)\n",
    "    \n",
    "    if sample_idx is None:\n",
    "        sample_idx = random.randint(0, len(test_dataset) - 1)\n",
    "    \n",
    "    test_img, test_path_length, nodes_astar, nodes_bfs = test_dataset[sample_idx]\n",
    "    path_tensor = torch.tensor([test_path_length]).float().to(device)\n",
    "    nodes_astar_tensor = torch.tensor([nodes_astar]).float().to(device)\n",
    "    combined_features = torch.stack((path_tensor, nodes_astar_tensor), dim=-1)\n",
    "    # context = diffusion_model.condition_multidimensional_embedding(\n",
    "    #     torch.tensor([test_path_length], device=device).float()\n",
    "    # )\n",
    "\n",
    "    context = diffusion_model.condition_multidimensional_embedding(combined_features)\n",
    "    \n",
    "    latent = torch.randn((1, 4, 8, 8), device=device)\n",
    "    \n",
    "    for t in scheduler.timesteps:\n",
    "        timestep = torch.tensor([t], device=device)\n",
    "        with torch.no_grad():\n",
    "            pred = diffusion_model(latent, context, timestep)\n",
    "        latent = scheduler.step(t, latent, pred)\n",
    "    \n",
    "    with torch.no_grad():\n",
    "        generated_image = decoder(latent / 0.18215)\n",
    "    \n",
    "    return generated_image, test_img, test_path_length"
   ]
  },
  {
   "cell_type": "code",
   "execution_count": 26,
   "id": "9ed937e1-ecc6-468c-a2dc-151ca5aac30d",
   "metadata": {},
   "outputs": [
    {
     "name": "stderr",
     "output_type": "stream",
     "text": [
      "Clipping input data to the valid range for imshow with RGB data ([0..1] for floats or [0..255] for integers). Got range [-2.6182678..2.1200335].\n"
     ]
    },
    {
     "data": {
      "image/png": "[encoded data removed]",
      "text/plain": [
       "<Figure size 1000x500 with 2 Axes>"
      ]
     },
     "metadata": {},
     "output_type": "display_data"
    }
   ],
   "source": [
    "generated, original, test_path_length = generate_maze_from_test(num_steps=100)\n",
    "\n",
    "import matplotlib.pyplot as plt\n",
    "\n",
    "plt.figure(figsize=(10, 5))\n",
    "plt.subplot(1, 2, 1)\n",
    "plt.imshow(generated.squeeze(0).permute(1, 2, 0).cpu().numpy(), cmap='gray')\n",
    "plt.title(f\"Generated Maze, {test_path_length}\")\n",
    "plt.axis(\"off\")\n",
    "\n",
    "plt.subplot(1, 2, 2)\n",
    "plt.imshow(original.permute(1, 2, 0).cpu().numpy(), cmap='gray')\n",
    "plt.title(\"Original Test Maze\")\n",
    "plt.axis(\"off\")\n",
    "plt.show()"
   ]
  },
  {
   "cell_type": "code",
   "execution_count": null,
   "id": "b860c021-40c3-4331-9f2e-d4910bd8829e",
   "metadata": {},
   "outputs": [],
   "source": []
  }
 ],
 "metadata": {
  "kernelspec": {
   "display_name": "Python 3 (ipykernel)",
   "language": "python",
   "name": "python3"
  },
  "language_info": {
   "codemirror_mode": {
    "name": "ipython",
    "version": 3
   },
   "file_extension": ".py",
   "mimetype": "text/x-python",
   "name": "python",
   "nbconvert_exporter": "python",
   "pygments_lexer": "ipython3",
   "version": "3.13.1"
  }
 },
 "nbformat": 4,
 "nbformat_minor": 5
}
