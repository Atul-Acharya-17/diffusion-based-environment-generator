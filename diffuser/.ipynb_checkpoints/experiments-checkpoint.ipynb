{
 "cells": [
  {
   "cell_type": "code",
   "execution_count": 1,
   "id": "af842a4b-30e4-469d-b315-e5405730df14",
   "metadata": {},
   "outputs": [],
   "source": [
    "# !pip install einops torch maze-dataset --q"
   ]
  },
  {
   "cell_type": "code",
   "execution_count": 1,
   "id": "cfa8f76c-2435-45e0-92af-e1c548bf0390",
   "metadata": {},
   "outputs": [],
   "source": [
    "import os\n",
    "import random\n",
    "import numpy as np\n",
    "import torch\n",
    "import matplotlib.pyplot as plt\n",
    "from tqdm import tqdm\n",
    "import cv2\n",
    "\n",
    "from torch import nn, optim\n",
    "from torch.utils.data import DataLoader, Dataset\n",
    "from torch.nn import functional as F\n",
    "from PIL import Image\n",
    "from maze_dataset.plotting import MazePlot"
   ]
  },
  {
   "cell_type": "code",
   "execution_count": 2,
   "id": "bf0f5bb1-2c86-4f19-bafe-7b7bec3a57ff",
   "metadata": {},
   "outputs": [
    {
     "name": "stdout",
     "output_type": "stream",
     "text": [
      "Current working directory: /home/d/dhansha/UncertinityAI/diffusion-based-environment-generator\n"
     ]
    }
   ],
   "source": [
    "os.chdir(\"../\")\n",
    "print(f\"Current working directory: {os.getcwd()}\")"
   ]
  },
  {
   "cell_type": "markdown",
   "id": "543d1c3c-8f5e-403d-b9a1-ce031a9587c7",
   "metadata": {},
   "source": [
    "## Loading the Dataset"
   ]
  },
  {
   "cell_type": "code",
   "execution_count": 4,
   "id": "e7448583-863f-4043-9e54-c36788bf8b30",
   "metadata": {},
   "outputs": [
    {
     "name": "stderr",
     "output_type": "stream",
     "text": [
      "Generating Grid Worlds: 100%|██████████████████████████████████████████████████████████████████████████| 25000/25000 [03:54<00:00, 106.83it/s]"
     ]
    },
    {
     "name": "stdout",
     "output_type": "stream",
     "text": [
      "Maze dataset generation complete!\n"
     ]
    },
    {
     "name": "stderr",
     "output_type": "stream",
     "text": [
      "\n"
     ]
    }
   ],
   "source": [
    "# from generator.maze.grid_world_generator import generate_multiple_grid_worlds\n",
    "\n",
    "# n_mazes = 10000\n",
    "# directory = \"./data/\"\n",
    "\n",
    "# # generate_multiple_grid_worlds(n_mazes, directory)\n",
    "# generate_multiple_grid_worlds(num_worlds=25_000)\n",
    "\n",
    "# print(\"Maze dataset generation complete!\")"
   ]
  },
  {
   "cell_type": "code",
   "execution_count": 3,
   "id": "6407b36e-2b1a-49da-8fda-dc83f7bb3481",
   "metadata": {},
   "outputs": [],
   "source": [
    "def preprocess_image(image, target_size=32):\n",
    "    image = np.array(image, dtype=np.uint8)  # Ensure it's an ndarray\n",
    "\n",
    "    color_map = {\n",
    "        (0, 0, 0): (0, 0, 0),         # Wall → Black\n",
    "        (1, 0, 0): (255, 255, 255),   # Empty → White\n",
    "        (1, 1, 0): (255, 0, 0),       # Source → Red\n",
    "        (1, 0, 1): (0, 128, 0),       # End → Green \n",
    "    }\n",
    "\n",
    "    h, w, c = image.shape\n",
    "    processed_image = np.zeros((h, w, c), dtype=np.uint8)\n",
    "\n",
    "    for i in range(h):\n",
    "        for j in range(w):\n",
    "            pixel = tuple(image[i, j])\n",
    "            processed_image[i, j] = color_map.get(pixel, (128, 128, 128))  \n",
    "    \n",
    "    resized_image = cv2.resize(processed_image, (target_size, target_size), interpolation=cv2.INTER_NEAREST)\n",
    "    # resized_image = processed_image\n",
    "    resized_image = resized_image.astype(np.float32) / 127.5 - 1.0 \n",
    "    \n",
    "    resized_image = torch.from_numpy(resized_image).permute(2, 0, 1) \n",
    "\n",
    "    return resized_image\n",
    "\n",
    "def load_dataset_from_npy(directory=\"./data\", target_size=32):\n",
    "    images = []\n",
    "    path_lengths = []\n",
    "    \n",
    "    maze_files = sorted([f for f in os.listdir(directory) if f.startswith(\"maze_\") and f.endswith(\".npy\")])\n",
    "    \n",
    "    for maze_file in tqdm(maze_files, desc=\"Loading Mazes\", unit=\"maze\"):\n",
    "        img = np.load(os.path.join(directory, maze_file))\n",
    "        image = preprocess_image(img, target_size)\n",
    "        \n",
    "        path_length_file = maze_file.replace(\"maze_\", \"path_length_\")\n",
    "        path_length_path = os.path.join(directory, path_length_file)\n",
    "        \n",
    "        if os.path.exists(path_length_path):\n",
    "            path_length = np.load(path_length_path).item()\n",
    "        else:\n",
    "            path_length = -1  \n",
    "        \n",
    "        images.append(image)\n",
    "        path_lengths.append(path_length)\n",
    "    return images, path_lengths"
   ]
  },
  {
   "cell_type": "code",
   "execution_count": null,
   "id": "cfd26e4f",
   "metadata": {},
   "outputs": [
    {
     "name": "stderr",
     "output_type": "stream",
     "text": [
      "Loading Mazes:  35%|████████████████████████████▋                                                     | 8737/25000 [00:34<00:57, 283.92maze/s]"
     ]
    }
   ],
   "source": [
    "# mazes_data_path = os.path.join(os.path.dirname(os.path.dirname(os.getcwd())), \"data\", \"mazes\")\n",
    "mazes_data_path = \"./data\"\n",
    "images, path_lengths = load_dataset_from_npy(mazes_data_path, target_size=32)\n",
    "\n",
    "img = images[0].permute(1, 2, 0).cpu().numpy()  \n",
    "img = ((img + 1.0) * 127.5).astype(np.uint8)\n",
    "print(img.shape)\n",
    "print(path_lengths[0])\n",
    "\n",
    "plt.imshow(img)\n",
    "plt.axis('off')\n",
    "plt.show()\n",
    "\n",
    "class MazeTensorDataset(Dataset):\n",
    "    def __init__(self, images, path_lengths):\n",
    "        self.images = images\n",
    "        self.path_lengths = path_lengths\n",
    "        \n",
    "    def __len__(self):\n",
    "        return len(self.images)\n",
    "    \n",
    "    def __getitem__(self, idx):\n",
    "        return self.images[idx], self.path_lengths[idx]"
   ]
  },
  {
   "cell_type": "markdown",
   "id": "13e2670c-9318-4331-a8d7-299e2d9d3ad5",
   "metadata": {},
   "source": [
    "# Diffusion"
   ]
  },
  {
   "cell_type": "code",
   "execution_count": null,
   "id": "e2a04378-6293-4c79-95d0-fa6e305cba28",
   "metadata": {},
   "outputs": [],
   "source": [
    "os.chdir(\"./diffuser\")\n",
    "print(f\"Current working directory: {os.getcwd()}\")"
   ]
  },
  {
   "cell_type": "markdown",
   "id": "742a775a-18e1-4d73-a304-0d951dfc05c2",
   "metadata": {
    "jp-MarkdownHeadingCollapsed": true
   },
   "source": [
    "### VAE Training"
   ]
  },
  {
   "cell_type": "code",
   "execution_count": 7,
   "id": "0b8328c6-fdf1-4599-9140-b1ee9c6cc029",
   "metadata": {},
   "outputs": [],
   "source": [
    "import torch\n",
    "from torch import nn, optim\n",
    "from torch.utils.data import DataLoader, Dataset\n",
    "import numpy as np\n",
    "import matplotlib.pyplot as plt\n",
    "from PIL import Image\n",
    "from maze_dataset.plotting import MazePlot\n",
    "import random"
   ]
  },
  {
   "cell_type": "code",
   "execution_count": 8,
   "id": "4900b690-50c1-424f-9927-02d349039eaf",
   "metadata": {},
   "outputs": [],
   "source": [
    "import importlib\n",
    "import encoder\n",
    "import decoder\n",
    "importlib.reload(encoder)\n",
    "importlib.reload(decoder)\n",
    "from encoder import VAE_Encoder\n",
    "from decoder import VAE_Decoder"
   ]
  },
  {
   "cell_type": "code",
   "execution_count": 9,
   "id": "335fe85b-942c-4707-89fe-fd5e10b8214d",
   "metadata": {},
   "outputs": [],
   "source": [
    "# Hyperparameters\n",
    "BATCH_SIZE = 128\n",
    "LEARNING_RATE = 1e-4\n",
    "EPOCHS = 150\n",
    "LATENT_CHANNELS = 4"
   ]
  },
  {
   "cell_type": "code",
   "execution_count": 10,
   "id": "5984963c-d4d5-402c-bae4-4b79276425f3",
   "metadata": {},
   "outputs": [
    {
     "name": "stdout",
     "output_type": "stream",
     "text": [
      "Total images: 25000\n",
      "Total path_lengths: 25000\n",
      "Train dataset length: 20000\n",
      "Test dataset length: 5000\n",
      "Unique training path lengths: {1, 2, 3, 4, 5, 6, 7, 8, 9, 10, 11, 12, 13, 14, 15, 16, 17, 18, 19, 20, 21, 22, 23, 24, 25, 26, 27, 28, 29, 30}\n",
      "Number of unique training paths: 30\n",
      "Unique test path lengths: {1, 2, 3, 4, 5, 6, 7, 8, 9, 10, 11, 12, 13, 14, 15, 16, 17, 18, 19, 20, 21, 22, 23, 24, 25, 26, 27, 31, 33}\n",
      "Number of unique test paths: 29\n"
     ]
    }
   ],
   "source": [
    "print(\"Total images:\", len(images))\n",
    "print(\"Total path_lengths:\", len(path_lengths))\n",
    "\n",
    "total = len(images)\n",
    "test_size = int(0.2 * total)\n",
    "all_indices = list(range(total))\n",
    "random.shuffle(all_indices)\n",
    "\n",
    "test_indices = all_indices[:test_size]\n",
    "train_indices = all_indices[test_size:]\n",
    "\n",
    "train_images = [images[i] for i in train_indices]\n",
    "train_path_lengths = [path_lengths[i] for i in train_indices]\n",
    "\n",
    "test_images = [images[i] for i in test_indices]\n",
    "test_path_lengths = [path_lengths[i] for i in test_indices]\n",
    "\n",
    "dataset = MazeTensorDataset(train_images, train_path_lengths)\n",
    "test_dataset = MazeTensorDataset(test_images, test_path_lengths)\n",
    "\n",
    "print(\"Train dataset length:\", len(dataset))\n",
    "print(\"Test dataset length:\", len(test_dataset))\n",
    "\n",
    "dataloader = DataLoader(dataset, batch_size=BATCH_SIZE, shuffle=True)\n",
    "\n",
    "unique_train_paths = set(train_path_lengths)\n",
    "print(\"Unique training path lengths:\", unique_train_paths)\n",
    "print(\"Number of unique training paths:\", len(unique_train_paths))\n",
    "\n",
    "unique_test_paths = set(test_path_lengths)\n",
    "print(\"Unique test path lengths:\", unique_test_paths)\n",
    "print(\"Number of unique test paths:\", len(unique_test_paths))"
   ]
  },
  {
   "cell_type": "code",
   "execution_count": 11,
   "id": "e0ec86a6-08e1-487a-9a34-559ad2fa9f2f",
   "metadata": {
    "scrolled": true
   },
   "outputs": [
    {
     "name": "stdout",
     "output_type": "stream",
     "text": [
      "Epoch [1/150], Train Loss: 1287.1452\n",
      "Epoch [2/150], Train Loss: 356.7900\n",
      "Epoch [3/150], Train Loss: 221.4097\n",
      "Epoch [4/150], Train Loss: 196.7072\n",
      "Epoch [5/150], Train Loss: 186.2476\n",
      "Epoch [6/150], Train Loss: 177.9490\n",
      "Epoch [7/150], Train Loss: 172.5945\n",
      "Epoch [8/150], Train Loss: 168.0000\n",
      "Epoch [9/150], Train Loss: 163.4213\n",
      "Epoch [10/150], Train Loss: 156.2106\n",
      "Epoch [11/150], Train Loss: 149.1107\n",
      "Epoch [12/150], Train Loss: 147.1111\n",
      "Epoch [13/150], Train Loss: 143.1247\n",
      "Epoch [14/150], Train Loss: 140.6714\n",
      "Epoch [15/150], Train Loss: 138.3035\n",
      "Epoch [16/150], Train Loss: 136.4945\n",
      "Epoch [17/150], Train Loss: 134.4255\n",
      "Epoch [18/150], Train Loss: 132.0754\n",
      "Epoch [19/150], Train Loss: 135.3808\n",
      "Epoch [20/150], Train Loss: 131.2912\n",
      "Epoch [21/150], Train Loss: 131.4496\n",
      "Epoch [22/150], Train Loss: 129.7474\n",
      "Epoch [23/150], Train Loss: 128.4348\n",
      "Epoch [24/150], Train Loss: 128.5417\n",
      "Epoch [25/150], Train Loss: 126.9626\n",
      "Epoch [26/150], Train Loss: 127.1372\n",
      "Epoch [27/150], Train Loss: 125.2679\n",
      "Epoch [28/150], Train Loss: 125.0825\n",
      "Epoch [29/150], Train Loss: 125.0341\n",
      "Epoch [30/150], Train Loss: 124.3024\n",
      "Epoch [31/150], Train Loss: 124.1288\n",
      "Epoch [32/150], Train Loss: 123.4889\n",
      "Epoch [33/150], Train Loss: 122.7106\n",
      "Epoch [34/150], Train Loss: 122.9528\n",
      "Epoch [35/150], Train Loss: 121.7613\n",
      "Epoch [36/150], Train Loss: 123.0855\n",
      "Epoch [37/150], Train Loss: 121.3844\n",
      "Epoch [38/150], Train Loss: 120.8389\n",
      "Epoch [39/150], Train Loss: 121.3322\n",
      "Epoch [40/150], Train Loss: 120.8973\n",
      "Epoch [41/150], Train Loss: 119.7721\n",
      "Epoch [42/150], Train Loss: 120.5548\n",
      "Epoch [43/150], Train Loss: 120.8908\n",
      "Epoch [44/150], Train Loss: 119.2807\n",
      "Epoch [45/150], Train Loss: 119.2280\n",
      "Epoch [46/150], Train Loss: 119.1542\n",
      "Epoch [47/150], Train Loss: 118.9197\n",
      "Epoch [48/150], Train Loss: 118.0175\n",
      "Epoch [49/150], Train Loss: 118.3231\n",
      "Epoch [50/150], Train Loss: 117.9275\n",
      "Epoch [51/150], Train Loss: 118.7122\n",
      "Epoch [52/150], Train Loss: 117.6846\n",
      "Epoch [53/150], Train Loss: 117.8662\n",
      "Epoch [54/150], Train Loss: 117.4425\n",
      "Epoch [55/150], Train Loss: 117.6241\n",
      "Epoch [56/150], Train Loss: 117.0941\n",
      "Epoch [57/150], Train Loss: 116.2451\n",
      "Epoch [58/150], Train Loss: 116.7619\n",
      "Epoch [59/150], Train Loss: 116.5203\n",
      "Epoch [60/150], Train Loss: 116.3008\n",
      "Epoch [61/150], Train Loss: 116.4531\n",
      "Epoch [62/150], Train Loss: 116.1898\n",
      "Epoch [63/150], Train Loss: 220.8199\n",
      "Epoch [64/150], Train Loss: 134.8600\n",
      "Epoch [65/150], Train Loss: 123.5809\n",
      "Epoch [66/150], Train Loss: 120.6263\n",
      "Epoch [67/150], Train Loss: 118.6218\n",
      "Epoch [68/150], Train Loss: 118.2359\n",
      "Epoch [69/150], Train Loss: 116.6536\n",
      "Epoch [70/150], Train Loss: 116.6644\n",
      "Epoch [71/150], Train Loss: 115.8542\n",
      "Epoch [72/150], Train Loss: 115.5602\n",
      "Epoch [73/150], Train Loss: 115.9150\n",
      "Epoch [74/150], Train Loss: 114.8015\n",
      "Epoch [75/150], Train Loss: 114.8744\n",
      "Epoch [76/150], Train Loss: 114.5853\n",
      "Epoch [77/150], Train Loss: 114.6768\n",
      "Epoch [78/150], Train Loss: 114.9911\n",
      "Epoch [79/150], Train Loss: 115.4235\n",
      "Epoch [80/150], Train Loss: 114.1829\n",
      "Epoch [81/150], Train Loss: 113.6086\n",
      "Epoch [82/150], Train Loss: 113.9966\n",
      "Epoch [83/150], Train Loss: 114.2141\n",
      "Epoch [84/150], Train Loss: 113.5069\n",
      "Epoch [85/150], Train Loss: 114.1536\n",
      "Epoch [86/150], Train Loss: 114.2746\n",
      "Epoch [87/150], Train Loss: 113.9536\n",
      "Epoch [88/150], Train Loss: 114.1999\n",
      "Epoch [89/150], Train Loss: 113.4215\n",
      "Epoch [90/150], Train Loss: 123.8307\n",
      "Epoch [91/150], Train Loss: 113.5706\n",
      "Epoch [92/150], Train Loss: 113.4039\n",
      "Epoch [93/150], Train Loss: 113.4200\n",
      "Epoch [94/150], Train Loss: 112.1969\n",
      "Epoch [95/150], Train Loss: 112.4122\n",
      "Epoch [96/150], Train Loss: 112.6242\n",
      "Epoch [97/150], Train Loss: 111.5100\n",
      "Epoch [98/150], Train Loss: 111.7224\n",
      "Epoch [99/150], Train Loss: 112.0025\n",
      "Epoch [100/150], Train Loss: 111.9396\n",
      "Epoch [101/150], Train Loss: 111.1883\n",
      "Epoch [102/150], Train Loss: 110.8863\n",
      "Epoch [103/150], Train Loss: 110.6168\n",
      "Epoch [104/150], Train Loss: 111.1188\n",
      "Epoch [105/150], Train Loss: 110.4711\n",
      "Epoch [106/150], Train Loss: 110.0876\n",
      "Epoch [107/150], Train Loss: 109.8644\n",
      "Epoch [108/150], Train Loss: 109.5907\n",
      "Epoch [109/150], Train Loss: 201.9391\n",
      "Epoch [110/150], Train Loss: 124.7418\n",
      "Epoch [111/150], Train Loss: 118.4789\n",
      "Epoch [112/150], Train Loss: 116.4522\n",
      "Epoch [113/150], Train Loss: 114.0628\n",
      "Epoch [114/150], Train Loss: 113.1934\n",
      "Epoch [115/150], Train Loss: 112.4981\n",
      "Epoch [116/150], Train Loss: 110.8963\n",
      "Epoch [117/150], Train Loss: 109.7174\n",
      "Epoch [118/150], Train Loss: 109.4546\n",
      "Epoch [119/150], Train Loss: 109.4842\n",
      "Epoch [120/150], Train Loss: 108.3374\n",
      "Epoch [121/150], Train Loss: 108.2079\n",
      "Epoch [122/150], Train Loss: 108.2159\n",
      "Epoch [123/150], Train Loss: 108.3300\n",
      "Epoch [124/150], Train Loss: 107.8685\n",
      "Epoch [125/150], Train Loss: 107.5578\n",
      "Epoch [126/150], Train Loss: 107.7608\n",
      "Epoch [127/150], Train Loss: 108.0674\n",
      "Epoch [128/150], Train Loss: 107.3050\n",
      "Epoch [129/150], Train Loss: 107.5121\n",
      "Epoch [130/150], Train Loss: 107.6906\n",
      "Epoch [131/150], Train Loss: 107.1706\n",
      "Epoch [132/150], Train Loss: 107.5899\n",
      "Epoch [133/150], Train Loss: 107.0853\n",
      "Epoch [134/150], Train Loss: 107.1326\n",
      "Epoch [135/150], Train Loss: 107.5457\n",
      "Epoch [136/150], Train Loss: 107.0931\n",
      "Epoch [137/150], Train Loss: 107.2247\n",
      "Epoch [138/150], Train Loss: 106.9070\n",
      "Epoch [139/150], Train Loss: 107.4796\n",
      "Epoch [140/150], Train Loss: 107.2463\n",
      "Epoch [141/150], Train Loss: 107.3256\n",
      "Epoch [142/150], Train Loss: 107.3335\n",
      "Epoch [143/150], Train Loss: 107.2207\n",
      "Epoch [144/150], Train Loss: 110.7096\n",
      "Epoch [145/150], Train Loss: 119.0183\n",
      "Epoch [146/150], Train Loss: 107.3963\n",
      "Epoch [147/150], Train Loss: 106.7375\n",
      "Epoch [148/150], Train Loss: 106.6347\n",
      "Epoch [149/150], Train Loss: 105.9510\n",
      "Epoch [150/150], Train Loss: 106.4884\n"
     ]
    },
    {
     "data": {
      "image/png": "[encoded data removed]",
      "text/plain": [
       "<Figure size 1000x500 with 1 Axes>"
      ]
     },
     "metadata": {},
     "output_type": "display_data"
    }
   ],
   "source": [
    "# Model Initialization\n",
    "device = torch.device(\"cuda\" if torch.cuda.is_available() else \"cpu\")\n",
    "encoder = VAE_Encoder().to(device)\n",
    "decoder = VAE_Decoder().to(device)\n",
    "optimizer = optim.Adam(list(encoder.parameters()) + list(decoder.parameters()), lr=LEARNING_RATE)\n",
    "\n",
    "def vae_loss(x, x_hat, mean, log_var):\n",
    "    recon_loss = nn.functional.mse_loss(x_hat, x, reduction='sum') / x.size(0)\n",
    "    \n",
    "    kl_loss = 0.5 * (mean.pow(2) + log_var.exp() - log_var - 1).sum(dim=(1, 2, 3)).mean()\n",
    "    \n",
    "    return recon_loss + kl_loss\n",
    "\n",
    "train_losses = []\n",
    "for epoch in range(EPOCHS):\n",
    "    encoder.train()\n",
    "    decoder.train()\n",
    "    train_loss = 0.0\n",
    "    \n",
    "    for batch_idx, x in enumerate(dataloader):\n",
    "        \n",
    "        x = x[0].to(device)\n",
    "        batch_size = x.size(0)\n",
    "        \n",
    "        noise = torch.randn(batch_size, LATENT_CHANNELS, 8, 8).to(device)\n",
    "        \n",
    "        mean, log_var, z = encoder(x, noise)\n",
    "        x_hat = decoder(z)\n",
    "        \n",
    "        loss = vae_loss(x, x_hat, mean, log_var)\n",
    "        \n",
    "        optimizer.zero_grad()\n",
    "        loss.backward()\n",
    "        optimizer.step()\n",
    "        \n",
    "        train_loss += loss.item() * batch_size\n",
    "        \n",
    "    train_loss = train_loss / len(dataloader.dataset)\n",
    "    train_losses.append(train_loss)\n",
    "    print(f'Epoch [{epoch+1}/{EPOCHS}], Train Loss: {train_loss:.4f}')\n",
    "\n",
    "plt.figure(figsize=(10, 5))\n",
    "plt.plot(range(1, EPOCHS + 1), train_losses, label='Train Loss')\n",
    "plt.xlabel('Epoch')\n",
    "plt.ylabel('Loss')\n",
    "plt.title('VAE Training Loss')\n",
    "plt.legend()\n",
    "plt.show()"
   ]
  },
  {
   "cell_type": "markdown",
   "id": "1a6ced85-a772-4acc-bdc6-9076f7cfd5ab",
   "metadata": {
    "jp-MarkdownHeadingCollapsed": true
   },
   "source": [
    "### VAE Testing"
   ]
  },
  {
   "cell_type": "code",
   "execution_count": 20,
   "id": "8fa75c3c-d521-4bff-8c25-4f19c442d10d",
   "metadata": {},
   "outputs": [
    {
     "name": "stderr",
     "output_type": "stream",
     "text": [
      "Clipping input data to the valid range for imshow with RGB data ([0..1] for floats or [0..255] for integers). Got range [-1.0..1.0].\n",
      "Clipping input data to the valid range for imshow with RGB data ([0..1] for floats or [0..255] for integers). Got range [-1.1065396..1.1117407].\n",
      "Clipping input data to the valid range for imshow with RGB data ([0..1] for floats or [0..255] for integers). Got range [5.9604645e-07..1.2627567].\n",
      "Clipping input data to the valid range for imshow with RGB data ([0..1] for floats or [0..255] for integers). Got range [-1.0..1.0].\n",
      "Clipping input data to the valid range for imshow with RGB data ([0..1] for floats or [0..255] for integers). Got range [-1.0987462..1.1139536].\n",
      "Clipping input data to the valid range for imshow with RGB data ([0..1] for floats or [0..255] for integers). Got range [-1.0..1.0].\n",
      "Clipping input data to the valid range for imshow with RGB data ([0..1] for floats or [0..255] for integers). Got range [-1.0602067..1.0565315].\n",
      "Clipping input data to the valid range for imshow with RGB data ([0..1] for floats or [0..255] for integers). Got range [-1.0..1.0].\n",
      "Clipping input data to the valid range for imshow with RGB data ([0..1] for floats or [0..255] for integers). Got range [-1.0684173..1.0687754].\n",
      "Clipping input data to the valid range for imshow with RGB data ([0..1] for floats or [0..255] for integers). Got range [-1.0..1.0].\n",
      "Clipping input data to the valid range for imshow with RGB data ([0..1] for floats or [0..255] for integers). Got range [-1.0883894..1.0631927].\n",
      "Clipping input data to the valid range for imshow with RGB data ([0..1] for floats or [0..255] for integers). Got range [7.5101852e-06..1.7123913].\n"
     ]
    },
    {
     "data": {
      "image/png": "[encoded data removed]",
      "text/plain": [
       "<Figure size 1500x800 with 15 Axes>"
      ]
     },
     "metadata": {},
     "output_type": "display_data"
    }
   ],
   "source": [
    "vae_encoder.eval()\n",
    "decoder.eval()\n",
    "\n",
    "with torch.no_grad():\n",
    "    fig, axes = plt.subplots(3, 5, figsize=(15, 8))\n",
    "    for i in range(5):\n",
    "        idx = np.random.randint(len(test_dataset))\n",
    "        img, _ = test_dataset[idx]  # Ignore the path length label for reconstruction\n",
    "        img = img.unsqueeze(0).to(device)\n",
    "        noise = torch.randn(1, LATENT_CHANNELS, 8, 8).to(device)\n",
    "        \n",
    "        _, _, z = vae_encoder(img, noise)\n",
    "        reconstructed = decoder(z).cpu().squeeze(0)\n",
    "        original = img.cpu().squeeze(0)\n",
    "        \n",
    "        difference = torch.abs(original - reconstructed)\n",
    "        \n",
    "        axes[0, i].imshow(original.permute(1, 2, 0).numpy(), cmap='gray')\n",
    "        axes[0, i].axis('off')\n",
    "        axes[0, i].set_title('Original')\n",
    "        \n",
    "        axes[1, i].imshow(reconstructed.permute(1, 2, 0).numpy(), cmap='gray')\n",
    "        axes[1, i].axis('off')\n",
    "        axes[1, i].set_title('Reconstructed')\n",
    "        \n",
    "        axes[2, i].imshow(difference.permute(1, 2, 0).numpy(), cmap='gray')\n",
    "        axes[2, i].axis('off')\n",
    "        axes[2, i].set_title('Difference')\n",
    "    \n",
    "    plt.tight_layout()\n",
    "    plt.show()"
   ]
  },
  {
   "cell_type": "code",
   "execution_count": null,
   "id": "db9f03d0-e71e-441f-be17-f9877ede1182",
   "metadata": {},
   "outputs": [],
   "source": []
  },
  {
   "cell_type": "code",
   "execution_count": null,
   "id": "acae2104-fab7-465e-81b5-e2657d4c1141",
   "metadata": {},
   "outputs": [],
   "source": []
  },
  {
   "cell_type": "code",
   "execution_count": 15,
   "id": "2cd9089f-90ca-458a-85fb-fa9a129d6aff",
   "metadata": {},
   "outputs": [
    {
     "name": "stdout",
     "output_type": "stream",
     "text": [
      "attention.py  decoder.py  experiments.ipynb  pipeline.py\n",
      "ddpm.py       encoder.py  model.py\t     __pycache__\n"
     ]
    }
   ],
   "source": [
    "!ls"
   ]
  },
  {
   "cell_type": "code",
   "execution_count": 16,
   "id": "89a9358c-fb18-474d-b2a2-b604c2bca529",
   "metadata": {},
   "outputs": [
    {
     "name": "stdout",
     "output_type": "stream",
     "text": [
      "Model weights saved to vae_weights_1.pth\n"
     ]
    }
   ],
   "source": [
    "# Save Model Weights\n",
    "torch.save({\n",
    "    'encoder_state_dict': encoder.state_dict(),\n",
    "    'decoder_state_dict': decoder.state_dict(),\n",
    "    'optimizer_state_dict': optimizer.state_dict(),\n",
    "}, 'vae_weights_1.pth')\n",
    "\n",
    "print(\"Model weights saved to vae_weights_1.pth\")"
   ]
  },
  {
   "cell_type": "markdown",
   "id": "2350aef9-59e7-47ce-b073-372a80ea1889",
   "metadata": {},
   "source": [
    "## UNET"
   ]
  },
  {
   "cell_type": "markdown",
   "id": "5c365699-fd7b-4fd3-bcbd-9215a87c7d0f",
   "metadata": {},
   "source": [
    "### UNET Training"
   ]
  },
  {
   "cell_type": "code",
   "execution_count": null,
   "id": "16f61d5f-1696-4827-a9a7-fd5834b2c8b2",
   "metadata": {},
   "outputs": [],
   "source": [
    "# Hyperparameters\n",
    "BATCH_SIZE = 128\n",
    "EPOCHS = 50\n",
    "NUM_TIMESTEPS = 1000\n",
    "LATENT_CHANNELS = 4"
   ]
  },
  {
   "cell_type": "code",
   "execution_count": null,
   "id": "8c0fb600-96da-45eb-8539-58af571df96e",
   "metadata": {},
   "outputs": [],
   "source": [
    "print(\"Total images:\", len(images))\n",
    "print(\"Total path_lengths:\", len(path_lengths))\n",
    "\n",
    "total = len(images)\n",
    "test_size = int(0.2 * total)\n",
    "all_indices = list(range(total))\n",
    "random.shuffle(all_indices)\n",
    "\n",
    "test_indices = all_indices[:test_size]\n",
    "train_indices = all_indices[test_size:]\n",
    "\n",
    "train_images = [images[i] for i in train_indices]\n",
    "train_path_lengths = [path_lengths[i] for i in train_indices]\n",
    "\n",
    "test_images = [images[i] for i in test_indices]\n",
    "test_path_lengths = [path_lengths[i] for i in test_indices]\n",
    "\n",
    "dataset = MazeTensorDataset(train_images, train_path_lengths)\n",
    "test_dataset = MazeTensorDataset(test_images, test_path_lengths)\n",
    "\n",
    "print(\"Train dataset length:\", len(dataset))\n",
    "print(\"Test dataset length:\", len(test_dataset))\n",
    "\n",
    "dataloader = DataLoader(dataset, batch_size=BATCH_SIZE, shuffle=True)\n",
    "\n",
    "unique_train_paths = set(train_path_lengths)\n",
    "print(\"Unique training path lengths:\", unique_train_paths)\n",
    "print(\"Number of unique training paths:\", len(unique_train_paths))\n",
    "\n",
    "unique_test_paths = set(test_path_lengths)\n",
    "print(\"Unique test path lengths:\", unique_test_paths)\n",
    "print(\"Number of unique test paths:\", len(unique_test_paths))"
   ]
  },
  {
   "cell_type": "code",
   "execution_count": null,
   "id": "a5e40025-55c4-4c5e-8502-06676753544d",
   "metadata": {},
   "outputs": [],
   "source": [
    "import importlib\n",
    "import encoder\n",
    "import decoder\n",
    "import model\n",
    "importlib.reload(encoder)\n",
    "importlib.reload(decoder)\n",
    "importlib.reload(model)\n",
    "from encoder import VAE_Encoder\n",
    "from decoder import VAE_Decoder\n",
    "from model import Diffusion\n",
    "from ddpm import DDPMSampler\n",
    "# from classifier_guidance.models import Classifier\n",
    "\n",
    "device = \"cuda\" if torch.cuda.is_available() else \"cpu\"\n",
    "\n",
    "vae_encoder = VAE_Encoder().to(device).eval()\n",
    "decoder = VAE_Decoder().to(device).eval()\n",
    "\n",
    "checkpoint = torch.load('vae_weights_20250326_065408.pth', map_location=device)\n",
    "vae_encoder.load_state_dict(checkpoint['encoder_state_dict'])\n",
    "decoder.load_state_dict(checkpoint['decoder_state_dict'])\n",
    "\n",
    "diffusion_model = Diffusion().to(device)\n",
    "optimizer = torch.optim.Adam(diffusion_model.parameters(), lr=1e-4, weight_decay=0.01)\n",
    "# scheduler = DDPMSampler(generator=torch.Generator(device=device), num_training_steps=NUM_TIMESTEPS)"
   ]
  },
  {
   "cell_type": "code",
   "execution_count": 17,
   "id": "b7abf961",
   "metadata": {},
   "outputs": [
    {
     "name": "stdout",
     "output_type": "stream",
     "text": [
      "torch.Size([32])\n",
      "torch.Size([64, 1, 768])\n"
     ]
    }
   ],
   "source": [
    "dummy_tensor  = None\n",
    "for batch_idx, (images, path_lengths) in enumerate(dataloader):\n",
    "    dummy_tensor = path_lengths\n",
    "zeros_tensor = torch.zeros_like(dummy_tensor).to(device)\n",
    "\n",
    "print(dummy_tensor.shape)\n",
    "context = diffusion_model.condition_embedding(dummy_tensor)\n",
    "empty_embeddings = diffusion_model.condition_embedding(zeros_tensor)\n",
    "classifier_guidance_embeddings = torch.cat([empty_embeddings, context])\n",
    "print(classifier_guidance_embeddings.shape)"
   ]
  },
  {
   "cell_type": "code",
   "execution_count": 86,
   "id": "ac60ddd3",
   "metadata": {},
   "outputs": [
    {
     "data": {
      "text/plain": [
       "torch.Size([42, 768, 1, 1])"
      ]
     },
     "execution_count": 86,
     "metadata": {},
     "output_type": "execute_result"
    }
   ],
   "source": [
    "# classifier_guidance_embeddings.unsqueeze(-1).permute(0, 2, 1, 3)"
   ]
  },
  {
   "cell_type": "code",
   "execution_count": 92,
   "id": "30be4410",
   "metadata": {},
   "outputs": [
    {
     "data": {
      "text/plain": [
       "torch.Size([21, 3, 32, 32])"
      ]
     },
     "execution_count": 92,
     "metadata": {},
     "output_type": "execute_result"
    }
   ],
   "source": [
    "# images.shape"
   ]
  },
  {
   "cell_type": "code",
   "execution_count": 96,
   "id": "eb951afb",
   "metadata": {},
   "outputs": [
    {
     "data": {
      "text/plain": [
       "torch.Size([21, 3, 32, 32])"
      ]
     },
     "execution_count": 96,
     "metadata": {},
     "output_type": "execute_result"
    }
   ],
   "source": [
    "# images.repeat(2, 1, 1, 1).chunk(2)[1].shape"
   ]
  },
  {
   "cell_type": "code",
   "execution_count": 61,
   "id": "89af4572",
   "metadata": {},
   "outputs": [
    {
     "data": {
      "text/plain": [
       "torch.Size([42, 1, 768])"
      ]
     },
     "execution_count": 61,
     "metadata": {},
     "output_type": "execute_result"
    }
   ],
   "source": [
    "# bs_embed, seq_len, _ = classifier_guidance_embeddings.shape\n",
    "# prompt_embeds = classifier_guidance_embeddings.repeat(1, 1, 1)\n",
    "# prompt_embeds = prompt_embeds.view(bs_embed * 1, seq_len, -1)\n",
    "# prompt_embeds.shape"
   ]
  },
  {
   "cell_type": "code",
   "execution_count": null,
   "id": "2be25520-1ade-4dc6-a3cb-7a57f1a162ca",
   "metadata": {},
   "outputs": [],
   "source": [
    "train_losses = []\n",
    "GUIDANCE_SCALE = 7.5\n",
    "\n",
    "for epoch in range(EPOCHS):\n",
    "    epoch_loss = 0.0\n",
    "    count = 0\n",
    "    for batch_idx, (images, path_lengths) in enumerate(dataloader):\n",
    "        images = images.to(device)\n",
    "        path_lengths = torch.tensor(path_lengths).float().to(device)\n",
    "        zeros_tensor = torch.zeros_like(path_lengths).to(device)\n",
    "        \n",
    "        noise = torch.randn(images.size(0), LATENT_CHANNELS, 8, 8, device=device)\n",
    "        \n",
    "        with torch.no_grad():\n",
    "            _, _, z = vae_encoder(images, noise)\n",
    "        \n",
    "        timesteps = torch.randint(0, NUM_TIMESTEPS, (z.size(0),), device=device)\n",
    "        \n",
    "        noisy_z, noise_used = scheduler.add_noise(z, timesteps)\n",
    "        # to accomoatde for classifier free guidance.\n",
    "        noisy_z = noisy_z.repeat(2, 1, 1, 1)\n",
    "        \n",
    "        # this is the context embedding that the model should move towards\n",
    "        context = diffusion_model.condition_embedding(path_lengths)\n",
    "\n",
    "        # something like the a negative prompt.\n",
    "        unconditional_guidance_embeddings = diffusion_model.condition_embedding(zeros_tensor)\n",
    "        conditional_guidance_embeddings = torch.cat([unconditional_guidance_embeddings, context])\n",
    "        \n",
    "        cond_timesteps = torch.cat([timesteps, timesteps], dim=0) \n",
    "        # noise_pred = diffusion_model(noisy_z, context, timesteps)\n",
    "        noise_pred = diffusion_model(noisy_z, conditional_guidance_embeddings, cond_timesteps)\n",
    "        noise_pred_uncond, noise_pred_cond = noise_pred.chunk(2)\n",
    "\n",
    "        noise_pred = noise_pred_uncond + GUIDANCE_SCALE * (noise_pred_cond - noise_pred_uncond)\n",
    "        \n",
    "        loss = F.mse_loss(noise_pred, noise_used)\n",
    "        # loss = F.smooth_l1_loss(noise_pred, noise_used)\n",
    "        \n",
    "        optimizer.zero_grad()\n",
    "        loss.backward()\n",
    "        optimizer.step()\n",
    "        \n",
    "        epoch_loss += loss.item() * images.size(0)\n",
    "        count += images.size(0)\n",
    "    \n",
    "    avg_loss = epoch_loss / count if count > 0 else 0.0\n",
    "    train_losses.append(avg_loss)\n",
    "    print(f\"Epoch [{epoch+1}/{EPOCHS}], Loss: {avg_loss:.4f}\")\n",
    "\n",
    "import matplotlib.pyplot as plt\n",
    "plt.figure(figsize=(10, 5))\n",
    "plt.plot(range(1, EPOCHS + 1), train_losses, marker='o', label='Train Loss')\n",
    "plt.xlabel('Epoch')\n",
    "plt.ylabel('Loss')\n",
    "plt.title('Training Loss Graph')\n",
    "plt.legend()\n",
    "plt.show()"
   ]
  },
  {
   "cell_type": "code",
   "execution_count": null,
   "id": "4eff2ad6-ae0b-485f-90e6-fc8e5f320e3d",
   "metadata": {},
   "outputs": [],
   "source": [
    "torch.save({\n",
    "    'diffusion_state_dict': diffusion_model.state_dict(),\n",
    "    'optimizer_state_dict': optimizer.state_dict(),\n",
    "    'train_losses': train_losses\n",
    "}, 'diffusion_weights.pth')\n",
    "print(\"Diffusion weights saved to diffusion_weights.pth\")"
   ]
  },
  {
   "cell_type": "code",
   "execution_count": 9,
   "id": "6f337b51-bc0e-4281-8ce5-37026961da01",
   "metadata": {},
   "outputs": [],
   "source": [
    "# load diffusion model\n",
    "diffusion_checkpoint = torch.load('diffusion_weights_20250326_112537.pth', map_location=device)\n",
    "diffusion_model.load_state_dict(diffusion_checkpoint['diffusion_state_dict'])\n",
    "optimizer.load_state_dict(diffusion_checkpoint['optimizer_state_dict'])"
   ]
  },
  {
   "cell_type": "markdown",
   "id": "17e82af3-ac04-440c-aadc-cefb3cddc3a6",
   "metadata": {},
   "source": [
    "### UNET TESTING"
   ]
  },
  {
   "cell_type": "code",
   "execution_count": 14,
   "id": "034502c0-b11f-4817-b76a-fdd975016391",
   "metadata": {},
   "outputs": [],
   "source": [
    "def generate_maze_from_test(sample_idx=None, num_steps=50):\n",
    "    diffusion_model.eval()\n",
    "    scheduler.set_inference_timesteps(num_steps)\n",
    "    \n",
    "    if sample_idx is None:\n",
    "        sample_idx = random.randint(0, len(test_dataset) - 1)\n",
    "    \n",
    "    test_img, test_path_length = test_dataset[sample_idx]\n",
    "    \n",
    "    context = diffusion_model.condition_embedding(\n",
    "        torch.tensor([test_path_length], device=device).float()\n",
    "    )\n",
    "    \n",
    "    latent = torch.randn((1, 4, 8, 8), device=device)\n",
    "    \n",
    "    for t in scheduler.timesteps:\n",
    "        timestep = torch.tensor([t], device=device)\n",
    "        with torch.no_grad():\n",
    "            pred = diffusion_model(latent, context, timestep)\n",
    "        latent = scheduler.step(t, latent, pred)\n",
    "    \n",
    "    with torch.no_grad():\n",
    "        generated_image = decoder(latent / 0.18215)\n",
    "    \n",
    "    return generated_image, test_img, test_path_length"
   ]
  },
  {
   "cell_type": "code",
   "execution_count": 20,
   "id": "9ed937e1-ecc6-468c-a2dc-151ca5aac30d",
   "metadata": {},
   "outputs": [
    {
     "name": "stderr",
     "output_type": "stream",
     "text": [
      "Clipping input data to the valid range for imshow with RGB data ([0..1] for floats or [0..255] for integers). Got range [-4.813237..2.7056978].\n",
      "Clipping input data to the valid range for imshow with RGB data ([0..1] for floats or [0..255] for integers). Got range [-1.0..1.0].\n"
     ]
    },
    {
     "data": {
      "image/png": "[encoded data removed]",
      "text/plain": [
       "<Figure size 1000x500 with 2 Axes>"
      ]
     },
     "metadata": {},
     "output_type": "display_data"
    }
   ],
   "source": [
    "generated, original, test_path_length = generate_maze_from_test(num_steps=100)\n",
    "\n",
    "import matplotlib.pyplot as plt\n",
    "\n",
    "plt.figure(figsize=(10, 5))\n",
    "plt.subplot(1, 2, 1)\n",
    "plt.imshow(generated.squeeze(0).permute(1, 2, 0).cpu().numpy(), cmap='gray')\n",
    "plt.title(f\"Generated Maze, {test_path_length}\")\n",
    "plt.axis(\"off\")\n",
    "\n",
    "plt.subplot(1, 2, 2)\n",
    "plt.imshow(original.permute(1, 2, 0).cpu().numpy(), cmap='gray')\n",
    "plt.title(\"Original Test Maze\")\n",
    "plt.axis(\"off\")\n",
    "plt.show()"
   ]
  },
  {
   "cell_type": "code",
   "execution_count": null,
   "id": "b860c021-40c3-4331-9f2e-d4910bd8829e",
   "metadata": {},
   "outputs": [],
   "source": []
  }
 ],
 "metadata": {
  "kernelspec": {
   "display_name": "Python 3 (ipykernel)",
   "language": "python",
   "name": "python3"
  },
  "language_info": {
   "codemirror_mode": {
    "name": "ipython",
    "version": 3
   },
   "file_extension": ".py",
   "mimetype": "text/x-python",
   "name": "python",
   "nbconvert_exporter": "python",
   "pygments_lexer": "ipython3",
   "version": "3.13.1"
  }
 },
 "nbformat": 4,
 "nbformat_minor": 5
}
