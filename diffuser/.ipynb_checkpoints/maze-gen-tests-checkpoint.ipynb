{
 "cells": [
  {
   "cell_type": "markdown",
   "id": "1c383799-45e6-4749-9d39-f27fe1a69007",
   "metadata": {},
   "source": [
    "## imports"
   ]
  },
  {
   "cell_type": "code",
   "execution_count": 1,
   "id": "f69817fa-2f37-4da5-a0c9-7d7eac43c5c2",
   "metadata": {},
   "outputs": [],
   "source": [
    "import os\n",
    "import re\n",
    "import numpy as np\n",
    "import torch\n",
    "import matplotlib.pyplot as plt\n",
    "import random\n",
    "\n",
    "from tqdm import tqdm\n",
    "from torch import nn, optim\n",
    "from torch.utils.data import DataLoader, Dataset\n",
    "from torch.nn import functional as F\n",
    "from PIL import Image\n",
    "from maze_dataset.plotting import MazePlot\n",
    "\n",
    "# for VAE\n",
    "import importlib\n",
    "import old_encoder\n",
    "import old_decoder\n",
    "importlib.reload(old_encoder)\n",
    "importlib.reload(old_decoder)\n",
    "from old_encoder import VAE_Encoder\n",
    "from old_decoder import VAE_Decoder\n",
    "\n",
    "# for Diffuser\n",
    "import importlib\n",
    "import old_encoder\n",
    "import old_decoder\n",
    "import model\n",
    "importlib.reload(old_encoder)\n",
    "importlib.reload(old_decoder)\n",
    "importlib.reload(model)\n",
    "from old_encoder import VAE_Encoder\n",
    "from old_decoder import VAE_Decoder\n",
    "from model import Diffusion\n",
    "from ddpm import DDPMSampler\n",
    "# from classifier_guidance.models import Classifier\n",
    "\n",
    "device = \"cuda\" if torch.cuda.is_available() else \"cpu\""
   ]
  },
  {
   "cell_type": "markdown",
   "id": "5ae189ca-c496-44f2-b705-3798f6afd6e2",
   "metadata": {},
   "source": [
    "## file paths"
   ]
  },
  {
   "cell_type": "code",
   "execution_count": 3,
   "id": "205b57b0-0f8c-47f4-90ed-0f1a87639e77",
   "metadata": {},
   "outputs": [],
   "source": [
    "vae_path = \"good_vae\"\n",
    "diff_path = \"best_diffusion_model_20250422_102459\""
   ]
  },
  {
   "cell_type": "markdown",
   "id": "30f2b785-20e8-4d7c-9033-1bbdf31fc27c",
   "metadata": {},
   "source": [
    "## data get"
   ]
  },
  {
   "cell_type": "code",
   "execution_count": 4,
   "id": "8b484917-52c8-41e4-992f-3c01e23619f1",
   "metadata": {},
   "outputs": [
    {
     "name": "stdout",
     "output_type": "stream",
     "text": [
      "Current working directory: /home/d/dhansha/UncertinityAI/diffusion-based-environment-generator\n"
     ]
    }
   ],
   "source": [
    "os.chdir(\"../\")\n",
    "print(f\"Current working directory: {os.getcwd()}\")"
   ]
  },
  {
   "cell_type": "code",
   "execution_count": 5,
   "id": "fbd8fdc5-f4f2-4080-b517-46ee1c69e571",
   "metadata": {},
   "outputs": [],
   "source": [
    "def preprocess_image(image, target_size=32):\n",
    "    image = np.array(image)\n",
    "    scale_factor = target_size // image.shape[0] \n",
    "    # image = np.kron(image, np.ones((scale_factor, scale_factor, 1))) \n",
    "    \n",
    "    # image = image.astype(np.float32) / 127.5 - 1\n",
    "    image = image.astype(np.float32)\n",
    "    image = torch.tensor(image).permute(2, 0, 1)\n",
    "    image = F.interpolate(image.unsqueeze(0), size=(target_size, target_size), mode='nearest').squeeze(0)  # (3, 32, 32)\n",
    "\n",
    "    return image\n",
    "\n",
    "def plot_grid_world(grid):\n",
    "    \"\"\"\n",
    "    Plots the given grid world.\n",
    "    \"\"\"\n",
    "    wall = grid[:,:,0] == 0\n",
    "    source = grid[:,:,1] == 1\n",
    "    destination = grid[:,:,2] == 1\n",
    "\n",
    "    img = np.ones((*wall.shape, 3), dtype=np.float32)  # White background\n",
    "    img[wall] = np.array([0, 0, 0])  # Walls → Black\n",
    "    img[source] = np.array([1, 0, 0])  # Source → Red\n",
    "    img[destination] = np.array([0, 1, 0])  # Destination → Green\n",
    "\n",
    "    return img\n",
    "\n",
    "def load_dataset_from_npy(parent_directory=\"./data\", target_size=32, max_samples=5000):\n",
    "    images = []\n",
    "    path_lengths = []\n",
    "    num_nodes_traversed_astar = []\n",
    "    num_nodes_traversed_bfs = []\n",
    "    \n",
    "    mazes_directory = os.path.join(parent_directory, \"mazes\")\n",
    "    files = sorted([f for f in os.listdir(mazes_directory) if f.endswith(\".npy\")])\n",
    "    \n",
    "    count = 0\n",
    "    \n",
    "    for file in files:\n",
    "        img = np.load(os.path.join(mazes_directory, file))\n",
    "        if(img.shape != (10,10,3)):\n",
    "            continue\n",
    "        # mask = np.all(img == [0, 0, 255], axis=-1)\n",
    "        # img[mask] = [255, 255, 255]\n",
    "        # img = img[:-1, :-1]\n",
    "        # image = preprocess_image(img, target_size)\n",
    "\n",
    "        image = plot_grid_world(img)\n",
    "        mask = np.all(image == [0, 0, 255], axis=-1)\n",
    "        image[mask] = [255, 255, 255]\n",
    "        image = preprocess_image(image, target_size)\n",
    "\n",
    "        pattern = r'maze_(\\d+)'\n",
    "        match = re.search(pattern, file)\n",
    "        num = 0\n",
    "        if match:\n",
    "            num = int(match.group(1))\n",
    "        else:\n",
    "            continue\n",
    "        \n",
    "        # base_name = os.path.splitext(file)[0]\n",
    "        # len_filename = base_name + \"_len.txt\"\n",
    "        len_filename = f\"path_length_{num}\" + \".npy\"\n",
    "        len_path = os.path.join(mazes_directory, len_filename)\n",
    "        astar_traversal_filename = f\"a_star_{num}\" + \".npy\"\n",
    "        astar_traversal_path = os.path.join(parent_directory, \"a_star_l1_results\" ,astar_traversal_filename)\n",
    "        bfs_traversal_filename = f\"bfs_{num}\" + \".npy\"\n",
    "        bfs_traversal_path = os.path.join(parent_directory, \"bfs_results\" ,bfs_traversal_filename)\n",
    "        \n",
    "        # with open(len_path, \"r\") as f:\n",
    "        #     maze_length = int(f.read().strip())\n",
    "        maze_length = np.load(len_path)\n",
    "        astar_traversal = np.load(astar_traversal_path)\n",
    "        bfs_traversal = np.load(bfs_traversal_path)\n",
    "        \n",
    "        images.append(image)\n",
    "        path_lengths.append(int(maze_length))\n",
    "        num_nodes_traversed_astar.append(int(astar_traversal))\n",
    "        num_nodes_traversed_bfs.append(int(bfs_traversal))\n",
    "\n",
    "        count += 1\n",
    "        if count >= max_samples:\n",
    "            break  \n",
    "    \n",
    "    return images, path_lengths, num_nodes_traversed_astar, num_nodes_traversed_bfs\n",
    "\n",
    "# , [a / b if b!=0 else a for a, b in zip(path_lengths, num_nodes_traversed_astar)], [a / b if b!=0 else a for a, b in zip(path_lengths, num_nodes_traversed_bfs)]"
   ]
  },
  {
   "cell_type": "code",
   "execution_count": 6,
   "id": "de072242-80ef-4962-9f47-dce48dd17941",
   "metadata": {},
   "outputs": [],
   "source": [
    "mazes_data_path = \"./data\"\n",
    "images, org_path_lengths, num_nodes_astar, num_nodes_bfs = load_dataset_from_npy(mazes_data_path, target_size=32)"
   ]
  },
  {
   "cell_type": "code",
   "execution_count": 7,
   "id": "8f489032-9fcc-44f1-b87d-4e910397ca1d",
   "metadata": {},
   "outputs": [],
   "source": [
    "class MazeTensorDataset(Dataset):\n",
    "    def __init__(self, images, path_lengths, num_nodes_astar, num_nodes_bfs):\n",
    "        self.images = images\n",
    "        self.path_lengths = path_lengths\n",
    "        self.num_nodes_astar = num_nodes_astar\n",
    "        self.num_nodes_bfs = num_nodes_bfs\n",
    "        \n",
    "    def __len__(self):\n",
    "        return len(self.images)\n",
    "    \n",
    "    def __getitem__(self, idx):\n",
    "        return self.images[idx], self.path_lengths[idx], self.num_nodes_astar[idx], self.num_nodes_bfs[idx]"
   ]
  },
  {
   "cell_type": "code",
   "execution_count": 8,
   "id": "aa6b4a76-72ec-4226-aaf1-c9a8bb577ce2",
   "metadata": {},
   "outputs": [
    {
     "name": "stdout",
     "output_type": "stream",
     "text": [
      "Total images: 5000\n",
      "Total path_lengths: 5000\n",
      "Train dataset length: 4000\n",
      "Test dataset length: 1000\n",
      "Unique training path lengths: {1, 2, 3, 4, 5, 6, 7, 8, 9, 10, 11, 12, 13, 14, 15, 16, 17, 18, 19, 20, 21, 22, 24, 25, 27, 31}\n",
      "Number of unique training paths: 26\n",
      "Unique test path lengths: {1, 2, 3, 4, 5, 6, 7, 8, 9, 10, 11, 12, 13, 14, 15, 16, 17, 18, 19, 20, 21, 22, 24, 33}\n",
      "Number of unique test paths: 24\n"
     ]
    }
   ],
   "source": [
    "path_lengths = org_path_lengths\n",
    "\n",
    "## use the scaled path lengths based on the number of nodes traversed\n",
    "# path_lengths = [a / b if b!=0 else a for a, b in zip(path_lengths, num_nodes_astar)]\n",
    "# path_lengths = [a / b if b!=0 else a for a, b in zip(path_lengths, num_nodes_bfs)]\n",
    "\n",
    "print(\"Total images:\", len(images))\n",
    "print(\"Total path_lengths:\", len(path_lengths))\n",
    "\n",
    "total = len(images)\n",
    "test_size = int(0.2 * total)\n",
    "all_indices = list(range(total))\n",
    "random.shuffle(all_indices)\n",
    "\n",
    "test_indices = all_indices[:test_size]\n",
    "train_indices = all_indices[test_size:]\n",
    "\n",
    "train_images = [images[i] for i in train_indices]\n",
    "train_path_lengths = [path_lengths[i] for i in train_indices]\n",
    "train_num_nodes_astar = [num_nodes_astar[i] for i in train_indices]\n",
    "train_num_nodes_bfs = [num_nodes_bfs[i] for i in train_indices]\n",
    "\n",
    "test_images = [images[i] for i in test_indices]\n",
    "test_path_lengths = [path_lengths[i] for i in test_indices]\n",
    "test_num_nodes_astar = [num_nodes_astar[i] for i in test_indices]\n",
    "test_num_nodes_bfs = [num_nodes_bfs[i] for i in test_indices]\n",
    "\n",
    "dataset = MazeTensorDataset(train_images, train_path_lengths, train_num_nodes_astar, train_num_nodes_bfs)\n",
    "test_dataset = MazeTensorDataset(test_images, test_path_lengths, test_num_nodes_astar, test_num_nodes_bfs)\n",
    "\n",
    "print(\"Train dataset length:\", len(dataset))\n",
    "print(\"Test dataset length:\", len(test_dataset))\n",
    "\n",
    "dataloader = DataLoader(dataset, batch_size=512, shuffle=True)\n",
    "\n",
    "unique_train_paths = set(train_path_lengths)\n",
    "print(\"Unique training path lengths:\", unique_train_paths)\n",
    "print(\"Number of unique training paths:\", len(unique_train_paths))\n",
    "\n",
    "unique_test_paths = set(test_path_lengths)\n",
    "print(\"Unique test path lengths:\", unique_test_paths)\n",
    "print(\"Number of unique test paths:\", len(unique_test_paths))"
   ]
  },
  {
   "cell_type": "code",
   "execution_count": 9,
   "id": "ffbfeeb4-7e3c-4170-b3bb-8ed40da1837e",
   "metadata": {},
   "outputs": [],
   "source": [
    "def generate_maze_from_test(sample_idx=None, num_steps=50):\n",
    "    diffusion_model.eval()\n",
    "    scheduler.set_inference_timesteps(num_steps)\n",
    "    \n",
    "    if sample_idx is None:\n",
    "        sample_idx = random.randint(0, len(test_dataset) - 1)\n",
    "    \n",
    "    test_img, test_path_length, nodes_astar, nodes_bfs = test_dataset[sample_idx]\n",
    "    path_tensor = torch.tensor([test_path_length]).float().to(device)\n",
    "    nodes_astar_tensor = torch.tensor([nodes_astar]).float().to(device)\n",
    "    combined_features = torch.stack((path_tensor, nodes_astar_tensor), dim=-1)\n",
    "\n",
    "    context = diffusion_model.condition_multidimensional_embedding(combined_features)\n",
    "    \n",
    "    latent = torch.randn((1, 4, 8, 8), device=device)\n",
    "    \n",
    "    for t in scheduler.timesteps:\n",
    "        timestep = torch.tensor([t], device=device)\n",
    "        with torch.no_grad():\n",
    "            pred = diffusion_model(latent, context, timestep)\n",
    "        latent = scheduler.step(t, latent, pred)\n",
    "    \n",
    "    with torch.no_grad():\n",
    "        generated_image = vae_decoder(latent / 0.18215)\n",
    "    \n",
    "    return generated_image, test_img, test_path_length"
   ]
  },
  {
   "cell_type": "code",
   "execution_count": 10,
   "id": "9fbc1f9c-55b1-4f6c-8b5b-f627cf652cfd",
   "metadata": {},
   "outputs": [],
   "source": [
    "def generate_maze_from_prompt(prompt_value, num_nodes=0, num_steps=1000):\n",
    "    diffusion_model.eval()\n",
    "    scheduler.set_inference_timesteps(num_steps)\n",
    "\n",
    "    path_tensor = torch.tensor([prompt_value]).float().to(device)\n",
    "    nodes_tensor = torch.tensor([num_nodes]).float().to(device)\n",
    "    combined_features = torch.stack((path_tensor, nodes_tensor), dim=-1)\n",
    "\n",
    "    # Get the context embedding\n",
    "    context = diffusion_model.condition_multidimensional_embedding(combined_features)\n",
    "\n",
    "    # Sample initial latent and run diffusion\n",
    "    latent = torch.randn((1, 4, 8, 8), device=device)\n",
    "    for t in scheduler.timesteps:\n",
    "        timestep = torch.tensor([t], device=device)\n",
    "        with torch.no_grad():\n",
    "            noise_pred = diffusion_model(latent, context, timestep)\n",
    "        latent = scheduler.step(t, latent, noise_pred)\n",
    "\n",
    "    # Decode to image\n",
    "    with torch.no_grad():\n",
    "        generated_image = vae_decoder(latent / 0.18215)\n",
    "\n",
    "    return generated_image"
   ]
  },
  {
   "cell_type": "code",
   "execution_count": 11,
   "id": "fe9ab6e3-8ef7-46ef-9355-3531d88eb318",
   "metadata": {},
   "outputs": [
    {
     "name": "stdout",
     "output_type": "stream",
     "text": [
      "Current working directory: /home/d/dhansha/UncertinityAI/diffusion-based-environment-generator/diffuser\n"
     ]
    }
   ],
   "source": [
    "os.chdir(\"./diffuser\")\n",
    "print(f\"Current working directory: {os.getcwd()}\")"
   ]
  },
  {
   "cell_type": "markdown",
   "id": "8c55c140-678c-407c-9dec-df5f7f783449",
   "metadata": {},
   "source": [
    "### get trained files"
   ]
  },
  {
   "cell_type": "code",
   "execution_count": 12,
   "id": "3668989f-9566-4fe9-96d2-9f610bb92e30",
   "metadata": {},
   "outputs": [
    {
     "data": {
      "text/plain": [
       "<All keys matched successfully>"
      ]
     },
     "execution_count": 12,
     "metadata": {},
     "output_type": "execute_result"
    }
   ],
   "source": [
    "vae_encoder = VAE_Encoder().to(device).eval()\n",
    "vae_decoder = VAE_Decoder().to(device).eval()\n",
    "\n",
    "checkpoint = torch.load(f\"{vae_path}.pth\", map_location=device)\n",
    "vae_encoder.load_state_dict(checkpoint['encoder_state_dict'])\n",
    "vae_decoder.load_state_dict(checkpoint['decoder_state_dict'])"
   ]
  },
  {
   "cell_type": "code",
   "execution_count": 13,
   "id": "395f77b7-141b-4d37-ba5e-e4fa59dd970d",
   "metadata": {},
   "outputs": [
    {
     "data": {
      "text/plain": [
       "<All keys matched successfully>"
      ]
     },
     "execution_count": 13,
     "metadata": {},
     "output_type": "execute_result"
    }
   ],
   "source": [
    "diffusion_model = Diffusion(input_size=2).to(device)\n",
    "scheduler = DDPMSampler(generator=torch.Generator(device=device), num_training_steps=1000)\n",
    "\n",
    "checkpoint = torch.load(f\"{diff_path}.pth\", map_location=device)\n",
    "\n",
    "diffusion_model.load_state_dict(checkpoint['diffusion_state_dict'])"
   ]
  },
  {
   "cell_type": "markdown",
   "id": "40c5d88f-8991-4931-b857-6e8bab4a38f1",
   "metadata": {},
   "source": [
    "# VAE TESTS"
   ]
  },
  {
   "cell_type": "code",
   "execution_count": 14,
   "id": "9374d209-888e-42b0-9149-46464a8e9ae0",
   "metadata": {},
   "outputs": [
    {
     "name": "stderr",
     "output_type": "stream",
     "text": [
      "Clipping input data to the valid range for imshow with RGB data ([0..1] for floats or [0..255] for integers). Got range [-0.053022876..1.0751091].\n",
      "Clipping input data to the valid range for imshow with RGB data ([0..1] for floats or [0..255] for integers). Got range [-0.057657406..1.0453014].\n",
      "Clipping input data to the valid range for imshow with RGB data ([0..1] for floats or [0..255] for integers). Got range [-0.046053752..1.0670696].\n",
      "Clipping input data to the valid range for imshow with RGB data ([0..1] for floats or [0..255] for integers). Got range [-0.055022284..1.0621128].\n",
      "Clipping input data to the valid range for imshow with RGB data ([0..1] for floats or [0..255] for integers). Got range [-0.016910534..1.0408189].\n"
     ]
    },
    {
     "name": "stdout",
     "output_type": "stream",
     "text": [
      "torch.Size([1, 4, 8, 8])\n",
      "torch.Size([1, 4, 8, 8])\n",
      "torch.Size([1, 4, 8, 8])\n",
      "torch.Size([1, 4, 8, 8])\n",
      "torch.Size([1, 4, 8, 8])\n"
     ]
    },
    {
     "data": {
      "image/png": "[encoded data removed]",
      "text/plain": [
       "<Figure size 1500x800 with 15 Axes>"
      ]
     },
     "metadata": {},
     "output_type": "display_data"
    }
   ],
   "source": [
    "vae_encoder.eval()\n",
    "vae_decoder.eval()\n",
    "\n",
    "with torch.no_grad():\n",
    "    fig, axes = plt.subplots(3, 5, figsize=(15, 8))\n",
    "    for i in range(5):\n",
    "        idx = np.random.randint(len(test_dataset))\n",
    "        img, _, _, _ = test_dataset[idx]  # Ignore the path length label for reconstruction\n",
    "        img = img.unsqueeze(0).to(device)\n",
    "        noise = torch.randn(1, 4, 8, 8).to(device)\n",
    "        # noise = torch.randn(1, LATENT_CHANNELS, 2, 2).to(device)\n",
    "        # img = torch.tensor(img, dtype=torch.float32).to(device) \n",
    "        # img = img.permute(2, 0, 1).unsqueeze(0)\n",
    "        _, _, z = vae_encoder(img, noise)\n",
    "        print(z.shape)\n",
    "        reconstructed = vae_decoder(z).cpu().squeeze(0)\n",
    "        \n",
    "        original = img.cpu().squeeze(0)\n",
    "        \n",
    "        difference = torch.abs(original - reconstructed)\n",
    "        \n",
    "        axes[0, i].imshow(original.permute(1, 2, 0).numpy(), cmap='gray')\n",
    "        axes[0, i].axis('off')\n",
    "        axes[0, i].set_title('Original')\n",
    "        \n",
    "        axes[1, i].imshow(reconstructed.permute(1, 2, 0).numpy(), cmap='gray')\n",
    "        axes[1, i].axis('off')\n",
    "        axes[1, i].set_title('Reconstructed')\n",
    "        \n",
    "        axes[2, i].imshow(difference.permute(1, 2, 0).numpy(), cmap='gray')\n",
    "        axes[2, i].axis('off')\n",
    "        axes[2, i].set_title('Difference')\n",
    "    \n",
    "    plt.tight_layout()\n",
    "    plt.show()"
   ]
  },
  {
   "cell_type": "markdown",
   "id": "e11cc3ff-158f-4d8d-baa8-6bb233734b1c",
   "metadata": {},
   "source": [
    "# DIFFUSER TESTS"
   ]
  },
  {
   "cell_type": "code",
   "execution_count": 15,
   "id": "53720607-14c5-4f89-ab1e-272b6468cb3b",
   "metadata": {},
   "outputs": [
    {
     "name": "stderr",
     "output_type": "stream",
     "text": [
      "Clipping input data to the valid range for imshow with RGB data ([0..1] for floats or [0..255] for integers). Got range [-0.2572235..2.139393].\n"
     ]
    },
    {
     "data": {
      "image/png": "[encoded data removed]",
      "text/plain": [
       "<Figure size 1500x500 with 3 Axes>"
      ]
     },
     "metadata": {},
     "output_type": "display_data"
    },
    {
     "data": {
      "image/png": "[encoded data removed]",
      "text/plain": [
       "<Figure size 500x500 with 1 Axes>"
      ]
     },
     "metadata": {},
     "output_type": "display_data"
    }
   ],
   "source": [
    "generated, original, test_path_length = generate_maze_from_test(num_steps=1000)\n",
    "\n",
    "generated_np = generated.squeeze(0).permute(1, 2, 0).cpu().numpy()\n",
    "generated_np = (generated_np + 1) / 2.0\n",
    "\n",
    "original_np = original.permute(1, 2, 0).cpu().numpy()\n",
    "original_np = (original_np + 1) / 2.0\n",
    "\n",
    "generated_display = generated_np\n",
    "\n",
    "threshold_value = 0.5\n",
    "generated_approx = (generated_np > threshold_value).astype(np.float32)\n",
    "\n",
    "block_size = 4\n",
    "H, W, C = generated_approx.shape\n",
    "new_H = H // block_size\n",
    "new_W = W // block_size\n",
    "\n",
    "final_blocks = np.zeros((new_H, new_W, C), dtype=np.float32)\n",
    "for i in range(new_H):\n",
    "    for j in range(new_W):\n",
    "        block = generated_approx[i * block_size:(i + 1) * block_size,\n",
    "                                  j * block_size:(j + 1) * block_size, :]\n",
    "        final_blocks[i, j, :] = (block.mean(axis=(0, 1)) >= 0.5).astype(np.float32)\n",
    "\n",
    "final_image = np.repeat(np.repeat(final_blocks, block_size, axis=0), block_size, axis=1)\n",
    "\n",
    "plt.figure(figsize=(15, 5))\n",
    "\n",
    "plt.subplot(1, 3, 1)\n",
    "plt.imshow(generated_display)\n",
    "plt.title(\"Generated Maze\")\n",
    "plt.axis(\"off\")\n",
    "\n",
    "plt.subplot(1, 3, 2)\n",
    "plt.imshow(generated_approx)\n",
    "plt.title(\"Thresholded Approximation\")\n",
    "plt.axis(\"off\")\n",
    "\n",
    "plt.subplot(1, 3, 3)\n",
    "plt.imshow(final_image)\n",
    "plt.title(\"Final Blocky Maze\")\n",
    "plt.axis(\"off\")\n",
    "\n",
    "plt.tight_layout()\n",
    "plt.show()\n",
    "\n",
    "plt.figure(figsize=(5, 5))\n",
    "plt.imshow(original_np)\n",
    "plt.title(f\"Original Test Maze | path len: {test_path_length}\")\n",
    "plt.axis(\"off\")\n",
    "plt.show()"
   ]
  },
  {
   "cell_type": "code",
   "execution_count": 16,
   "id": "c891af8a-92eb-4eaa-a6b2-99b340a0d146",
   "metadata": {},
   "outputs": [
    {
     "name": "stderr",
     "output_type": "stream",
     "text": [
      "Clipping input data to the valid range for imshow with RGB data ([0..1] for floats or [0..255] for integers). Got range [-0.31994116..1.8391379].\n"
     ]
    },
    {
     "data": {
      "image/png": "[encoded data removed]",
      "text/plain": [
       "<Figure size 1500x500 with 3 Axes>"
      ]
     },
     "metadata": {},
     "output_type": "display_data"
    }
   ],
   "source": [
    "prompt_value = 7 \n",
    "generated = generate_maze_from_prompt(prompt_value=prompt_value)\n",
    "\n",
    "generated_np = generated.squeeze(0).permute(1, 2, 0).cpu().numpy()\n",
    "generated_np = (generated_np + 1) / 2.0  # Scale to [0,1]\n",
    "\n",
    "threshold_value = 0.5\n",
    "generated_approx = (generated_np > threshold_value).astype(np.float32)\n",
    "\n",
    "block_size = 4\n",
    "H, W, C = generated_approx.shape\n",
    "new_H, new_W = H // block_size, W // block_size\n",
    "final_blocks = np.zeros((new_H, new_W, C), dtype=np.float32)\n",
    "\n",
    "for i in range(new_H):\n",
    "    for j in range(new_W):\n",
    "        block = generated_approx[i * block_size:(i + 1) * block_size,\n",
    "                                  j * block_size:(j + 1) * block_size, :]\n",
    "        final_blocks[i, j, :] = (block.mean(axis=(0, 1)) >= 0.5).astype(np.float32)\n",
    "\n",
    "final_image = np.repeat(np.repeat(final_blocks, block_size, axis=0), block_size, axis=1)\n",
    "\n",
    "plt.figure(figsize=(15, 5))\n",
    "plt.subplot(1, 3, 1)\n",
    "plt.imshow(generated_np)\n",
    "plt.title(\"Generated Maze\")\n",
    "plt.axis(\"off\")\n",
    "\n",
    "plt.subplot(1, 3, 2)\n",
    "plt.imshow(generated_approx)\n",
    "plt.title(\"Thresholded Approximation\")\n",
    "plt.axis(\"off\")\n",
    "\n",
    "plt.subplot(1, 3, 3)\n",
    "plt.imshow(final_image)\n",
    "plt.title(\"Final Blocky Maze\")\n",
    "plt.axis(\"off\")\n",
    "\n",
    "plt.tight_layout()\n",
    "plt.show()"
   ]
  },
  {
   "cell_type": "code",
   "execution_count": null,
   "id": "c32547ca-f400-47ab-a4af-b184279af964",
   "metadata": {},
   "outputs": [],
   "source": []
  }
 ],
 "metadata": {
  "kernelspec": {
   "display_name": "Python 3 (ipykernel)",
   "language": "python",
   "name": "python3"
  },
  "language_info": {
   "codemirror_mode": {
    "name": "ipython",
    "version": 3
   },
   "file_extension": ".py",
   "mimetype": "text/x-python",
   "name": "python",
   "nbconvert_exporter": "python",
   "pygments_lexer": "ipython3",
   "version": "3.13.1"
  }
 },
 "nbformat": 4,
 "nbformat_minor": 5
}
