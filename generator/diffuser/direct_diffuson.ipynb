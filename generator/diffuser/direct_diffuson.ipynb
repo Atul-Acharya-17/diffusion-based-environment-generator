{
 "cells": [
  {
   "cell_type": "code",
   "execution_count": 1,
   "id": "6446fcb9",
   "metadata": {},
   "outputs": [],
   "source": [
    "import os\n",
    "import numpy as np\n",
    "import torch\n",
    "from torch import nn, optim\n",
    "from torch.utils.data import DataLoader, Dataset\n",
    "import numpy as np\n",
    "import matplotlib.pyplot as plt\n",
    "from PIL import Image\n",
    "from maze_dataset.plotting import MazePlot\n",
    "import random\n",
    "from torch.nn import functional as F"
   ]
  },
  {
   "cell_type": "code",
   "execution_count": 2,
   "id": "b8234899",
   "metadata": {},
   "outputs": [
    {
     "name": "stdout",
     "output_type": "stream",
     "text": [
      "Current working directory: /home/atul/diffusion-based-environment-generator/generator\n"
     ]
    }
   ],
   "source": [
    "os.chdir(\"/home/atul/diffusion-based-environment-generator/generator\")\n",
    "print(f\"Current working directory: {os.getcwd()}\")"
   ]
  },
  {
   "cell_type": "code",
   "execution_count": 3,
   "id": "601aa981",
   "metadata": {},
   "outputs": [
    {
     "name": "stdout",
     "output_type": "stream",
     "text": [
      "./data/grid/\n"
     ]
    },
    {
     "name": "stderr",
     "output_type": "stream",
     "text": [
      "Generating Grid Worlds:   7%|▋         | 6524/100000 [00:01<00:20, 4670.84it/s]\n"
     ]
    },
    {
     "ename": "KeyboardInterrupt",
     "evalue": "",
     "output_type": "error",
     "traceback": [
      "\u001b[0;31m---------------------------------------------------------------------------\u001b[0m",
      "\u001b[0;31mKeyboardInterrupt\u001b[0m                         Traceback (most recent call last)",
      "Cell \u001b[0;32mIn[3], line 4\u001b[0m\n\u001b[1;32m      1\u001b[0m \u001b[38;5;28;01mfrom\u001b[39;00m\u001b[38;5;250m \u001b[39m\u001b[38;5;21;01mmaze\u001b[39;00m\u001b[38;5;21;01m.\u001b[39;00m\u001b[38;5;21;01mgrid_world_generator\u001b[39;00m\u001b[38;5;250m \u001b[39m\u001b[38;5;28;01mimport\u001b[39;00m generate_multiple_grid_worlds\n\u001b[1;32m      2\u001b[0m \u001b[38;5;28;01mfrom\u001b[39;00m\u001b[38;5;250m \u001b[39m\u001b[38;5;21;01mmaze\u001b[39;00m\u001b[38;5;21;01m.\u001b[39;00m\u001b[38;5;21;01msolvers\u001b[39;00m\u001b[38;5;21;01m.\u001b[39;00m\u001b[38;5;21;01ma_star_l1\u001b[39;00m\u001b[38;5;250m \u001b[39m\u001b[38;5;28;01mimport\u001b[39;00m main\n\u001b[0;32m----> 4\u001b[0m \u001b[43mgenerate_multiple_grid_worlds\u001b[49m\u001b[43m(\u001b[49m\u001b[38;5;241;43m100_000\u001b[39;49m\u001b[43m,\u001b[49m\u001b[43m \u001b[49m\u001b[38;5;241;43m10\u001b[39;49m\u001b[43m)\u001b[49m\n\u001b[1;32m      5\u001b[0m main() \u001b[38;5;66;03m# main function of a_star\u001b[39;00m\n",
      "File \u001b[0;32m~/diffusion-based-environment-generator/generator/maze/grid_world_generator.py:66\u001b[0m, in \u001b[0;36mgenerate_multiple_grid_worlds\u001b[0;34m(num_worlds, size)\u001b[0m\n\u001b[1;32m     64\u001b[0m \u001b[38;5;28;01mwith\u001b[39;00m tqdm(total\u001b[38;5;241m=\u001b[39mnum_worlds, desc\u001b[38;5;241m=\u001b[39m\u001b[38;5;124m\"\u001b[39m\u001b[38;5;124mGenerating Grid Worlds\u001b[39m\u001b[38;5;124m\"\u001b[39m) \u001b[38;5;28;01mas\u001b[39;00m pbar:\n\u001b[1;32m     65\u001b[0m     \u001b[38;5;28;01mwhile\u001b[39;00m maze_count \u001b[38;5;241m<\u001b[39m num_worlds:\n\u001b[0;32m---> 66\u001b[0m         grid, start, end \u001b[38;5;241m=\u001b[39m \u001b[43mgenerate_grid_world\u001b[49m\u001b[43m(\u001b[49m\u001b[43msize\u001b[49m\u001b[43m)\u001b[49m\n\u001b[1;32m     67\u001b[0m         path_length \u001b[38;5;241m=\u001b[39m bfs(grid, start, end)\n\u001b[1;32m     69\u001b[0m         \u001b[38;5;28;01mif\u001b[39;00m path_length \u001b[38;5;129;01mis\u001b[39;00m \u001b[38;5;129;01mnot\u001b[39;00m \u001b[38;5;28;01mNone\u001b[39;00m:\n",
      "File \u001b[0;32m~/diffusion-based-environment-generator/generator/maze/grid_world_generator.py:16\u001b[0m, in \u001b[0;36mgenerate_grid_world\u001b[0;34m(size)\u001b[0m\n\u001b[1;32m     14\u001b[0m     x, y \u001b[38;5;241m=\u001b[39m random\u001b[38;5;241m.\u001b[39mrandint(\u001b[38;5;241m0\u001b[39m, size\u001b[38;5;241m-\u001b[39m\u001b[38;5;241m1\u001b[39m), random\u001b[38;5;241m.\u001b[39mrandint(\u001b[38;5;241m0\u001b[39m, size\u001b[38;5;241m-\u001b[39m\u001b[38;5;241m1\u001b[39m)\n\u001b[1;32m     15\u001b[0m     grid[x][y] \u001b[38;5;241m=\u001b[39m \u001b[38;5;241m0\u001b[39m\n\u001b[0;32m---> 16\u001b[0m     \u001b[43mwall_positions\u001b[49m\u001b[38;5;241;43m.\u001b[39;49m\u001b[43madd\u001b[49m\u001b[43m(\u001b[49m\u001b[43m(\u001b[49m\u001b[43mx\u001b[49m\u001b[43m,\u001b[49m\u001b[43m \u001b[49m\u001b[43my\u001b[49m\u001b[43m)\u001b[49m\u001b[43m)\u001b[49m\n\u001b[1;32m     18\u001b[0m \u001b[38;5;28;01mwhile\u001b[39;00m \u001b[38;5;28;01mTrue\u001b[39;00m:\n\u001b[1;32m     19\u001b[0m     start \u001b[38;5;241m=\u001b[39m (random\u001b[38;5;241m.\u001b[39mrandint(\u001b[38;5;241m0\u001b[39m, size\u001b[38;5;241m-\u001b[39m\u001b[38;5;241m1\u001b[39m), random\u001b[38;5;241m.\u001b[39mrandint(\u001b[38;5;241m0\u001b[39m, size\u001b[38;5;241m-\u001b[39m\u001b[38;5;241m1\u001b[39m))\n",
      "\u001b[0;31mKeyboardInterrupt\u001b[0m: "
     ]
    }
   ],
   "source": [
    "from maze.grid_world_generator import generate_multiple_grid_worlds\n",
    "from maze.solvers.a_star_l1 import main\n",
    "\n",
    "generate_multiple_grid_worlds(100_000, 10)\n",
    "main() # main function of a_star"
   ]
  },
  {
   "cell_type": "code",
   "execution_count": null,
   "id": "3d935a08",
   "metadata": {},
   "outputs": [],
   "source": [
    "import os\n",
    "import numpy as np\n",
    "import torch\n",
    "from torch.utils.data import Dataset\n",
    "\n",
    "class MazeDataset(Dataset):\n",
    "    def __init__(self, root):\n",
    "        self.grid_dir = os.path.join(root, 'grid')\n",
    "        self.path_length_dir = os.path.join(root, 'path_length')\n",
    "        self.astar_dir = os.path.join(root, 'a_star_l1_results')\n",
    "\n",
    "        self.indices = []\n",
    "\n",
    "        for fname in os.listdir(self.grid_dir):\n",
    "            if fname.endswith('.npy'):\n",
    "                idx = fname.split('.')[0].split('_')[-1]\n",
    "                path_file = f'path_length_{idx}.npy'\n",
    "                astar_file = f'a_star_{idx}.npy'\n",
    "\n",
    "                if os.path.exists(os.path.join(self.path_length_dir, path_file)) and \\\n",
    "                   os.path.exists(os.path.join(self.astar_dir, astar_file)):\n",
    "                    self.indices.append(idx)\n",
    "\n",
    "    def __len__(self):\n",
    "        return len(self.indices)\n",
    "\n",
    "    def __getitem__(self, i):\n",
    "        idx = self.indices[i]\n",
    "\n",
    "        # Load grid (maze)\n",
    "        grid_path = os.path.join(self.grid_dir, f'maze_{idx}.npy')\n",
    "        maze = np.load(grid_path)\n",
    "        maze = torch.tensor(maze, dtype=torch.float32)  # assuming [H, W, 3]\n",
    "\n",
    "        # Load scalar values\n",
    "        path_length = np.load(os.path.join(self.path_length_dir, f'path_length_{idx}.npy')).item()\n",
    "        a_star = np.load(os.path.join(self.astar_dir, f'a_star_{idx}.npy')).item()\n",
    "\n",
    "        # Compute difficulty \n",
    "        difficulty = a_star / (max(path_length, 1))\n",
    "        difficulty = torch.tensor(difficulty, dtype=torch.float32)\n",
    "\n",
    "        return maze, difficulty\n"
   ]
  },
  {
   "cell_type": "code",
   "execution_count": null,
   "id": "4151c870",
   "metadata": {},
   "outputs": [],
   "source": [
    "import torch\n",
    "import torch.nn as nn\n",
    "import torch.nn.functional as F\n",
    "\n",
    "class DiffusionMLP(nn.Module):\n",
    "    def __init__(self, input_dim=300, cond_dim=1, hidden_dim=256):\n",
    "        super().__init__()\n",
    "        # Condition embedding\n",
    "        self.cond_net = nn.Sequential(\n",
    "            nn.Linear(cond_dim, 64),\n",
    "            nn.ReLU(),\n",
    "            nn.Linear(64, 32),\n",
    "            nn.ReLU()\n",
    "        )\n",
    "\n",
    "        # Diffusion MLP\n",
    "        self.mlp = nn.Sequential(\n",
    "            nn.Linear(input_dim + 32, hidden_dim),\n",
    "            nn.ReLU(),\n",
    "            nn.Linear(hidden_dim, hidden_dim),\n",
    "            nn.ReLU(),\n",
    "            nn.Linear(hidden_dim, input_dim)  # Output is noise of same shape as input\n",
    "        )\n",
    "\n",
    "    def forward(self, x, cond):\n",
    "        B = x.shape[0]\n",
    "        x = x.reshape(B, -1)  # Flatten to (B, 300)\n",
    "        cond_embed = self.cond_net(cond.view(B, -1))  # Shape (B, 32)\n",
    "        x = torch.cat([x, cond_embed], dim=-1)  # Shape (B, 332)\n",
    "        return self.mlp(x).view(B, 3, 10, 10)  # Output shape same as input\n"
   ]
  },
  {
   "cell_type": "code",
   "execution_count": null,
   "id": "de819333",
   "metadata": {},
   "outputs": [],
   "source": [
    "def linear_beta_schedule(timesteps):\n",
    "    beta_start = 1e-4\n",
    "    beta_end = 0.02\n",
    "    return torch.linspace(beta_start, beta_end, timesteps)\n"
   ]
  },
  {
   "cell_type": "code",
   "execution_count": null,
   "id": "b08c1c0a",
   "metadata": {},
   "outputs": [],
   "source": [
    "def diffusion_loss(model, x_0, difficulty, timesteps, betas):\n",
    "    device = x_0.device\n",
    "    t = torch.randint(0, timesteps, (x_0.shape[0],), device=device).long()\n",
    "    \n",
    "    noise = torch.randn_like(x_0)\n",
    "    alpha = 1. - betas\n",
    "    alpha_cumprod = torch.cumprod(alpha, dim=0)\n",
    "    alpha_bar = alpha_cumprod[t].view(-1, 1, 1, 1)\n",
    "    \n",
    "    x_t = torch.sqrt(alpha_bar) * x_0 + torch.sqrt(1 - alpha_bar) * noise\n",
    "\n",
    "    pred_noise = model(x_t, difficulty.unsqueeze(-1))  # (B, 1)\n",
    "    return F.mse_loss(pred_noise, noise)\n"
   ]
  },
  {
   "cell_type": "code",
   "execution_count": null,
   "id": "54f3b252",
   "metadata": {},
   "outputs": [],
   "source": [
    "from torch.utils.data import DataLoader\n",
    "\n",
    "def train(model, dataloader, epochs=100, lr=1e-4, timesteps=1000):\n",
    "    model = model.to('cuda')\n",
    "    optimizer = torch.optim.Adam(model.parameters(), lr=lr)\n",
    "    betas = linear_beta_schedule(timesteps).to('cuda')\n",
    "\n",
    "    for epoch in range(epochs):\n",
    "        for maze, difficulty in dataloader:\n",
    "            maze = maze.permute(0, 3, 1, 2).to('cuda')  # [B, C, H, W]\n",
    "            difficulty = difficulty.to('cuda')\n",
    "\n",
    "            loss = diffusion_loss(model, maze, difficulty, timesteps, betas)\n",
    "\n",
    "            optimizer.zero_grad()\n",
    "            loss.backward()\n",
    "            optimizer.step()\n",
    "\n",
    "        print(f\"Epoch {epoch+1}/{epochs} - Loss: {loss.item():.4f}\")\n"
   ]
  },
  {
   "cell_type": "code",
   "execution_count": null,
   "id": "80f42a76",
   "metadata": {},
   "outputs": [],
   "source": [
    "maze_dataset = MazeDataset(\"/home/atul/diffusion-based-environment-generator/generator/data/\")\n",
    "diffusion_dataloader = torch.utils.data.DataLoader(maze_dataset, batch_size=64, shuffle=True)\n",
    "model = DiffusionMLP(cond_dim=1)\n",
    "train(model, diffusion_dataloader)\n"
   ]
  },
  {
   "cell_type": "code",
   "execution_count": null,
   "id": "77e08151",
   "metadata": {},
   "outputs": [],
   "source": [
    "def convert_generated_maze(recon_batch):\n",
    "    \"\"\"\n",
    "    Convert model output into final [B, 10, 10, 3] grid with:\n",
    "    - Binary wall map (thresholded)\n",
    "    - One-hot source and destination locations\n",
    "    \"\"\"\n",
    "    B = recon_batch.shape[0]\n",
    "    print(B)\n",
    "\n",
    "    wall = (recon_batch[..., 0] >= 0.5).int()\n",
    "\n",
    "    source_flat = recon_batch[..., 1].reshape(B, -1)\n",
    "    print(source_flat.shape)\n",
    "    source_indices = source_flat.argmax(dim=1)\n",
    "    source_onehot = torch.zeros_like(source_flat, dtype=torch.int)\n",
    "    source_onehot[torch.arange(B), source_indices] = 1\n",
    "    source_onehot = source_onehot.view(B, 10, 10)\n",
    "\n",
    "    dest_flat = recon_batch[..., 2].reshape(B, -1)\n",
    "    dest_indices = dest_flat.argmax(dim=1)\n",
    "    dest_onehot = torch.zeros_like(dest_flat, dtype=torch.int)\n",
    "    dest_onehot[torch.arange(B), dest_indices] = 1\n",
    "    dest_onehot = dest_onehot.view(B, 10, 10)\n",
    "\n",
    "    result = torch.stack([wall, source_onehot, dest_onehot], dim=-1).int()  # [B, 10, 10, 3]\n",
    "    return result\n"
   ]
  },
  {
   "cell_type": "code",
   "execution_count": null,
   "id": "5bff7e26",
   "metadata": {},
   "outputs": [],
   "source": [
    "@torch.no_grad()\n",
    "def sample(model, difficulty, shape=(3, 64, 64), timesteps=1000):\n",
    "    model.eval()\n",
    "    device = next(model.parameters()).device\n",
    "    betas = linear_beta_schedule(timesteps).to(device)\n",
    "    alpha = 1. - betas\n",
    "    alpha_cumprod = torch.cumprod(alpha, dim=0)\n",
    "    alpha_cumprod_prev = torch.cat([torch.tensor([1.], device=device), alpha_cumprod[:-1]])\n",
    "\n",
    "    sqrt_recip_alpha = torch.sqrt(1.0 / alpha)\n",
    "    sqrt_one_minus_alpha_bar = torch.sqrt(1 - alpha_cumprod)\n",
    "    posterior_variance = betas * (1. - alpha_cumprod_prev) / (1. - alpha_cumprod)\n",
    "\n",
    "    x = torch.randn((1, *shape), device=device)\n",
    "    difficulty = torch.tensor([difficulty], device=device).unsqueeze(0)\n",
    "\n",
    "    for t in reversed(range(timesteps)):\n",
    "        t_tensor = torch.full((1,), t, device=device, dtype=torch.long)\n",
    "        noise_pred = model(x, difficulty)\n",
    "\n",
    "        if t > 0:\n",
    "            noise = torch.randn_like(x)\n",
    "        else:\n",
    "            noise = torch.zeros_like(x)\n",
    "\n",
    "        x = (\n",
    "            sqrt_recip_alpha[t] * (x - betas[t] / sqrt_one_minus_alpha_bar[t] * noise_pred)\n",
    "            + torch.sqrt(posterior_variance[t]) * noise\n",
    "        )\n",
    "\n",
    "    x = x.clamp(0, 1).permute(0, 2, 3, 1)\n",
    "    print(x.shape)\n",
    "    return convert_generated_maze(x).squeeze(0)\n"
   ]
  },
  {
   "cell_type": "code",
   "execution_count": null,
   "id": "7c484936",
   "metadata": {},
   "outputs": [],
   "source": []
  },
  {
   "cell_type": "code",
   "execution_count": null,
   "id": "03b8f73e",
   "metadata": {},
   "outputs": [],
   "source": [
    "def visualize_grid_world(grid):\n",
    "    \"\"\"\n",
    "    Converts a 3-channel grid world into an RGB image for visualization.\n",
    "    - First channel: Wall (0 or 1)\n",
    "    - Second channel: Source (1 if source)\n",
    "    - Third channel: Destination (1 if destination)\n",
    "    \"\"\"\n",
    "    # Extract channels\n",
    "\n",
    "    # print(grid[:, :, 0])\n",
    "    wall = grid[:, :, 0] < 0.5\n",
    "    source = grid[:, :, 1] >= 0.5\n",
    "    destination = grid[:, :, 2] >= 0.5\n",
    "    \n",
    "    # Create an RGB image with a white background (1, 1, 1)\n",
    "    img = np.ones((*wall.shape, 3), dtype=np.float32)  # White background\n",
    "    \n",
    "    # Set walls to black (0, 0, 0)\n",
    "    img[wall] = np.array([0, 0, 0])\n",
    "    \n",
    "    # Set destination to green (0, 1, 0)\n",
    "    img[destination] = np.array([0, 1, 0])\n",
    "\n",
    "    # Set source to blue (0, 0, 1)\n",
    "    img[source] = np.array([0, 0, 1])\n",
    "    \n",
    "    return img"
   ]
  },
  {
   "cell_type": "code",
   "execution_count": null,
   "id": "591662bf",
   "metadata": {},
   "outputs": [],
   "source": [
    "def visualize_sample(sample, difficulty):\n",
    "    # Visualize using your function\n",
    "    print(sample.shape)\n",
    "    img = visualize_grid_world(sample)\n",
    "\n",
    "    # Display\n",
    "    plt.imshow(img)\n",
    "    plt.title(f\"Sampled Maze — Difficulty {difficulty:.2f}\")\n",
    "    plt.axis('off')\n",
    "    plt.show()"
   ]
  },
  {
   "cell_type": "code",
   "execution_count": null,
   "id": "7ca3b9f7",
   "metadata": {},
   "outputs": [],
   "source": [
    "difficulty = 1.2\n",
    "generated = sample(model, shape=(3, 10, 10), difficulty=difficulty)  # (3, 10, 10)\n",
    "visualize_sample(generated.cpu().numpy(), difficulty=difficulty)\n"
   ]
  },
  {
   "cell_type": "code",
   "execution_count": null,
   "id": "c3acfa50",
   "metadata": {},
   "outputs": [],
   "source": []
  }
 ],
 "metadata": {
  "kernelspec": {
   "display_name": "venv",
   "language": "python",
   "name": "python3"
  },
  "language_info": {
   "codemirror_mode": {
    "name": "ipython",
    "version": 3
   },
   "file_extension": ".py",
   "mimetype": "text/x-python",
   "name": "python",
   "nbconvert_exporter": "python",
   "pygments_lexer": "ipython3",
   "version": "3.10.12"
  }
 },
 "nbformat": 4,
 "nbformat_minor": 5
}
