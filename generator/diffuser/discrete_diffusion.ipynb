{
 "cells": [
  {
   "cell_type": "code",
   "execution_count": 68,
   "metadata": {},
   "outputs": [],
   "source": [
    "import os\n",
    "import numpy as np\n",
    "import torch\n",
    "from torch import nn, optim\n",
    "from torch.utils.data import DataLoader, Dataset\n",
    "import numpy as np\n",
    "import matplotlib.pyplot as plt\n",
    "from PIL import Image\n",
    "from maze_dataset.plotting import MazePlot\n",
    "import random\n",
    "from torch.nn import functional as F"
   ]
  },
  {
   "cell_type": "code",
   "execution_count": 69,
   "metadata": {},
   "outputs": [
    {
     "name": "stdout",
     "output_type": "stream",
     "text": [
      "Current working directory: /home/atul/diffusion-based-environment-generator/generator\n"
     ]
    }
   ],
   "source": [
    "os.chdir(\"/home/atul/diffusion-based-environment-generator/generator\")\n",
    "print(f\"Current working directory: {os.getcwd()}\")"
   ]
  },
  {
   "cell_type": "code",
   "execution_count": 70,
   "metadata": {},
   "outputs": [
    {
     "name": "stdout",
     "output_type": "stream",
     "text": [
      "./data/grid/\n"
     ]
    },
    {
     "name": "stderr",
     "output_type": "stream",
     "text": [
      "Generating Grid Worlds: 100%|██████████| 1/1 [00:00<00:00, 920.61it/s]\n"
     ]
    }
   ],
   "source": [
    "from maze.grid_world_generator import generate_multiple_grid_worlds\n",
    "\n",
    "generate_multiple_grid_worlds(1, 10)"
   ]
  },
  {
   "cell_type": "code",
   "execution_count": 71,
   "metadata": {},
   "outputs": [],
   "source": [
    "class GridWorldDataset(Dataset):\n",
    "    def __init__(self, directory):\n",
    "        # print(directory)\n",
    "        self.files = [os.path.join(directory, f) for f in os.listdir(directory) if f.endswith('.npy')]\n",
    "    \n",
    "    def __len__(self):\n",
    "        return len(self.files)\n",
    "    \n",
    "    def __getitem__(self, idx):\n",
    "        # print(self.files[idx])\n",
    "        grid = np.load(self.files[idx])\n",
    "        return torch.tensor(grid, dtype=torch.int32)"
   ]
  },
  {
   "cell_type": "code",
   "execution_count": 72,
   "metadata": {},
   "outputs": [],
   "source": [
    "def plot_grid_world(grid):\n",
    "    \"\"\"\n",
    "    Plots the given grid world.\n",
    "    \"\"\"\n",
    "    wall = grid[:,:,0] == 0\n",
    "    source = grid[:,:,1] == 1\n",
    "    destination = grid[:,:,2] == 1\n",
    "\n",
    "    # Below is ChatGPT   \n",
    "    img = np.ones((*wall.shape, 3), dtype=np.float32)  # White background\n",
    "    img[wall] = np.array([0, 0, 0])  # Walls → Black\n",
    "    img[source] = np.array([0, 0, 1])  # Source → Blue\n",
    "    img[destination] = np.array([0, 1, 0])  # Destination → Green\n",
    "    \n",
    "    plt.figure(figsize=(6, 6))\n",
    "    plt.imshow(img)\n",
    "    plt.axis('off')\n",
    "    plt.show()"
   ]
  },
  {
   "cell_type": "code",
   "execution_count": 73,
   "metadata": {},
   "outputs": [],
   "source": [
    "dataset = GridWorldDataset(\"/home/atul/diffusion-based-environment-generator/generator/data/grid\")"
   ]
  },
  {
   "cell_type": "code",
   "execution_count": 74,
   "metadata": {},
   "outputs": [],
   "source": [
    "def display_grid_text(grid):\n",
    "    \"\"\"\n",
    "    Displays the grid world in text format.\n",
    "    \"\"\"\n",
    "    height, width = grid.shape[1], grid.shape[2]\n",
    "    char_grid = np.full((height, width), '-', dtype=str)\n",
    "    \n",
    "    wall = grid[:, :, 0] == 0\n",
    "    source = grid[:, :, 1] == 1\n",
    "    destination = grid[:, :, 2] == 1\n",
    "    \n",
    "    char_grid = np.full(wall.shape, '-', dtype=str)  # Default to empty space\n",
    "    char_grid[wall] = '#'  # Walls\n",
    "    char_grid[source] = 'S'  # Source\n",
    "    char_grid[destination] = 'E'  # Destination\n",
    "    \n",
    "    print(\"\\n\".join(\"\".join(row) for row in char_grid))"
   ]
  },
  {
   "cell_type": "code",
   "execution_count": 75,
   "metadata": {},
   "outputs": [
    {
     "name": "stdout",
     "output_type": "stream",
     "text": [
      "torch.Size([10, 10, 3])\n"
     ]
    }
   ],
   "source": [
    "print(dataset[0].shape)"
   ]
  },
  {
   "cell_type": "code",
   "execution_count": 76,
   "metadata": {},
   "outputs": [
    {
     "data": {
      "image/png": "[encoded data removed]",
      "text/plain": [
       "<Figure size 600x600 with 1 Axes>"
      ]
     },
     "metadata": {},
     "output_type": "display_data"
    }
   ],
   "source": [
    "plot_grid_world(dataset[0])"
   ]
  },
  {
   "cell_type": "code",
   "execution_count": 77,
   "metadata": {},
   "outputs": [
    {
     "name": "stdout",
     "output_type": "stream",
     "text": [
      "-#S###-#--\n",
      "----#-----\n",
      "##-#---#-#\n",
      "---#---#--\n",
      "--#----##-\n",
      "--#---#--#\n",
      "--##-#--#-\n",
      "#----#--#-\n",
      "#--###----\n",
      "--E#-##-##\n"
     ]
    }
   ],
   "source": [
    "display_grid_text(dataset[0])"
   ]
  },
  {
   "cell_type": "code",
   "execution_count": 78,
   "metadata": {},
   "outputs": [],
   "source": [
    "import torch\n",
    "from torch import nn, optim\n",
    "from torch.utils.data import DataLoader, Dataset\n",
    "import numpy as np\n",
    "import matplotlib.pyplot as plt\n",
    "from PIL import Image\n",
    "from maze_dataset.plotting import MazePlot\n",
    "import random"
   ]
  },
  {
   "cell_type": "code",
   "execution_count": 79,
   "metadata": {},
   "outputs": [
    {
     "name": "stdout",
     "output_type": "stream",
     "text": [
      "Current working directory: /home/atul/diffusion-based-environment-generator/generator\n"
     ]
    }
   ],
   "source": [
    "print(f\"Current working directory: {os.getcwd()}\")"
   ]
  },
  {
   "cell_type": "code",
   "execution_count": null,
   "metadata": {},
   "outputs": [],
   "source": [
    "import torch\n",
    "from torch import nn\n",
    "import torch.nn.functional as F\n",
    "\n",
    "class VAE_Encoder(nn.Module):\n",
    "    def __init__(self, latent_dim=4):\n",
    "        super().__init__()\n",
    "        self.encoder = nn.Sequential(\n",
    "            nn.Conv2d(3, 32, kernel_size=3, padding=1),  # 10x10x32\n",
    "            nn.ReLU(),\n",
    "            nn.Conv2d(32, 64, kernel_size=3, stride=2, padding=1),  # 5x5x64\n",
    "            nn.ReLU(),\n",
    "            nn.Conv2d(64, 128, kernel_size=3, stride=2, padding=1),  # 3x3x128\n",
    "            nn.ReLU(),\n",
    "            nn.Conv2d(128, latent_dim * 2, kernel_size=3, padding=1)  # 3x3x(latent_dim * 2)\n",
    "        )\n",
    "\n",
    "        self.latent_dim = latent_dim\n",
    "\n",
    "    def forward(self, x, noise):\n",
    "        x = self.encoder(x)  # (B, latent_dim*2, 3, 3)\n",
    "        \n",
    "        mean, log_var = torch.chunk(x, 2, dim=1)  # Split into two parts\n",
    "        log_var = torch.clamp(log_var, -10, 10)  \n",
    "        var = log_var.exp()\n",
    "        stdev = var.sqrt()\n",
    "\n",
    "        z = mean + stdev * noise  # Reparameterization trick\n",
    "        return mean, log_var, z\n",
    "    "
   ]
  },
  {
   "cell_type": "code",
   "execution_count": null,
   "metadata": {},
   "outputs": [],
   "source": [
    "class VAE_Decoder(nn.Module):\n",
    "    def __init__(self, latent_dim=4):\n",
    "        super().__init__()\n",
    "        self.decoder = nn.Sequential(\n",
    "            nn.Conv2d(latent_dim, 128, kernel_size=3, padding=1),  # 3x3x128\n",
    "            nn.ReLU(),\n",
    "            nn.Upsample(scale_factor=2, mode='nearest'),  # 6x6\n",
    "            nn.Conv2d(128, 64, kernel_size=3, padding=1),  # 6x6x64\n",
    "            nn.ReLU(),\n",
    "            nn.Upsample(scale_factor=2, mode='nearest'),  # 12x12\n",
    "            nn.Conv2d(64, 32, kernel_size=3, padding=1),  # 12x12x32\n",
    "            nn.ReLU(),\n",
    "            nn.Conv2d(32, 3, kernel_size=3, padding=1),  # 12x12x3 (Extra padding)\n",
    "        )\n",
    "\n",
    "    def forward(self, z):\n",
    "        # Forward pass through decoder\n",
    "        x = self.decoder(z)  # Shape: (B, 3, 12, 12)\n",
    "\n",
    "        # Crop to 10x10 (assuming output is 12x12)\n",
    "        x = x[:, :, :10, :10]\n",
    "\n",
    "        # Process channels for discrete output\n",
    "        wall = torch.sigmoid(x[:, 0]) < 0.5 # Channel 1: Sigmoid for walls\n",
    "        \n",
    "        # Apply softmax over each pixel (across spatial dimensions) for source and destination\n",
    "        source = F.softmax(x[:, 1], dim=1)  # Shape: (B, 10, 10)\n",
    "        destination = F.softmax(x[:, 2], dim=1)  # Shape: (B, 10, 10)\n",
    "\n",
    "        # Ensure a single position is max for source/destination\n",
    "        source_idx = source.argmax(dim=1, keepdim=True)  # Shape: (B, 1, 10, 10)\n",
    "        destination_idx = destination.argmax(dim=1, keepdim=True)  # Shape: (B, 1, 10, 10)\n",
    "\n",
    "        # Create one-hot encoded source/destination\n",
    "        source_one_hot = torch.zeros_like(source).scatter_(1, source_idx, 1)\n",
    "        destination_one_hot = torch.zeros_like(destination).scatter_(1, destination_idx, 1)\n",
    "\n",
    "        # Stack the channels to return the final output\n",
    "        return torch.stack([wall, source_one_hot, destination_one_hot], dim=1)"
   ]
  },
  {
   "cell_type": "code",
   "execution_count": null,
   "metadata": {},
   "outputs": [],
   "source": [
    "# import torch\n",
    "# from torch import nn\n",
    "# from torch.nn import functional as F\n",
    "# import math\n",
    "\n",
    "# class SelfAttention(nn.Module):\n",
    "#     def __init__(self, n_heads: int, d_embed: int, in_proj_bias=True, out_proj_bias = True):\n",
    "#         super().__init__()\n",
    "\n",
    "#         self.in_proj = nn.Linear(d_embed, 3 * d_embed, bias=in_proj_bias)\n",
    "#         self.out_proj = nn.Linear(d_embed, d_embed, bias=out_proj_bias)\n",
    "\n",
    "#         self.n_heads = n_heads\n",
    "#         self.d_head = d_embed // n_heads\n",
    "\n",
    "#     def forward(self, x: torch.Tensor, casual_mask=False):\n",
    "#         # x (Batch_size, Seq_Len, Dim)\n",
    "#         input_shape = x.shape\n",
    "#         batch_size, seq_len, d_embed = input_shape\n",
    "\n",
    "#         interim_shape = (batch_size, seq_len, self.n_heads, self.d_head)\n",
    "\n",
    "#         q, k, v = self.in_proj(x).chunk(3, dim=-1)\n",
    "\n",
    "#         q = q.view(interim_shape).transpose(1, 2)\n",
    "#         k = k.view(interim_shape).transpose(1, 2)\n",
    "#         v = v.view(interim_shape).transpose(1, 2)\n",
    "\n",
    "#         weight = q @ k.transpose(-1, -2)\n",
    "\n",
    "#         if casual_mask:\n",
    "#             mask = torch.ones_like(weight, dtype=torch.bool).triu(1)\n",
    "#             weight.masked_fill_(mask, -torch.inf)\n",
    "\n",
    "#         weight /= math.sqrt(self.d_head)\n",
    "\n",
    "#         weight = F.softmax(weight, dim=-1)\n",
    "\n",
    "#         output = weight @ v\n",
    "\n",
    "#         output = output.transpose(1, 2)\n",
    "\n",
    "#         output = output.reshape(input_shape)\n",
    "#         output = self.out_proj(output)\n",
    "\n",
    "#         return output\n",
    "\n",
    "\n",
    "# class CrossAttention(nn.Module):\n",
    "#     def __init__(self, n_heads: int, d_embed: int, d_cross: int, in_proj_bias=True, out_proj_bias = True):\n",
    "#         super().__init__()\n",
    "\n",
    "#         self.q_proj = nn.Linear(d_embed, d_embed, bias=in_proj_bias)\n",
    "#         self.k_proj = nn.Linear(d_cross, d_embed, bias=in_proj_bias)\n",
    "#         self.v_proj = nn.Linear(d_cross, d_embed, bias=in_proj_bias)\n",
    "#         self.out_proj = nn.Linear(d_embed, d_embed, bias = out_proj_bias)\n",
    "#         self.n_heads = n_heads\n",
    "#         self.d_head = d_embed // n_heads\n",
    "\n",
    "#     def forward(self, x, y):\n",
    "#         input_shape = x.shape\n",
    "#         batch_size, seq_len, d_embed = input_shape\n",
    "\n",
    "#         interim_shape = (batch_size, -1, self.n_heads, self.d_head)\n",
    "\n",
    "#         q = self.q_proj(x)\n",
    "#         k = self.k_proj(y)\n",
    "#         v = self.v_proj(y)\n",
    "\n",
    "#         q = q.view(interim_shape).transpose(1, 2)\n",
    "#         k = k.view(interim_shape).transpose(1, 2)\n",
    "#         v = v.view(interim_shape).transpose(1, 2)\n",
    "\n",
    "#         weight = q @ k.transpose(-1, -2)\n",
    "#         weight /= math.sqrt(self.d_head)\n",
    "#         weight = F.softmax(weight, dim=-1)\n",
    "\n",
    "#         output = weight @ v\n",
    "#         output = output.transpose(1, 2).contiguous()\n",
    "#         output = output.view(input_shape)\n",
    "#         output = self.out_proj(output)\n",
    "\n",
    "#         return output"
   ]
  },
  {
   "cell_type": "code",
   "execution_count": null,
   "metadata": {},
   "outputs": [],
   "source": [
    "# class VAE_AttnBlock(nn.Module):\n",
    "#     def __init__(self, channels: int):\n",
    "#         super().__init__()\n",
    "#         self.groupnorm = nn.GroupNorm(32, channels)\n",
    "#         self.attention = SelfAttention(1, channels)\n",
    "\n",
    "#     def forward(self, x:torch.Tensor) -> torch.Tensor:\n",
    "#         residue = x\n",
    "#         n, c, h, w = x.shape\n",
    "\n",
    "#         x = x.view(n, c, h * w)\n",
    "#         x = x.transpose(-1, -2)\n",
    "\n",
    "#         x = self.attention(x)\n",
    "#         x = x.transpose(-1, -2)\n",
    "        \n",
    "#         x = x.view((n, c, h, w))\n",
    "\n",
    "#         x += residue\n",
    "#         return x\n",
    "        \n",
    "# class VAE_ResBlock(nn.Module):\n",
    "#     def __init__(self, in_channels, out_channels):\n",
    "#         super().__init__()\n",
    "#         self.groupnorm_1 = nn.GroupNorm(32, in_channels)\n",
    "#         self.conv_1 = nn.Conv2d(in_channels, out_channels, kernel_size=3, padding=1)\n",
    "\n",
    "#         self.groupnorm_2 = nn.GroupNorm(32, out_channels)\n",
    "#         self.conv_2 = nn.Conv2d(out_channels, out_channels, kernel_size=3, padding=1)\n",
    "\n",
    "#         if in_channels == out_channels:\n",
    "#             self.residual_layer = nn.Identity()\n",
    "#         else:\n",
    "#             self.residual_layer = nn.Conv2d(in_channels, out_channels, kernel_size=1, padding=0)\n",
    "\n",
    "#     def forward(self, x: torch.Tensor) -> torch.Tensor:\n",
    "#         # x: (Batch_size, In_channels, H, W)\n",
    "\n",
    "#         residue = x\n",
    "\n",
    "#         x = self.groupnorm_1(x)\n",
    "#         x = F.silu(x)\n",
    "#         x = self.conv_1(x)\n",
    "\n",
    "#         x = self.groupnorm_2(x)\n",
    "#         x = F.silu(x)\n",
    "#         x = self.conv_2(x)\n",
    "\n",
    "#         return x + self.residual_layer(residue)\n"
   ]
  },
  {
   "cell_type": "code",
   "execution_count": null,
   "metadata": {},
   "outputs": [],
   "source": [
    "# # encoder\n",
    "# import torch\n",
    "# from torch import nn\n",
    "# from torch.nn import functional as F\n",
    "\n",
    "# class VAE_Encoder(nn.Sequential):\n",
    "\n",
    "#     def __init__(self):\n",
    "#         super().__init__(\n",
    "#             # Initial convolution\n",
    "#             nn.Conv2d(3, 64, kernel_size=3, padding=1),\n",
    "            \n",
    "#             # Residual blocks\n",
    "#             VAE_ResBlock(64, 64),\n",
    "#             VAE_ResBlock(64, 64),\n",
    "            \n",
    "#             # First downsampling (32x32 -> 16x16)\n",
    "#             nn.Conv2d(64, 64, kernel_size=3, stride=2, padding=0),\n",
    "            \n",
    "#             # Increased channels\n",
    "#             VAE_ResBlock(64, 128),\n",
    "#             VAE_ResBlock(128, 128),\n",
    "            \n",
    "#             # Second downsampling (16x16 -> 8x8)\n",
    "#             nn.Conv2d(128, 128, kernel_size=3, stride=2, padding=0),\n",
    "            \n",
    "#             # Final processing\n",
    "#             VAE_ResBlock(128, 256),\n",
    "#             VAE_ResBlock(256, 256),\n",
    "#             VAE_AttnBlock(256),\n",
    "            \n",
    "#             # Output projection\n",
    "#             nn.GroupNorm(32, 256),\n",
    "#             nn.SiLU(),\n",
    "#             nn.Conv2d(256, 8, kernel_size=3, padding=1),\n",
    "#             nn.Conv2d(8, 8, kernel_size=1, padding=0)\n",
    "#         )\n",
    "\n",
    "#     def forward(self, x: torch.Tensor, noise: torch.Tensor) -> torch.Tensor:\n",
    "#         # x: (Batch_size, Channel, H, W)\n",
    "#         # noise: (Batch_size, out_channels, H/8, W/8)\n",
    "\n",
    "#         for module in self:\n",
    "#             if getattr(module, 'stride', None) == (2, 2):\n",
    "#                 x = F.pad(x, (0, 1, 0, 1))\n",
    "#             x = module(x)\n",
    "            \n",
    "#         # (Batch_size, 8, H, H / 8, W / 8) -> 2 tensors of shape (Batch size, 4, H/8, W/8)\n",
    "#         mean, log_var = torch.chunk(x, 2, dim=1)\n",
    "#         log_var = torch.clamp(log_var, -30, 20)\n",
    "#         var = log_var.exp()\n",
    "#         stdev = var.sqrt()\n",
    "\n",
    "#         print(x.shape)\n",
    "#         print(mean.shape)\n",
    "#         print(stdev.shape)\n",
    "#         print(noise.shape)\n",
    "\n",
    "#         x = mean + stdev * noise\n",
    "\n",
    "#         x *= 0.18215\n",
    "\n",
    "#         # return x\n",
    "#         return mean, log_var, x"
   ]
  },
  {
   "cell_type": "code",
   "execution_count": null,
   "metadata": {},
   "outputs": [],
   "source": [
    "# class VAE_Decoder(nn.Sequential):\n",
    "\n",
    "#     def __init__(self):\n",
    "#         super().__init__(\n",
    "#             # Input projection\n",
    "#             nn.Conv2d(4, 4, kernel_size=1, padding=0),\n",
    "#             nn.Conv2d(4, 256, kernel_size=3, padding=1),\n",
    "            \n",
    "#             # Residual blocks\n",
    "#             VAE_ResBlock(256, 256),\n",
    "#             VAE_AttnBlock(256),\n",
    "#             VAE_ResBlock(256, 256),\n",
    "            \n",
    "#             # First upsampling (8x8 -> 16x16)\n",
    "#             nn.Upsample(scale_factor=2),\n",
    "#             nn.Conv2d(256, 128, kernel_size=3, padding=1),\n",
    "#             VAE_ResBlock(128, 128),\n",
    "#             VAE_ResBlock(128, 128),\n",
    "            \n",
    "#             # Second upsampling (16x16 -> 32x32)\n",
    "#             nn.Upsample(scale_factor=2),\n",
    "#             nn.Conv2d(128, 64, kernel_size=3, padding=1),\n",
    "#             VAE_ResBlock(64, 64),\n",
    "#             VAE_ResBlock(64, 64),\n",
    "            \n",
    "#             # Output projection\n",
    "#             nn.GroupNorm(32, 64),\n",
    "#             nn.SiLU(),\n",
    "#             nn.Conv2d(64, 3, kernel_size=3, padding=1)\n",
    "#         )\n",
    "\n",
    "#     def forward(self, x: torch.Tensor) -> torch.Tensor:\n",
    "#         # x: (BATCH.SIZE, 4, H / 8, W / 8)\n",
    "\n",
    "#         print(x.shape)\n",
    "#         x /= 0.18215\n",
    "\n",
    "#         for module in self:\n",
    "#             x = module(x)\n",
    "\n",
    "#         print(\"Decoder\")\n",
    "#         print(x.shape)\n",
    "#         return x\n"
   ]
  },
  {
   "cell_type": "code",
   "execution_count": 112,
   "metadata": {},
   "outputs": [],
   "source": [
    "# Hyperparameters\n",
    "BATCH_SIZE = 128\n",
    "LEARNING_RATE = 1e-4\n",
    "EPOCHS = 300\n",
    "LATENT_CHANNELS = 4"
   ]
  },
  {
   "cell_type": "code",
   "execution_count": null,
   "metadata": {},
   "outputs": [],
   "source": []
  },
  {
   "cell_type": "code",
   "execution_count": 113,
   "metadata": {},
   "outputs": [
    {
     "name": "stdout",
     "output_type": "stream",
     "text": [
      "Training dataset size: 1\n"
     ]
    }
   ],
   "source": [
    "dataloader = DataLoader(dataset, batch_size=BATCH_SIZE, shuffle=False)\n",
    "print(f'Training dataset size: {len(dataset)}')"
   ]
  },
  {
   "cell_type": "code",
   "execution_count": 114,
   "metadata": {},
   "outputs": [
    {
     "name": "stdout",
     "output_type": "stream",
     "text": [
      "cuda\n"
     ]
    }
   ],
   "source": [
    "device = torch.device(\"cuda\" if torch.cuda.is_available() else \"cpu\")\n",
    "print(device)\n",
    "encoder = VAE_Encoder().to(device)\n",
    "decoder = VAE_Decoder().to(device)\n",
    "optimizer = optim.Adam(list(encoder.parameters()) + list(decoder.parameters()), lr=LEARNING_RATE)"
   ]
  },
  {
   "cell_type": "code",
   "execution_count": 115,
   "metadata": {},
   "outputs": [],
   "source": [
    "def vae_loss(x, x_hat, mean, log_var):\n",
    "    recon_loss = nn.functional.mse_loss(x_hat, x, reduction='sum') / x.size(0)\n",
    "    \n",
    "    kl_loss = 0.5 * (mean.pow(2) + log_var.exp() - log_var - 1).sum(dim=(1, 2, 3)).mean()\n",
    "    \n",
    "    return recon_loss + kl_loss"
   ]
  },
  {
   "cell_type": "code",
   "execution_count": 116,
   "metadata": {},
   "outputs": [
    {
     "name": "stderr",
     "output_type": "stream",
     "text": [
      "Training:   0%|          | 0/1 [00:00<?, ?batch/s]/tmp/ipykernel_421795/1042413475.py:2: UserWarning: Using a target size (torch.Size([1, 3, 10, 10])) that is different to the input size (torch.Size([1, 3, 8, 8])). This will likely lead to incorrect results due to broadcasting. Please ensure they have the same size.\n",
      "  recon_loss = nn.functional.mse_loss(x_hat, x, reduction='sum') / x.size(0)\n",
      "Training:   0%|          | 0/1 [00:00<?, ?batch/s]"
     ]
    },
    {
     "name": "stdout",
     "output_type": "stream",
     "text": [
      "torch.Size([1, 8, 2, 2])\n",
      "torch.Size([1, 4, 2, 2])\n",
      "torch.Size([1, 4, 2, 2])\n",
      "torch.Size([1, 4, 2, 2])\n",
      "Decoder\n",
      "torch.Size([1, 3, 8, 8])\n"
     ]
    },
    {
     "name": "stderr",
     "output_type": "stream",
     "text": [
      "\n"
     ]
    },
    {
     "ename": "RuntimeError",
     "evalue": "The size of tensor a (8) must match the size of tensor b (10) at non-singleton dimension 3",
     "output_type": "error",
     "traceback": [
      "\u001b[0;31m---------------------------------------------------------------------------\u001b[0m",
      "\u001b[0;31mRuntimeError\u001b[0m                              Traceback (most recent call last)",
      "Cell \u001b[0;32mIn[116], line 18\u001b[0m\n\u001b[1;32m     15\u001b[0m mean, log_var, z \u001b[38;5;241m=\u001b[39m encoder(x, noise)\n\u001b[1;32m     16\u001b[0m x_hat \u001b[38;5;241m=\u001b[39m decoder(z)\n\u001b[0;32m---> 18\u001b[0m loss \u001b[38;5;241m=\u001b[39m \u001b[43mvae_loss\u001b[49m\u001b[43m(\u001b[49m\u001b[43mx\u001b[49m\u001b[43m,\u001b[49m\u001b[43m \u001b[49m\u001b[43mx_hat\u001b[49m\u001b[43m,\u001b[49m\u001b[43m \u001b[49m\u001b[43mmean\u001b[49m\u001b[43m,\u001b[49m\u001b[43m \u001b[49m\u001b[43mlog_var\u001b[49m\u001b[43m)\u001b[49m\n\u001b[1;32m     20\u001b[0m optimizer\u001b[38;5;241m.\u001b[39mzero_grad()\n\u001b[1;32m     21\u001b[0m loss\u001b[38;5;241m.\u001b[39mbackward()\n",
      "Cell \u001b[0;32mIn[115], line 2\u001b[0m, in \u001b[0;36mvae_loss\u001b[0;34m(x, x_hat, mean, log_var)\u001b[0m\n\u001b[1;32m      1\u001b[0m \u001b[38;5;28;01mdef\u001b[39;00m\u001b[38;5;250m \u001b[39m\u001b[38;5;21mvae_loss\u001b[39m(x, x_hat, mean, log_var):\n\u001b[0;32m----> 2\u001b[0m     recon_loss \u001b[38;5;241m=\u001b[39m \u001b[43mnn\u001b[49m\u001b[38;5;241;43m.\u001b[39;49m\u001b[43mfunctional\u001b[49m\u001b[38;5;241;43m.\u001b[39;49m\u001b[43mmse_loss\u001b[49m\u001b[43m(\u001b[49m\u001b[43mx_hat\u001b[49m\u001b[43m,\u001b[49m\u001b[43m \u001b[49m\u001b[43mx\u001b[49m\u001b[43m,\u001b[49m\u001b[43m \u001b[49m\u001b[43mreduction\u001b[49m\u001b[38;5;241;43m=\u001b[39;49m\u001b[38;5;124;43m'\u001b[39;49m\u001b[38;5;124;43msum\u001b[39;49m\u001b[38;5;124;43m'\u001b[39;49m\u001b[43m)\u001b[49m \u001b[38;5;241m/\u001b[39m x\u001b[38;5;241m.\u001b[39msize(\u001b[38;5;241m0\u001b[39m)\n\u001b[1;32m      4\u001b[0m     kl_loss \u001b[38;5;241m=\u001b[39m \u001b[38;5;241m0.5\u001b[39m \u001b[38;5;241m*\u001b[39m (mean\u001b[38;5;241m.\u001b[39mpow(\u001b[38;5;241m2\u001b[39m) \u001b[38;5;241m+\u001b[39m log_var\u001b[38;5;241m.\u001b[39mexp() \u001b[38;5;241m-\u001b[39m log_var \u001b[38;5;241m-\u001b[39m \u001b[38;5;241m1\u001b[39m)\u001b[38;5;241m.\u001b[39msum(dim\u001b[38;5;241m=\u001b[39m(\u001b[38;5;241m1\u001b[39m, \u001b[38;5;241m2\u001b[39m, \u001b[38;5;241m3\u001b[39m))\u001b[38;5;241m.\u001b[39mmean()\n\u001b[1;32m      6\u001b[0m     \u001b[38;5;28;01mreturn\u001b[39;00m recon_loss \u001b[38;5;241m+\u001b[39m kl_loss\n",
      "File \u001b[0;32m~/diffusion-based-environment-generator/venv/lib/python3.10/site-packages/torch/nn/functional.py:3884\u001b[0m, in \u001b[0;36mmse_loss\u001b[0;34m(input, target, size_average, reduce, reduction, weight)\u001b[0m\n\u001b[1;32m   3881\u001b[0m \u001b[38;5;28;01mif\u001b[39;00m size_average \u001b[38;5;129;01mis\u001b[39;00m \u001b[38;5;129;01mnot\u001b[39;00m \u001b[38;5;28;01mNone\u001b[39;00m \u001b[38;5;129;01mor\u001b[39;00m reduce \u001b[38;5;129;01mis\u001b[39;00m \u001b[38;5;129;01mnot\u001b[39;00m \u001b[38;5;28;01mNone\u001b[39;00m:\n\u001b[1;32m   3882\u001b[0m     reduction \u001b[38;5;241m=\u001b[39m _Reduction\u001b[38;5;241m.\u001b[39mlegacy_get_string(size_average, reduce)\n\u001b[0;32m-> 3884\u001b[0m expanded_input, expanded_target \u001b[38;5;241m=\u001b[39m \u001b[43mtorch\u001b[49m\u001b[38;5;241;43m.\u001b[39;49m\u001b[43mbroadcast_tensors\u001b[49m\u001b[43m(\u001b[49m\u001b[38;5;28;43minput\u001b[39;49m\u001b[43m,\u001b[49m\u001b[43m \u001b[49m\u001b[43mtarget\u001b[49m\u001b[43m)\u001b[49m\n\u001b[1;32m   3886\u001b[0m \u001b[38;5;28;01mif\u001b[39;00m weight \u001b[38;5;129;01mis\u001b[39;00m \u001b[38;5;129;01mnot\u001b[39;00m \u001b[38;5;28;01mNone\u001b[39;00m:\n\u001b[1;32m   3887\u001b[0m     \u001b[38;5;28;01mif\u001b[39;00m weight\u001b[38;5;241m.\u001b[39msize() \u001b[38;5;241m!=\u001b[39m \u001b[38;5;28minput\u001b[39m\u001b[38;5;241m.\u001b[39msize():\n",
      "File \u001b[0;32m~/diffusion-based-environment-generator/venv/lib/python3.10/site-packages/torch/functional.py:76\u001b[0m, in \u001b[0;36mbroadcast_tensors\u001b[0;34m(*tensors)\u001b[0m\n\u001b[1;32m     74\u001b[0m \u001b[38;5;28;01mif\u001b[39;00m has_torch_function(tensors):\n\u001b[1;32m     75\u001b[0m     \u001b[38;5;28;01mreturn\u001b[39;00m handle_torch_function(broadcast_tensors, tensors, \u001b[38;5;241m*\u001b[39mtensors)\n\u001b[0;32m---> 76\u001b[0m \u001b[38;5;28;01mreturn\u001b[39;00m \u001b[43m_VF\u001b[49m\u001b[38;5;241;43m.\u001b[39;49m\u001b[43mbroadcast_tensors\u001b[49m\u001b[43m(\u001b[49m\u001b[43mtensors\u001b[49m\u001b[43m)\u001b[49m\n",
      "\u001b[0;31mRuntimeError\u001b[0m: The size of tensor a (8) must match the size of tensor b (10) at non-singleton dimension 3"
     ]
    }
   ],
   "source": [
    "from tqdm import tqdm\n",
    "\n",
    "train_losses = []\n",
    "for epoch in range(EPOCHS):\n",
    "    encoder.train()\n",
    "    decoder.train()\n",
    "    train_loss = 0.0\n",
    "    \n",
    "    for batch_idx, x in enumerate(tqdm(dataloader, desc=\"Training\", unit=\"batch\")):\n",
    "        x = x.to(torch.float32).to(device).permute(0, 3, 1, 2)\n",
    "        batch_size = x.size(0)\n",
    "        \n",
    "        noise = torch.randn(batch_size, LATENT_CHANNELS, 2, 2).to(device)\n",
    "        \n",
    "        mean, log_var, z = encoder(x, noise)\n",
    "        x_hat = decoder(z)\n",
    "        \n",
    "        loss = vae_loss(x, x_hat, mean, log_var)\n",
    "        \n",
    "        optimizer.zero_grad()\n",
    "        loss.backward()\n",
    "        optimizer.step()\n",
    "        \n",
    "        train_loss += loss.item() * batch_size\n",
    "        \n",
    "    train_loss = train_loss / len(dataloader.dataset)\n",
    "    train_losses.append(train_loss)\n",
    "    print(f'Epoch [{epoch+1}/{EPOCHS}], Train Loss: {train_loss:.4f}')\n",
    "\n",
    "plt.figure(figsize=(10, 5))\n",
    "plt.plot(range(1, EPOCHS + 1), train_losses, label='Train Loss')\n",
    "plt.xlabel('Epoch')\n",
    "plt.ylabel('Loss')\n",
    "plt.title('VAE Training Loss')\n",
    "plt.legend()\n",
    "plt.show()"
   ]
  },
  {
   "cell_type": "code",
   "execution_count": 99,
   "metadata": {},
   "outputs": [],
   "source": [
    "def visualize_grid_world(grid):\n",
    "    \"\"\"\n",
    "    Converts a 3-channel grid world into an RGB image for visualization.\n",
    "    - First channel: Wall (0 or 1)\n",
    "    - Second channel: Source (1 if source)\n",
    "    - Third channel: Destination (1 if destination)\n",
    "    \"\"\"\n",
    "    # Extract channels\n",
    "\n",
    "    print(grid[:, :, 0])\n",
    "    wall = grid[:, :, 0] < 0.5\n",
    "    source = grid[:, :, 1] >= 0.5\n",
    "    destination = grid[:, :, 2] >= 1\n",
    "    \n",
    "    # Create an RGB image with a white background (1, 1, 1)\n",
    "    img = np.ones((*wall.shape, 3), dtype=np.float32)  # White background\n",
    "    \n",
    "    # Set walls to black (0, 0, 0)\n",
    "    img[wall] = np.array([0, 0, 0])\n",
    "    \n",
    "    # Set source to blue (0, 0, 1)\n",
    "    img[source] = np.array([0, 0, 1])\n",
    "    \n",
    "    # Set destination to green (0, 1, 0)\n",
    "    img[destination] = np.array([0, 1, 0])\n",
    "    \n",
    "    return img\n"
   ]
  },
  {
   "cell_type": "code",
   "execution_count": 100,
   "metadata": {},
   "outputs": [
    {
     "ename": "RuntimeError",
     "evalue": "The size of tensor a (2) must match the size of tensor b (3) at non-singleton dimension 3",
     "output_type": "error",
     "traceback": [
      "\u001b[0;31m---------------------------------------------------------------------------\u001b[0m",
      "\u001b[0;31mRuntimeError\u001b[0m                              Traceback (most recent call last)",
      "Cell \u001b[0;32mIn[100], line 16\u001b[0m\n\u001b[1;32m     13\u001b[0m noise \u001b[38;5;241m=\u001b[39m torch\u001b[38;5;241m.\u001b[39mrandn(\u001b[38;5;241m1\u001b[39m, LATENT_CHANNELS, \u001b[38;5;241m3\u001b[39m, \u001b[38;5;241m3\u001b[39m)\u001b[38;5;241m.\u001b[39mto(device)\n\u001b[1;32m     15\u001b[0m \u001b[38;5;66;03m# Encoder and Decoder\u001b[39;00m\n\u001b[0;32m---> 16\u001b[0m _, _, z \u001b[38;5;241m=\u001b[39m \u001b[43mencoder\u001b[49m\u001b[43m(\u001b[49m\u001b[43mimg\u001b[49m\u001b[43m,\u001b[49m\u001b[43m \u001b[49m\u001b[43mnoise\u001b[49m\u001b[43m)\u001b[49m\n\u001b[1;32m     17\u001b[0m reconstructed \u001b[38;5;241m=\u001b[39m decoder(z)\u001b[38;5;241m.\u001b[39mcpu()\u001b[38;5;241m.\u001b[39msqueeze(\u001b[38;5;241m0\u001b[39m)\n\u001b[1;32m     19\u001b[0m original \u001b[38;5;241m=\u001b[39m img\u001b[38;5;241m.\u001b[39mcpu()\u001b[38;5;241m.\u001b[39msqueeze(\u001b[38;5;241m0\u001b[39m)\n",
      "File \u001b[0;32m~/diffusion-based-environment-generator/venv/lib/python3.10/site-packages/torch/nn/modules/module.py:1739\u001b[0m, in \u001b[0;36mModule._wrapped_call_impl\u001b[0;34m(self, *args, **kwargs)\u001b[0m\n\u001b[1;32m   1737\u001b[0m     \u001b[38;5;28;01mreturn\u001b[39;00m \u001b[38;5;28mself\u001b[39m\u001b[38;5;241m.\u001b[39m_compiled_call_impl(\u001b[38;5;241m*\u001b[39margs, \u001b[38;5;241m*\u001b[39m\u001b[38;5;241m*\u001b[39mkwargs)  \u001b[38;5;66;03m# type: ignore[misc]\u001b[39;00m\n\u001b[1;32m   1738\u001b[0m \u001b[38;5;28;01melse\u001b[39;00m:\n\u001b[0;32m-> 1739\u001b[0m     \u001b[38;5;28;01mreturn\u001b[39;00m \u001b[38;5;28;43mself\u001b[39;49m\u001b[38;5;241;43m.\u001b[39;49m\u001b[43m_call_impl\u001b[49m\u001b[43m(\u001b[49m\u001b[38;5;241;43m*\u001b[39;49m\u001b[43margs\u001b[49m\u001b[43m,\u001b[49m\u001b[43m \u001b[49m\u001b[38;5;241;43m*\u001b[39;49m\u001b[38;5;241;43m*\u001b[39;49m\u001b[43mkwargs\u001b[49m\u001b[43m)\u001b[49m\n",
      "File \u001b[0;32m~/diffusion-based-environment-generator/venv/lib/python3.10/site-packages/torch/nn/modules/module.py:1750\u001b[0m, in \u001b[0;36mModule._call_impl\u001b[0;34m(self, *args, **kwargs)\u001b[0m\n\u001b[1;32m   1745\u001b[0m \u001b[38;5;66;03m# If we don't have any hooks, we want to skip the rest of the logic in\u001b[39;00m\n\u001b[1;32m   1746\u001b[0m \u001b[38;5;66;03m# this function, and just call forward.\u001b[39;00m\n\u001b[1;32m   1747\u001b[0m \u001b[38;5;28;01mif\u001b[39;00m \u001b[38;5;129;01mnot\u001b[39;00m (\u001b[38;5;28mself\u001b[39m\u001b[38;5;241m.\u001b[39m_backward_hooks \u001b[38;5;129;01mor\u001b[39;00m \u001b[38;5;28mself\u001b[39m\u001b[38;5;241m.\u001b[39m_backward_pre_hooks \u001b[38;5;129;01mor\u001b[39;00m \u001b[38;5;28mself\u001b[39m\u001b[38;5;241m.\u001b[39m_forward_hooks \u001b[38;5;129;01mor\u001b[39;00m \u001b[38;5;28mself\u001b[39m\u001b[38;5;241m.\u001b[39m_forward_pre_hooks\n\u001b[1;32m   1748\u001b[0m         \u001b[38;5;129;01mor\u001b[39;00m _global_backward_pre_hooks \u001b[38;5;129;01mor\u001b[39;00m _global_backward_hooks\n\u001b[1;32m   1749\u001b[0m         \u001b[38;5;129;01mor\u001b[39;00m _global_forward_hooks \u001b[38;5;129;01mor\u001b[39;00m _global_forward_pre_hooks):\n\u001b[0;32m-> 1750\u001b[0m     \u001b[38;5;28;01mreturn\u001b[39;00m \u001b[43mforward_call\u001b[49m\u001b[43m(\u001b[49m\u001b[38;5;241;43m*\u001b[39;49m\u001b[43margs\u001b[49m\u001b[43m,\u001b[49m\u001b[43m \u001b[49m\u001b[38;5;241;43m*\u001b[39;49m\u001b[38;5;241;43m*\u001b[39;49m\u001b[43mkwargs\u001b[49m\u001b[43m)\u001b[49m\n\u001b[1;32m   1752\u001b[0m result \u001b[38;5;241m=\u001b[39m \u001b[38;5;28;01mNone\u001b[39;00m\n\u001b[1;32m   1753\u001b[0m called_always_called_hooks \u001b[38;5;241m=\u001b[39m \u001b[38;5;28mset\u001b[39m()\n",
      "Cell \u001b[0;32mIn[93], line 54\u001b[0m, in \u001b[0;36mVAE_Encoder.forward\u001b[0;34m(self, x, noise)\u001b[0m\n\u001b[1;32m     51\u001b[0m var \u001b[38;5;241m=\u001b[39m log_var\u001b[38;5;241m.\u001b[39mexp()\n\u001b[1;32m     52\u001b[0m stdev \u001b[38;5;241m=\u001b[39m var\u001b[38;5;241m.\u001b[39msqrt()\n\u001b[0;32m---> 54\u001b[0m x \u001b[38;5;241m=\u001b[39m mean \u001b[38;5;241m+\u001b[39m \u001b[43mstdev\u001b[49m\u001b[43m \u001b[49m\u001b[38;5;241;43m*\u001b[39;49m\u001b[43m \u001b[49m\u001b[43mnoise\u001b[49m\n\u001b[1;32m     56\u001b[0m x \u001b[38;5;241m*\u001b[39m\u001b[38;5;241m=\u001b[39m \u001b[38;5;241m0.18215\u001b[39m\n\u001b[1;32m     58\u001b[0m \u001b[38;5;66;03m# return x\u001b[39;00m\n",
      "\u001b[0;31mRuntimeError\u001b[0m: The size of tensor a (2) must match the size of tensor b (3) at non-singleton dimension 3"
     ]
    },
    {
     "data": {
      "image/png": "[encoded data removed]",
      "text/plain": [
       "<Figure size 1500x800 with 15 Axes>"
      ]
     },
     "metadata": {},
     "output_type": "display_data"
    }
   ],
   "source": [
    "encoder.eval()\n",
    "decoder.eval()\n",
    "\n",
    "with torch.no_grad():\n",
    "    fig, axes = plt.subplots(3, 5, figsize=(15, 8))  # Create 3x5 grid of subplots\n",
    "    \n",
    "    for i in range(5):\n",
    "        idx = np.random.randint(len(dataset))\n",
    "        img = dataset[idx]  # Ignore the path length label for reconstruction\n",
    "        img = img.unsqueeze(0).to(torch.float32).to(device).permute(0, 3, 1, 2)\n",
    "        \n",
    "        # Generate noise for reparameterization trick\n",
    "        noise = torch.randn(1, LATENT_CHANNELS, 3, 3).to(device)\n",
    "        \n",
    "        # Encoder and Decoder\n",
    "        _, _, z = encoder(img, noise)\n",
    "        reconstructed = decoder(z).cpu().squeeze(0)\n",
    "        \n",
    "        original = img.cpu().squeeze(0)\n",
    "        \n",
    "        # Convert the grid world to RGB for visualization\n",
    "        original_rgb = visualize_grid_world(original.permute(1, 2, 0).numpy())\n",
    "        reconstructed_rgb = visualize_grid_world(reconstructed.permute(1, 2, 0).numpy())\n",
    "        \n",
    "        # Compute the absolute difference between original and reconstructed\n",
    "        difference = np.abs(original_rgb - reconstructed_rgb)\n",
    "        \n",
    "        # Original Image\n",
    "        axes[0, i].imshow(original_rgb)\n",
    "        axes[0, i].axis('off')\n",
    "        axes[0, i].set_title('Original')\n",
    "        \n",
    "        # Reconstructed Image\n",
    "        axes[1, i].imshow(reconstructed_rgb)\n",
    "        axes[1, i].axis('off')\n",
    "        axes[1, i].set_title('Reconstructed')\n",
    "        \n",
    "        # Difference Image (showing difference in RGB space)\n",
    "        axes[2, i].imshow(difference)\n",
    "        axes[2, i].axis('off')\n",
    "        axes[2, i].set_title('Difference')\n",
    "    \n",
    "    plt.tight_layout()\n",
    "    plt.show()"
   ]
  },
  {
   "cell_type": "code",
   "execution_count": null,
   "metadata": {},
   "outputs": [],
   "source": []
  },
  {
   "cell_type": "code",
   "execution_count": null,
   "metadata": {},
   "outputs": [],
   "source": []
  }
 ],
 "metadata": {
  "kernelspec": {
   "display_name": "venv",
   "language": "python",
   "name": "python3"
  },
  "language_info": {
   "codemirror_mode": {
    "name": "ipython",
    "version": 3
   },
   "file_extension": ".py",
   "mimetype": "text/x-python",
   "name": "python",
   "nbconvert_exporter": "python",
   "pygments_lexer": "ipython3",
   "version": "3.10.12"
  }
 },
 "nbformat": 4,
 "nbformat_minor": 2
}
